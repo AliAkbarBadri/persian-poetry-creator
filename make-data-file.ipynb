{
  "nbformat": 4,
  "nbformat_minor": 0,
  "metadata": {
    "colab": {
      "name": "tempo.ipynb",
      "provenance": [],
      "include_colab_link": true
    },
    "kernelspec": {
      "name": "python3",
      "display_name": "Python 3"
    }
  },
  "cells": [
    {
      "cell_type": "markdown",
      "metadata": {
        "id": "view-in-github",
        "colab_type": "text"
      },
      "source": [
        "<a href=\"https://colab.research.google.com/github/aliakbarbadri/persian-poetry-creator/blob/master/make-data-file.ipynb\" target=\"_parent\"><img src=\"https://colab.research.google.com/assets/colab-badge.svg\" alt=\"Open In Colab\"/></a>"
      ]
    },
    {
      "cell_type": "code",
      "metadata": {
        "id": "nF-7m57sBgdp",
        "colab_type": "code",
        "colab": {}
      },
      "source": [
        "! wget --no-check-certificate https://github.com/aliakbarbadri/persian-poetry-creator/blob/master/Shahnameh.zip?raw=true -O /tmp/Shahnameh.zip\n",
        "! unzip /tmp/Shahnameh.zip "
      ],
      "execution_count": 0,
      "outputs": []
    },
    {
      "cell_type": "code",
      "metadata": {
        "id": "FygNjkngkN2i",
        "colab_type": "code",
        "colab": {}
      },
      "source": [
        "import os\n",
        "corpus_url = \"Shahnameh/shahname\"\n",
        "corpus = \"\"\n",
        "for filename in os.listdir(corpus_url):\n",
        "   with open(os.path.join(corpus_url, filename), 'r') as f:\n",
        "      text = f.read()\n",
        "      corpus += text\n",
        "      # corpus += \"\\n\""
      ],
      "execution_count": 0,
      "outputs": []
    },
    {
      "cell_type": "code",
      "metadata": {
        "id": "AFP3K301kTBN",
        "colab_type": "code",
        "colab": {}
      },
      "source": [
        "file_corpus = open(\"shahname2.txt\", \"a\")\n",
        "file_corpus.write(corpus)\n",
        "file_corpus.close()"
      ],
      "execution_count": 0,
      "outputs": []
    }
  ]
}