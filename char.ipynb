{
  "nbformat": 4,
  "nbformat_minor": 0,
  "metadata": {
    "colab": {
      "name": "tempo.ipynb",
      "provenance": [],
      "toc_visible": true,
      "include_colab_link": true
    },
    "kernelspec": {
      "name": "python3",
      "display_name": "Python 3"
    },
    "accelerator": "GPU"
  },
  "cells": [
    {
      "cell_type": "markdown",
      "metadata": {
        "id": "view-in-github",
        "colab_type": "text"
      },
      "source": [
        "<a href=\"https://colab.research.google.com/github/aliakbarbadri/persian-poetry-creator/blob/master/char.ipynb\" target=\"_parent\"><img src=\"https://colab.research.google.com/assets/colab-badge.svg\" alt=\"Open In Colab\"/></a>"
      ]
    },
    {
      "cell_type": "code",
      "metadata": {
        "id": "nF-7m57sBgdp",
        "colab_type": "code",
        "colab": {}
      },
      "source": [
        "import tensorflow as tf\n",
        "from tensorflow import keras\n",
        "import numpy as np\n",
        "import pandas as pd\n",
        "import matplotlib.pyplot as plt\n",
        "import os\n",
        "import time"
      ],
      "execution_count": 0,
      "outputs": []
    },
    {
      "cell_type": "markdown",
      "metadata": {
        "id": "wXgkMK0iMQDL",
        "colab_type": "text"
      },
      "source": [
        "# Load the data"
      ]
    },
    {
      "cell_type": "code",
      "metadata": {
        "id": "l8wd1saxwPtu",
        "colab_type": "code",
        "outputId": "fe7c852e-88b2-46a3-edcb-ccbb0bee3ed8",
        "colab": {
          "base_uri": "https://localhost:8080/",
          "height": 51
        }
      },
      "source": [
        "url = \"https://raw.githubusercontent.com/aliakbarbadri/persian-poetry-creator/master/shahname2.txt\"\n",
        "filepath = keras.utils.get_file(\"shahname2.txt\", url) \n",
        "corpus = open(filepath, 'rb').read().decode(encoding='utf-8')\n",
        "corpus = corpus.replace(\"\\t\",\" \\t \").replace(\"\\n\", \" \\n \")"
      ],
      "execution_count": 2,
      "outputs": [
        {
          "output_type": "stream",
          "text": [
            "Downloading data from https://raw.githubusercontent.com/aliakbarbadri/persian-poetry-creator/master/shahname2.txt\n",
            "4554752/4553829 [==============================] - 0s 0us/step\n"
          ],
          "name": "stdout"
        }
      ]
    },
    {
      "cell_type": "code",
      "metadata": {
        "id": "OHzCO_cSlYoO",
        "colab_type": "code",
        "outputId": "674d7b7c-0bf1-4cdd-ece0-e67a44cbcd5c",
        "colab": {
          "base_uri": "https://localhost:8080/",
          "height": 34
        }
      },
      "source": [
        "vocab = sorted(set(corpus))\n",
        "print(len(vocab), \"chars\")"
      ],
      "execution_count": 3,
      "outputs": [
        {
          "output_type": "stream",
          "text": [
            "48 chars\n"
          ],
          "name": "stdout"
        }
      ]
    },
    {
      "cell_type": "code",
      "metadata": {
        "id": "S8ehHLWYLtqw",
        "colab_type": "code",
        "outputId": "225f7de8-70e6-466c-a283-61fcd1df37cf",
        "colab": {
          "base_uri": "https://localhost:8080/",
          "height": 54
        }
      },
      "source": [
        "print(vocab)"
      ],
      "execution_count": 4,
      "outputs": [
        {
          "output_type": "stream",
          "text": [
            "['\\t', '\\n', ' ', '(', ')', '«', '»', '،', '؟', 'ء', 'آ', 'أ', 'ؤ', 'ئ', 'ا', 'ب', 'ت', 'ث', 'ج', 'ح', 'خ', 'د', 'ذ', 'ر', 'ز', 'س', 'ش', 'ص', 'ض', 'ط', 'ظ', 'ع', 'غ', 'ف', 'ق', 'ل', 'م', 'ن', 'ه', 'و', 'ٔ', 'پ', 'چ', 'ژ', 'ک', 'گ', 'ی', '\\u200c']\n"
          ],
          "name": "stdout"
        }
      ]
    },
    {
      "cell_type": "code",
      "metadata": {
        "id": "Y9JzIK9elja4",
        "colab_type": "code",
        "colab": {}
      },
      "source": [
        "char2idx = {u:i for i, u in enumerate(vocab)}\n",
        "idx2char = np.array(vocab)\n",
        "text_as_int = np.array([char2idx[c] for c in corpus])"
      ],
      "execution_count": 0,
      "outputs": []
    },
    {
      "cell_type": "code",
      "metadata": {
        "id": "U22k7ShUl0xm",
        "colab_type": "code",
        "colab": {}
      },
      "source": [
        "seq_length = 1000\n",
        "examples_per_epoch = len(corpus)//(seq_length+1)\n",
        "char_dataset = tf.data.Dataset.from_tensor_slices(text_as_int)\n",
        "sequences = char_dataset.batch(seq_length+1, drop_remainder=True)"
      ],
      "execution_count": 0,
      "outputs": []
    },
    {
      "cell_type": "code",
      "metadata": {
        "id": "4XlooC1Ongpo",
        "colab_type": "code",
        "colab": {}
      },
      "source": [
        "def split_input_target(chunk):\n",
        "    input_text = chunk[:-1]\n",
        "    target_text = chunk[1:]\n",
        "    return input_text, target_text\n",
        "\n",
        "dataset = sequences.map(split_input_target)"
      ],
      "execution_count": 0,
      "outputs": []
    },
    {
      "cell_type": "code",
      "metadata": {
        "id": "FfQ5q86yoePB",
        "colab_type": "code",
        "outputId": "da51d817-ffc7-48fc-f81a-5daaa8b75094",
        "colab": {
          "base_uri": "https://localhost:8080/",
          "height": 34
        }
      },
      "source": [
        "BATCH_SIZE = 64\n",
        "BUFFER_SIZE = 10000\n",
        "dataset = dataset.shuffle(BUFFER_SIZE).batch(BATCH_SIZE, drop_remainder=True)\n",
        "dataset"
      ],
      "execution_count": 8,
      "outputs": [
        {
          "output_type": "execute_result",
          "data": {
            "text/plain": [
              "<BatchDataset shapes: ((64, 1000), (64, 1000)), types: (tf.int64, tf.int64)>"
            ]
          },
          "metadata": {
            "tags": []
          },
          "execution_count": 8
        }
      ]
    },
    {
      "cell_type": "markdown",
      "metadata": {
        "id": "-11mQDSktgRz",
        "colab_type": "text"
      },
      "source": [
        "# Model (GRU)"
      ]
    },
    {
      "cell_type": "code",
      "metadata": {
        "id": "jAMXrqzeIQn5",
        "colab_type": "code",
        "colab": {}
      },
      "source": [
        "vocab_size = len(vocab)\n",
        "embedding_dim = 256\n",
        "rnn_units = 1024"
      ],
      "execution_count": 0,
      "outputs": []
    },
    {
      "cell_type": "code",
      "metadata": {
        "id": "uR9CkAybSIja",
        "colab_type": "code",
        "colab": {}
      },
      "source": [
        "def create_model_gru(vocab_size=len(vocab), embedding_dim=embedding_dim, rnn_units=rnn_units, batch_size=BATCH_SIZE):\n",
        "  model = keras.Sequential()\n",
        "  model.add(tf.keras.layers.Embedding(vocab_size, embedding_dim,\n",
        "                              batch_input_shape=[batch_size, None]))\n",
        "  model.add(tf.keras.layers.GRU(rnn_units,return_sequences=True,stateful=True,\n",
        "                              recurrent_initializer='glorot_uniform',\n",
        "                              recurrent_regularizer=keras.regularizers.l2(0.01)\n",
        "                              ))\n",
        "  model.add(tf.keras.layers.GRU(rnn_units,return_sequences=True,stateful=True,\n",
        "                              recurrent_initializer='glorot_uniform',\n",
        "                              recurrent_regularizer=keras.regularizers.l2(0.01)\n",
        "                              ))\n",
        "  model.add(tf.keras.layers.Dense(vocab_size))\n",
        "  return model"
      ],
      "execution_count": 0,
      "outputs": []
    },
    {
      "cell_type": "code",
      "metadata": {
        "id": "McBFd1ppopSE",
        "colab_type": "code",
        "outputId": "8fb75431-4b92-4a40-a1dc-74a061faf4b6",
        "colab": {
          "base_uri": "https://localhost:8080/",
          "height": 289
        }
      },
      "source": [
        "gru_model = create_model_gru()\n",
        "gru_model.summary()\n",
        "gru_model.compile(optimizer='adam', loss=keras.losses.SparseCategoricalCrossentropy(from_logits=True), metrics=['accuracy'])"
      ],
      "execution_count": 0,
      "outputs": [
        {
          "output_type": "stream",
          "text": [
            "Model: \"sequential_2\"\n",
            "_________________________________________________________________\n",
            "Layer (type)                 Output Shape              Param #   \n",
            "=================================================================\n",
            "embedding_2 (Embedding)      (64, None, 256)           12288     \n",
            "_________________________________________________________________\n",
            "gru_4 (GRU)                  (64, None, 1024)          3938304   \n",
            "_________________________________________________________________\n",
            "gru_5 (GRU)                  (64, None, 1024)          6297600   \n",
            "_________________________________________________________________\n",
            "dense_2 (Dense)              (64, None, 48)            49200     \n",
            "=================================================================\n",
            "Total params: 10,297,392\n",
            "Trainable params: 10,297,392\n",
            "Non-trainable params: 0\n",
            "_________________________________________________________________\n"
          ],
          "name": "stdout"
        }
      ]
    },
    {
      "cell_type": "code",
      "metadata": {
        "id": "Qj5ozZC5pcpG",
        "colab_type": "code",
        "outputId": "249de2d2-8a62-4472-8fb4-0fd5d1280ef2",
        "colab": {
          "base_uri": "https://localhost:8080/",
          "height": 1000
        }
      },
      "source": [
        "history = gru_model.fit(dataset, epochs=50)"
      ],
      "execution_count": 0,
      "outputs": [
        {
          "output_type": "stream",
          "text": [
            "Epoch 1/50\n",
            "42/42 [==============================] - 110s 3s/step - loss: 11.2932 - accuracy: 0.2322\n",
            "Epoch 2/50\n",
            "42/42 [==============================] - 110s 3s/step - loss: 2.4952 - accuracy: 0.3244\n",
            "Epoch 3/50\n",
            "42/42 [==============================] - 110s 3s/step - loss: 2.2354 - accuracy: 0.3522\n",
            "Epoch 4/50\n",
            "42/42 [==============================] - 111s 3s/step - loss: 2.1602 - accuracy: 0.3667\n",
            "Epoch 5/50\n",
            "42/42 [==============================] - 111s 3s/step - loss: 2.1044 - accuracy: 0.3886\n",
            "Epoch 6/50\n",
            "42/42 [==============================] - 111s 3s/step - loss: 2.0445 - accuracy: 0.4075\n",
            "Epoch 7/50\n",
            "42/42 [==============================] - 111s 3s/step - loss: 1.9892 - accuracy: 0.4274\n",
            "Epoch 8/50\n",
            "42/42 [==============================] - 111s 3s/step - loss: 1.9345 - accuracy: 0.4437\n",
            "Epoch 9/50\n",
            "42/42 [==============================] - 111s 3s/step - loss: 1.8794 - accuracy: 0.4595\n",
            "Epoch 10/50\n",
            "42/42 [==============================] - 111s 3s/step - loss: 1.8411 - accuracy: 0.4716\n",
            "Epoch 11/50\n",
            "42/42 [==============================] - 111s 3s/step - loss: 1.7985 - accuracy: 0.4845\n",
            "Epoch 12/50\n",
            "42/42 [==============================] - 111s 3s/step - loss: 1.7645 - accuracy: 0.4927\n",
            "Epoch 13/50\n",
            "42/42 [==============================] - 111s 3s/step - loss: 1.7492 - accuracy: 0.4978\n",
            "Epoch 14/50\n",
            "42/42 [==============================] - 111s 3s/step - loss: 1.7082 - accuracy: 0.5068\n",
            "Epoch 15/50\n",
            "42/42 [==============================] - 111s 3s/step - loss: 1.6869 - accuracy: 0.5122\n",
            "Epoch 16/50\n",
            "42/42 [==============================] - 111s 3s/step - loss: 1.6703 - accuracy: 0.5163\n",
            "Epoch 17/50\n",
            "42/42 [==============================] - 111s 3s/step - loss: 1.6475 - accuracy: 0.5225\n",
            "Epoch 18/50\n",
            "42/42 [==============================] - 111s 3s/step - loss: 1.6274 - accuracy: 0.5273\n",
            "Epoch 19/50\n",
            "42/42 [==============================] - 111s 3s/step - loss: 1.6282 - accuracy: 0.5281\n",
            "Epoch 20/50\n",
            "42/42 [==============================] - 111s 3s/step - loss: 1.5977 - accuracy: 0.5343\n",
            "Epoch 21/50\n",
            "42/42 [==============================] - 111s 3s/step - loss: 1.5852 - accuracy: 0.5373\n",
            "Epoch 22/50\n",
            "42/42 [==============================] - 111s 3s/step - loss: 1.5724 - accuracy: 0.5404\n",
            "Epoch 23/50\n",
            "42/42 [==============================] - 111s 3s/step - loss: 1.5760 - accuracy: 0.5402\n",
            "Epoch 24/50\n",
            "42/42 [==============================] - 111s 3s/step - loss: 1.5460 - accuracy: 0.5478\n",
            "Epoch 25/50\n",
            "42/42 [==============================] - 110s 3s/step - loss: 1.5418 - accuracy: 0.5495\n",
            "Epoch 26/50\n",
            "42/42 [==============================] - 110s 3s/step - loss: 1.5267 - accuracy: 0.5546\n",
            "Epoch 27/50\n",
            "42/42 [==============================] - 110s 3s/step - loss: 1.5155 - accuracy: 0.5582\n",
            "Epoch 28/50\n",
            "42/42 [==============================] - 110s 3s/step - loss: 1.5043 - accuracy: 0.5619\n",
            "Epoch 29/50\n",
            "42/42 [==============================] - 111s 3s/step - loss: 1.4958 - accuracy: 0.5645\n",
            "Epoch 30/50\n",
            "42/42 [==============================] - 110s 3s/step - loss: 1.4890 - accuracy: 0.5665\n",
            "Epoch 31/50\n",
            "42/42 [==============================] - 110s 3s/step - loss: 1.4851 - accuracy: 0.5689\n",
            "Epoch 32/50\n",
            "42/42 [==============================] - 111s 3s/step - loss: 1.4841 - accuracy: 0.5696\n",
            "Epoch 33/50\n",
            "42/42 [==============================] - 111s 3s/step - loss: 1.4581 - accuracy: 0.5765\n",
            "Epoch 34/50\n",
            "42/42 [==============================] - 110s 3s/step - loss: 1.4527 - accuracy: 0.5780\n",
            "Epoch 35/50\n",
            "42/42 [==============================] - 110s 3s/step - loss: 1.4428 - accuracy: 0.5818\n",
            "Epoch 36/50\n",
            "42/42 [==============================] - 110s 3s/step - loss: 1.4277 - accuracy: 0.5865\n",
            "Epoch 37/50\n",
            "42/42 [==============================] - 110s 3s/step - loss: 1.4152 - accuracy: 0.5883\n",
            "Epoch 38/50\n",
            "42/42 [==============================] - 110s 3s/step - loss: 1.4066 - accuracy: 0.5905\n",
            "Epoch 39/50\n",
            "42/42 [==============================] - 110s 3s/step - loss: 1.4010 - accuracy: 0.5913\n",
            "Epoch 40/50\n",
            "42/42 [==============================] - 110s 3s/step - loss: 1.3919 - accuracy: 0.5938\n",
            "Epoch 41/50\n",
            "42/42 [==============================] - 110s 3s/step - loss: 1.3855 - accuracy: 0.5956\n",
            "Epoch 42/50\n",
            "42/42 [==============================] - 110s 3s/step - loss: 1.3807 - accuracy: 0.5962\n",
            "Epoch 43/50\n",
            "42/42 [==============================] - 110s 3s/step - loss: 1.3741 - accuracy: 0.5982\n",
            "Epoch 44/50\n",
            "42/42 [==============================] - 110s 3s/step - loss: 1.3665 - accuracy: 0.6000\n",
            "Epoch 45/50\n",
            "42/42 [==============================] - 110s 3s/step - loss: 1.3595 - accuracy: 0.6020\n",
            "Epoch 46/50\n",
            "42/42 [==============================] - 110s 3s/step - loss: 1.3539 - accuracy: 0.6029\n",
            "Epoch 47/50\n",
            "42/42 [==============================] - 110s 3s/step - loss: 1.3479 - accuracy: 0.6043\n",
            "Epoch 48/50\n",
            "42/42 [==============================] - 110s 3s/step - loss: 1.3424 - accuracy: 0.6059\n",
            "Epoch 49/50\n",
            "42/42 [==============================] - 110s 3s/step - loss: 1.3367 - accuracy: 0.6072\n",
            "Epoch 50/50\n",
            "42/42 [==============================] - 110s 3s/step - loss: 1.3319 - accuracy: 0.6087\n"
          ],
          "name": "stdout"
        }
      ]
    },
    {
      "cell_type": "code",
      "metadata": {
        "id": "Vo4OiJneUSQy",
        "colab_type": "code",
        "outputId": "6c91eff8-a099-4ce3-f92e-b5181acdb6c6",
        "colab": {
          "base_uri": "https://localhost:8080/",
          "height": 289
        }
      },
      "source": [
        "main_gru_model = create_model_gru(batch_size=1)\n",
        "main_gru_model.set_weights(gru_model.get_weights())\n",
        "main_gru_model.summary()"
      ],
      "execution_count": 0,
      "outputs": [
        {
          "output_type": "stream",
          "text": [
            "Model: \"sequential_3\"\n",
            "_________________________________________________________________\n",
            "Layer (type)                 Output Shape              Param #   \n",
            "=================================================================\n",
            "embedding_3 (Embedding)      (1, None, 256)            12288     \n",
            "_________________________________________________________________\n",
            "gru_6 (GRU)                  (1, None, 1024)           3938304   \n",
            "_________________________________________________________________\n",
            "gru_7 (GRU)                  (1, None, 1024)           6297600   \n",
            "_________________________________________________________________\n",
            "dense_3 (Dense)              (1, None, 48)             49200     \n",
            "=================================================================\n",
            "Total params: 10,297,392\n",
            "Trainable params: 10,297,392\n",
            "Non-trainable params: 0\n",
            "_________________________________________________________________\n"
          ],
          "name": "stdout"
        }
      ]
    },
    {
      "cell_type": "code",
      "metadata": {
        "id": "6l1UtOJ6p4Dx",
        "colab_type": "code",
        "colab": {}
      },
      "source": [
        "def generate_text(model, start_string, temperature = 1.0):\n",
        "  num_generate = 1000\n",
        "  input_eval = [char2idx[s] for s in start_string]\n",
        "  input_eval = tf.expand_dims(input_eval, 0)\n",
        "  text_generated = []\n",
        "  model.reset_states()\n",
        "  for i in range(num_generate):\n",
        "      predictions = model(input_eval)\n",
        "      predictions = tf.squeeze(predictions, 0)\n",
        "      predictions = predictions / temperature\n",
        "      predicted_id = tf.random.categorical(predictions, num_samples=1)[-1,0].numpy()\n",
        "      input_eval = tf.expand_dims([predicted_id], 0)\n",
        "      text_generated.append(idx2char[predicted_id])\n",
        "  return (start_string + ''.join(text_generated))"
      ],
      "execution_count": 0,
      "outputs": []
    },
    {
      "cell_type": "code",
      "metadata": {
        "id": "wek0TmIevjGh",
        "colab_type": "code",
        "colab": {
          "base_uri": "https://localhost:8080/",
          "height": 306
        },
        "outputId": "9b503940-8e12-4031-be3b-dadbab5ca8b1"
      },
      "source": [
        "# main_gru_model = tf.keras.models.load_model('char_gru.h5')\n",
        "# main_gru_model.summary()"
      ],
      "execution_count": 19,
      "outputs": [
        {
          "output_type": "stream",
          "text": [
            "WARNING:tensorflow:No training configuration found in the save file, so the model was *not* compiled. Compile it manually.\n",
            "Model: \"sequential_3\"\n",
            "_________________________________________________________________\n",
            "Layer (type)                 Output Shape              Param #   \n",
            "=================================================================\n",
            "embedding_3 (Embedding)      (1, None, 256)            12288     \n",
            "_________________________________________________________________\n",
            "gru_6 (GRU)                  (1, None, 1024)           3938304   \n",
            "_________________________________________________________________\n",
            "gru_7 (GRU)                  (1, None, 1024)           6297600   \n",
            "_________________________________________________________________\n",
            "dense_3 (Dense)              (1, None, 48)             49200     \n",
            "=================================================================\n",
            "Total params: 10,297,392\n",
            "Trainable params: 10,297,392\n",
            "Non-trainable params: 0\n",
            "_________________________________________________________________\n"
          ],
          "name": "stdout"
        }
      ]
    },
    {
      "cell_type": "code",
      "metadata": {
        "id": "QUeSotIBqB7a",
        "colab_type": "code",
        "outputId": "98154aae-55c8-49e6-ddf0-d53427a59395",
        "colab": {
          "base_uri": "https://localhost:8080/",
          "height": 323
        }
      },
      "source": [
        "print(generate_text(main_gru_model, start_string=u\"که ایران چوباغیست خرم بهار\", temperature=1))"
      ],
      "execution_count": 20,
      "outputs": [
        {
          "output_type": "stream",
          "text": [
            "که ایران چوباغیست خرم بهار \t بکردند درد بنزده نام کرد \n",
            " ده باشد از هامون چنان \t برو روز بر پیش پیلان گشت \t به تخت عاج آن روز گشتاسپ \n",
            " یکی نامه‌ای فرمان دید تفت \t بود آن دست تو شد شب چهر تنگ \n",
            " چنین داد پاسخ که مام خوب کشید \t ندارد دل کس به فرمان شد سرم \n",
            " که مان ناترست ایران بها \t وگر خستهٔ نامدار تو \n",
            " از اندر سکندر گونه‌ای نیست هنگ \t کزو شد نفش دل هیچ پس تست جای \n",
            " نبایش یکدگر شد افسری موبدان \t به زبه پیمش ببارید شد باز و به چنگ \n",
            " همه جوید از ترک بگریز بخرد \t بزد گفت بر دست ویران ز راه \n",
            " چو دانش رهنمون جهان را بدین \t بخواندش پر اندر آید به رزمگه \n",
            " ز هرگون ریختن رای زود خوانش برنش \t که نبردست تو چاپرست اسفندیار \n",
            " بگویم چنین بیک فرخ جهان \t از اختر و اندر خمید باش \n",
            " چو از دو دست هرچ هفوا ماند ستوه \t سخن‌گوی با نوشته شد جای خون \n",
            " چو گریان گفته آمد از گوسفند \t به یک بیش وپرسد دل نهفت \n",
            " برو تا در صد فرزندمانی \t شد از اختر نیک ما همه شهریار \n",
            " گیا چون چه دریا بست بار آوریم \t به شمشیر یک خویش بپشت اسفندیار \n",
            " بدو نام خواهم ز دادش ز بر \t دلش گشته از کارزار و تخت \n",
            " نزد پس نامه سیاه نیست \t روانش چون کوه پرمایه بود \n",
            " بدو گفت ک\n"
          ],
          "name": "stdout"
        }
      ]
    },
    {
      "cell_type": "code",
      "metadata": {
        "id": "Dyxgq0ytWLQc",
        "colab_type": "code",
        "colab": {}
      },
      "source": [
        "main_gru_model.save(\"char_gru.h5\")"
      ],
      "execution_count": 0,
      "outputs": []
    },
    {
      "cell_type": "markdown",
      "metadata": {
        "id": "Xps-ncLV4wmQ",
        "colab_type": "text"
      },
      "source": [
        "# Model (LSTM)"
      ]
    },
    {
      "cell_type": "code",
      "metadata": {
        "id": "RUs3-KqUSNpN",
        "colab_type": "code",
        "colab": {}
      },
      "source": [
        "def create_model_lstm(vocab_size=len(vocab), embedding_dim=embedding_dim, rnn_units=rnn_units, batch_size=BATCH_SIZE):\n",
        "  model = keras.Sequential()\n",
        "  model.add(tf.keras.layers.Embedding(vocab_size, embedding_dim,\n",
        "                              batch_input_shape=[batch_size, None]))\n",
        "  model.add(tf.keras.layers.LSTM(rnn_units,return_sequences=True,stateful=True,\n",
        "                              recurrent_initializer='glorot_uniform',\n",
        "                              recurrent_regularizer=keras.regularizers.l2(0.01)\n",
        "                              ))\n",
        "  model.add(tf.keras.layers.LSTM(rnn_units,return_sequences=True,stateful=True,\n",
        "                              recurrent_initializer='glorot_uniform',\n",
        "                              recurrent_regularizer=keras.regularizers.l2(0.01)\n",
        "                              ))\n",
        "  model.add(tf.keras.layers.Dense(vocab_size))\n",
        "  \n",
        "  return model"
      ],
      "execution_count": 0,
      "outputs": []
    },
    {
      "cell_type": "code",
      "metadata": {
        "id": "Jyj4BBqnSZAz",
        "colab_type": "code",
        "outputId": "ab05dc77-f2e0-4067-e7ad-4e0a99f9cadf",
        "colab": {
          "base_uri": "https://localhost:8080/",
          "height": 561
        }
      },
      "source": [
        "lstm_model = create_model_lstm()\n",
        "lstm_model.summary()\n",
        "lstm_model.compile(optimizer='adam', loss=keras.losses.SparseCategoricalCrossentropy(from_logits=True), metrics=['accuracy'])\n",
        "lstm_model.summary()"
      ],
      "execution_count": 11,
      "outputs": [
        {
          "output_type": "stream",
          "text": [
            "Model: \"sequential\"\n",
            "_________________________________________________________________\n",
            "Layer (type)                 Output Shape              Param #   \n",
            "=================================================================\n",
            "embedding (Embedding)        (64, None, 256)           12288     \n",
            "_________________________________________________________________\n",
            "lstm (LSTM)                  (64, None, 1024)          5246976   \n",
            "_________________________________________________________________\n",
            "lstm_1 (LSTM)                (64, None, 1024)          8392704   \n",
            "_________________________________________________________________\n",
            "dense (Dense)                (64, None, 48)            49200     \n",
            "=================================================================\n",
            "Total params: 13,701,168\n",
            "Trainable params: 13,701,168\n",
            "Non-trainable params: 0\n",
            "_________________________________________________________________\n",
            "Model: \"sequential\"\n",
            "_________________________________________________________________\n",
            "Layer (type)                 Output Shape              Param #   \n",
            "=================================================================\n",
            "embedding (Embedding)        (64, None, 256)           12288     \n",
            "_________________________________________________________________\n",
            "lstm (LSTM)                  (64, None, 1024)          5246976   \n",
            "_________________________________________________________________\n",
            "lstm_1 (LSTM)                (64, None, 1024)          8392704   \n",
            "_________________________________________________________________\n",
            "dense (Dense)                (64, None, 48)            49200     \n",
            "=================================================================\n",
            "Total params: 13,701,168\n",
            "Trainable params: 13,701,168\n",
            "Non-trainable params: 0\n",
            "_________________________________________________________________\n"
          ],
          "name": "stdout"
        }
      ]
    },
    {
      "cell_type": "code",
      "metadata": {
        "id": "p6iQZhUSSg3Y",
        "colab_type": "code",
        "outputId": "90aed546-6da1-4d4e-ee1b-5504f8e25662",
        "colab": {
          "base_uri": "https://localhost:8080/",
          "height": 1000
        }
      },
      "source": [
        "history = lstm_model.fit(dataset, epochs=50)"
      ],
      "execution_count": 12,
      "outputs": [
        {
          "output_type": "stream",
          "text": [
            "Epoch 1/50\n",
            "42/42 [==============================] - 143s 3s/step - loss: 12.9389 - accuracy: 0.2126\n",
            "Epoch 2/50\n",
            "42/42 [==============================] - 145s 3s/step - loss: 3.4909 - accuracy: 0.2674\n",
            "Epoch 3/50\n",
            "42/42 [==============================] - 145s 3s/step - loss: 2.6487 - accuracy: 0.3036\n",
            "Epoch 4/50\n",
            "42/42 [==============================] - 145s 3s/step - loss: 2.4302 - accuracy: 0.3320\n",
            "Epoch 5/50\n",
            "42/42 [==============================] - 145s 3s/step - loss: 2.3159 - accuracy: 0.3452\n",
            "Epoch 6/50\n",
            "42/42 [==============================] - 145s 3s/step - loss: 2.2287 - accuracy: 0.3622\n",
            "Epoch 7/50\n",
            "42/42 [==============================] - 145s 3s/step - loss: 2.1557 - accuracy: 0.3777\n",
            "Epoch 8/50\n",
            "42/42 [==============================] - 144s 3s/step - loss: 2.1006 - accuracy: 0.3915\n",
            "Epoch 9/50\n",
            "42/42 [==============================] - 144s 3s/step - loss: 2.0357 - accuracy: 0.4050\n",
            "Epoch 10/50\n",
            "42/42 [==============================] - 144s 3s/step - loss: 1.9800 - accuracy: 0.4178\n",
            "Epoch 11/50\n",
            "42/42 [==============================] - 144s 3s/step - loss: 1.9272 - accuracy: 0.4343\n",
            "Epoch 12/50\n",
            "42/42 [==============================] - 144s 3s/step - loss: 1.8766 - accuracy: 0.4491\n",
            "Epoch 13/50\n",
            "42/42 [==============================] - 144s 3s/step - loss: 1.8359 - accuracy: 0.4604\n",
            "Epoch 14/50\n",
            "42/42 [==============================] - 146s 3s/step - loss: 1.7845 - accuracy: 0.4747\n",
            "Epoch 15/50\n",
            "42/42 [==============================] - 146s 3s/step - loss: 1.7483 - accuracy: 0.4854\n",
            "Epoch 16/50\n",
            "42/42 [==============================] - 146s 3s/step - loss: 1.7143 - accuracy: 0.4940\n",
            "Epoch 17/50\n",
            "42/42 [==============================] - 146s 3s/step - loss: 1.6734 - accuracy: 0.5043\n",
            "Epoch 18/50\n",
            "42/42 [==============================] - 146s 3s/step - loss: 1.6409 - accuracy: 0.5128\n",
            "Epoch 19/50\n",
            "42/42 [==============================] - 146s 3s/step - loss: 1.6311 - accuracy: 0.5172\n",
            "Epoch 20/50\n",
            "42/42 [==============================] - 145s 3s/step - loss: 1.5848 - accuracy: 0.5287\n",
            "Epoch 21/50\n",
            "42/42 [==============================] - 146s 3s/step - loss: 1.5610 - accuracy: 0.5371\n",
            "Epoch 22/50\n",
            "42/42 [==============================] - 146s 3s/step - loss: 1.5404 - accuracy: 0.5482\n",
            "Epoch 23/50\n",
            "42/42 [==============================] - 146s 3s/step - loss: 1.5141 - accuracy: 0.5578\n",
            "Epoch 24/50\n",
            "42/42 [==============================] - 146s 3s/step - loss: 1.4898 - accuracy: 0.5622\n",
            "Epoch 25/50\n",
            "42/42 [==============================] - 146s 3s/step - loss: 1.4692 - accuracy: 0.5669\n",
            "Epoch 26/50\n",
            "42/42 [==============================] - 146s 3s/step - loss: 1.4542 - accuracy: 0.5707\n",
            "Epoch 27/50\n",
            "42/42 [==============================] - 146s 3s/step - loss: 1.4395 - accuracy: 0.5744\n",
            "Epoch 28/50\n",
            "42/42 [==============================] - 146s 3s/step - loss: 1.4224 - accuracy: 0.5793\n",
            "Epoch 29/50\n",
            "42/42 [==============================] - 146s 3s/step - loss: 1.4105 - accuracy: 0.5822\n",
            "Epoch 30/50\n",
            "42/42 [==============================] - 146s 3s/step - loss: 1.4000 - accuracy: 0.5849\n",
            "Epoch 31/50\n",
            "42/42 [==============================] - 146s 3s/step - loss: 1.3862 - accuracy: 0.5891\n",
            "Epoch 32/50\n",
            "42/42 [==============================] - 146s 3s/step - loss: 1.3750 - accuracy: 0.5920\n",
            "Epoch 33/50\n",
            "42/42 [==============================] - 146s 3s/step - loss: 1.3669 - accuracy: 0.5941\n",
            "Epoch 34/50\n",
            "42/42 [==============================] - 146s 3s/step - loss: 1.3551 - accuracy: 0.5974\n",
            "Epoch 35/50\n",
            "42/42 [==============================] - 146s 3s/step - loss: 1.3462 - accuracy: 0.6000\n",
            "Epoch 36/50\n",
            "42/42 [==============================] - 145s 3s/step - loss: 1.3378 - accuracy: 0.6023\n",
            "Epoch 37/50\n",
            "42/42 [==============================] - 146s 3s/step - loss: 1.3268 - accuracy: 0.6054\n",
            "Epoch 38/50\n",
            "42/42 [==============================] - 146s 3s/step - loss: 1.3216 - accuracy: 0.6069\n",
            "Epoch 39/50\n",
            "42/42 [==============================] - 146s 3s/step - loss: 1.3096 - accuracy: 0.6106\n",
            "Epoch 40/50\n",
            "42/42 [==============================] - 146s 3s/step - loss: 1.3024 - accuracy: 0.6123\n",
            "Epoch 41/50\n",
            "42/42 [==============================] - 146s 3s/step - loss: 1.2928 - accuracy: 0.6154\n",
            "Epoch 42/50\n",
            "42/42 [==============================] - 146s 3s/step - loss: 1.2847 - accuracy: 0.6176\n",
            "Epoch 43/50\n",
            "42/42 [==============================] - 146s 3s/step - loss: 1.2799 - accuracy: 0.6192\n",
            "Epoch 44/50\n",
            "42/42 [==============================] - 146s 3s/step - loss: 1.2724 - accuracy: 0.6214\n",
            "Epoch 45/50\n",
            "42/42 [==============================] - 146s 3s/step - loss: 1.2637 - accuracy: 0.6238\n",
            "Epoch 46/50\n",
            "42/42 [==============================] - 146s 3s/step - loss: 1.2580 - accuracy: 0.6256\n",
            "Epoch 47/50\n",
            "42/42 [==============================] - 146s 3s/step - loss: 1.2491 - accuracy: 0.6282\n",
            "Epoch 48/50\n",
            "42/42 [==============================] - 146s 3s/step - loss: 1.2424 - accuracy: 0.6303\n",
            "Epoch 49/50\n",
            "42/42 [==============================] - 146s 3s/step - loss: 1.2355 - accuracy: 0.6324\n",
            "Epoch 50/50\n",
            "42/42 [==============================] - 146s 3s/step - loss: 1.2305 - accuracy: 0.6338\n"
          ],
          "name": "stdout"
        }
      ]
    },
    {
      "cell_type": "code",
      "metadata": {
        "id": "J4wenCz264fC",
        "colab_type": "code",
        "colab": {
          "base_uri": "https://localhost:8080/",
          "height": 289
        },
        "outputId": "85c17f0e-421e-4261-c229-49e259bba546"
      },
      "source": [
        "main_lstm_model = create_model_lstm(batch_size=1)\n",
        "main_lstm_model.set_weights(lstm_model.get_weights())\n",
        "main_lstm_model.summary()"
      ],
      "execution_count": 13,
      "outputs": [
        {
          "output_type": "stream",
          "text": [
            "Model: \"sequential_1\"\n",
            "_________________________________________________________________\n",
            "Layer (type)                 Output Shape              Param #   \n",
            "=================================================================\n",
            "embedding_1 (Embedding)      (1, None, 256)            12288     \n",
            "_________________________________________________________________\n",
            "lstm_2 (LSTM)                (1, None, 1024)           5246976   \n",
            "_________________________________________________________________\n",
            "lstm_3 (LSTM)                (1, None, 1024)           8392704   \n",
            "_________________________________________________________________\n",
            "dense_1 (Dense)              (1, None, 48)             49200     \n",
            "=================================================================\n",
            "Total params: 13,701,168\n",
            "Trainable params: 13,701,168\n",
            "Non-trainable params: 0\n",
            "_________________________________________________________________\n"
          ],
          "name": "stdout"
        }
      ]
    },
    {
      "cell_type": "code",
      "metadata": {
        "id": "Np3PB9lKvq9T",
        "colab_type": "code",
        "colab": {}
      },
      "source": [
        "# main_lstm_model = tf.keras.models.load_model('char_lstm.h5')\n",
        "# main_lstm_model.summary()"
      ],
      "execution_count": 0,
      "outputs": []
    },
    {
      "cell_type": "code",
      "metadata": {
        "id": "B0Zr4oM6666b",
        "colab_type": "code",
        "colab": {
          "base_uri": "https://localhost:8080/",
          "height": 340
        },
        "outputId": "76d582e2-38cb-4c66-f7f2-7918b91c015b"
      },
      "source": [
        "print(generate_text(main_lstm_model, start_string=u\"که ایران چوباغیست خرم بهار\", temperature=1))"
      ],
      "execution_count": 17,
      "outputs": [
        {
          "output_type": "stream",
          "text": [
            "که ایران چوباغیست خرم بهار \t نهاده بنشست با با ساو بدند \n",
            " ز درین یزدان نیکی تیره‌رون \t به پوزش همی کرد رخ با سپاه \n",
            " به چیزبان به پیداز او رستم \t نه پی رخ شد جوید گوی و هوش \n",
            " چو خردان به گردن افراسیاب \t جز از تو گرد کرد و گردد راه \n",
            " چنین گفت گودرز و خوردی و ماه \t بدانی که با و توران بر نهاد جای \n",
            " کلیدم نزدیک او برگزین \t وزان پس خجسته فراوان شنید \n",
            " سوی بادی سرت دستور باش \t همی تا بادافر و خسرو به جای \n",
            " چو برگشت زن یک لشکر بنده‌ایم \t برزم و برین خوردن سال هزار \n",
            " بر تخت زرنگ و ننگ نونونیز \t تو گفتی از نامورش نیک‌بخت \n",
            " وزو گشت لرزبادی مجلد \t سر برش دل مردم اگراز \n",
            " بدو گفت بر زمان بگویی \t تو را نیایش کن جز بیشتی \n",
            " اگر برگشته از به بر تخت \t که در جنا تن دست برد یاد جفت \n",
            " برآمد سرکشان به طیل ژیان \t ز ترکان هوشی کدادی پدید \n",
            " اگر تیز لشکر بگویی درشت \t ستاره شد باد لب خفتان جنگ \n",
            " نخفتی ز کهرم چنین تا سرفراز \t کمربست و بر تن و بناداز \n",
            " بخواند پیرام و جوان جوان \t ز بسر فرش تابد سر دیوار \n",
            " برفتند خواهی که اندر مخ بشاه \t کمان تا کس باید باید نگفت \n",
            " همی‌گفت سیاه ده گنجور هیچ گرد \t شد از پیش اندکیمگان مدار \n",
            " وزان روم بود آن شهر\n"
          ],
          "name": "stdout"
        }
      ]
    },
    {
      "cell_type": "code",
      "metadata": {
        "id": "aa_kGUq8MT6s",
        "colab_type": "code",
        "colab": {}
      },
      "source": [
        "main_lstm_model.save(\"char_lstm.h5\")"
      ],
      "execution_count": 0,
      "outputs": []
    }
  ]
}