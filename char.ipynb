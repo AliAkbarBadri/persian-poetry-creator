{
  "nbformat": 4,
  "nbformat_minor": 0,
  "metadata": {
    "colab": {
      "name": "tempo.ipynb",
      "provenance": [],
      "toc_visible": true,
      "include_colab_link": true
    },
    "kernelspec": {
      "name": "python3",
      "display_name": "Python 3"
    },
    "accelerator": "GPU"
  },
  "cells": [
    {
      "cell_type": "markdown",
      "metadata": {
        "id": "view-in-github",
        "colab_type": "text"
      },
      "source": [
        "<a href=\"https://colab.research.google.com/github/aliakbarbadri/persian-poetry-creator/blob/master/char-gru.ipynb\" target=\"_parent\"><img src=\"https://colab.research.google.com/assets/colab-badge.svg\" alt=\"Open In Colab\"/></a>"
      ]
    },
    {
      "cell_type": "code",
      "metadata": {
        "id": "nF-7m57sBgdp",
        "colab_type": "code",
        "colab": {}
      },
      "source": [
        "import tensorflow as tf\n",
        "from tensorflow import keras\n",
        "import numpy as np\n",
        "import pandas as pd\n",
        "import matplotlib.pyplot as plt\n",
        "import os\n",
        "import time"
      ],
      "execution_count": 0,
      "outputs": []
    },
    {
      "cell_type": "markdown",
      "metadata": {
        "id": "wXgkMK0iMQDL",
        "colab_type": "text"
      },
      "source": [
        "# Load the data"
      ]
    },
    {
      "cell_type": "code",
      "metadata": {
        "id": "l8wd1saxwPtu",
        "colab_type": "code",
        "colab": {
          "base_uri": "https://localhost:8080/",
          "height": 51
        },
        "outputId": "14c559e6-8a47-4f25-86d6-05eb32b681cd"
      },
      "source": [
        "url = \"https://raw.githubusercontent.com/aliakbarbadri/persian-poetry-creator/master/shahname2.txt\"\n",
        "filepath = keras.utils.get_file(\"shahname2.txt\", url) \n",
        "corpus = open(filepath, 'rb').read().decode(encoding='utf-8')\n",
        "corpus = corpus.replace(\"\\t\",\" \\t \").replace(\"\\n\", \" \\n \")"
      ],
      "execution_count": 2,
      "outputs": [
        {
          "output_type": "stream",
          "text": [
            "Downloading data from https://raw.githubusercontent.com/aliakbarbadri/persian-poetry-creator/master/shahname2.txt\n",
            "4554752/4553829 [==============================] - 0s 0us/step\n"
          ],
          "name": "stdout"
        }
      ]
    },
    {
      "cell_type": "code",
      "metadata": {
        "id": "OHzCO_cSlYoO",
        "colab_type": "code",
        "outputId": "a2d20ade-974a-41e9-c712-d92bc479a52b",
        "colab": {
          "base_uri": "https://localhost:8080/",
          "height": 34
        }
      },
      "source": [
        "vocab = sorted(set(corpus))\n",
        "print(len(vocab), \"chars\")"
      ],
      "execution_count": 3,
      "outputs": [
        {
          "output_type": "stream",
          "text": [
            "48 chars\n"
          ],
          "name": "stdout"
        }
      ]
    },
    {
      "cell_type": "code",
      "metadata": {
        "id": "S8ehHLWYLtqw",
        "colab_type": "code",
        "colab": {
          "base_uri": "https://localhost:8080/",
          "height": 54
        },
        "outputId": "4efd5458-87df-46a3-e5a7-6bd14d23c0e9"
      },
      "source": [
        "print(vocab)"
      ],
      "execution_count": 4,
      "outputs": [
        {
          "output_type": "stream",
          "text": [
            "['\\t', '\\n', ' ', '(', ')', '«', '»', '،', '؟', 'ء', 'آ', 'أ', 'ؤ', 'ئ', 'ا', 'ب', 'ت', 'ث', 'ج', 'ح', 'خ', 'د', 'ذ', 'ر', 'ز', 'س', 'ش', 'ص', 'ض', 'ط', 'ظ', 'ع', 'غ', 'ف', 'ق', 'ل', 'م', 'ن', 'ه', 'و', 'ٔ', 'پ', 'چ', 'ژ', 'ک', 'گ', 'ی', '\\u200c']\n"
          ],
          "name": "stdout"
        }
      ]
    },
    {
      "cell_type": "code",
      "metadata": {
        "id": "Y9JzIK9elja4",
        "colab_type": "code",
        "colab": {}
      },
      "source": [
        "char2idx = {u:i for i, u in enumerate(vocab)}\n",
        "idx2char = np.array(vocab)\n",
        "text_as_int = np.array([char2idx[c] for c in corpus])"
      ],
      "execution_count": 0,
      "outputs": []
    },
    {
      "cell_type": "code",
      "metadata": {
        "id": "U22k7ShUl0xm",
        "colab_type": "code",
        "colab": {}
      },
      "source": [
        "seq_length = 1000\n",
        "examples_per_epoch = len(corpus)//(seq_length+1)\n",
        "char_dataset = tf.data.Dataset.from_tensor_slices(text_as_int)\n",
        "sequences = char_dataset.batch(seq_length+1, drop_remainder=True)"
      ],
      "execution_count": 0,
      "outputs": []
    },
    {
      "cell_type": "code",
      "metadata": {
        "id": "4XlooC1Ongpo",
        "colab_type": "code",
        "colab": {}
      },
      "source": [
        "def split_input_target(chunk):\n",
        "    input_text = chunk[:-1]\n",
        "    target_text = chunk[1:]\n",
        "    return input_text, target_text\n",
        "\n",
        "dataset = sequences.map(split_input_target)"
      ],
      "execution_count": 0,
      "outputs": []
    },
    {
      "cell_type": "code",
      "metadata": {
        "id": "FfQ5q86yoePB",
        "colab_type": "code",
        "outputId": "942374f2-b6d0-4001-eb45-293367e4344d",
        "colab": {
          "base_uri": "https://localhost:8080/",
          "height": 34
        }
      },
      "source": [
        "BATCH_SIZE = 64\n",
        "BUFFER_SIZE = 10000\n",
        "dataset = dataset.shuffle(BUFFER_SIZE).batch(BATCH_SIZE, drop_remainder=True)\n",
        "dataset"
      ],
      "execution_count": 8,
      "outputs": [
        {
          "output_type": "execute_result",
          "data": {
            "text/plain": [
              "<BatchDataset shapes: ((64, 1000), (64, 1000)), types: (tf.int64, tf.int64)>"
            ]
          },
          "metadata": {
            "tags": []
          },
          "execution_count": 8
        }
      ]
    },
    {
      "cell_type": "markdown",
      "metadata": {
        "id": "-11mQDSktgRz",
        "colab_type": "text"
      },
      "source": [
        "# Model (GRU)"
      ]
    },
    {
      "cell_type": "code",
      "metadata": {
        "id": "jAMXrqzeIQn5",
        "colab_type": "code",
        "colab": {}
      },
      "source": [
        "vocab_size = len(vocab)\n",
        "embedding_dim = 256\n",
        "rnn_units = 1024"
      ],
      "execution_count": 0,
      "outputs": []
    },
    {
      "cell_type": "code",
      "metadata": {
        "id": "uR9CkAybSIja",
        "colab_type": "code",
        "colab": {}
      },
      "source": [
        "def create_model_gru(vocab_size=len(vocab), embedding_dim=embedding_dim, rnn_units=rnn_units, batch_size=BATCH_SIZE):\n",
        "  model = keras.Sequential()\n",
        "  model.add(tf.keras.layers.Embedding(vocab_size, embedding_dim,\n",
        "                              batch_input_shape=[batch_size, None]))\n",
        "  model.add(tf.keras.layers.GRU(rnn_units,return_sequences=True,stateful=True,\n",
        "                              recurrent_initializer='glorot_uniform',\n",
        "                              recurrent_regularizer=keras.regularizers.l2(0.01)\n",
        "                              ))\n",
        "  model.add(tf.keras.layers.GRU(rnn_units,return_sequences=True,stateful=True,\n",
        "                              recurrent_initializer='glorot_uniform',\n",
        "                              recurrent_regularizer=keras.regularizers.l2(0.01)\n",
        "                              ))\n",
        "  model.add(tf.keras.layers.Dense(vocab_size))\n",
        "  return model"
      ],
      "execution_count": 0,
      "outputs": []
    },
    {
      "cell_type": "code",
      "metadata": {
        "id": "McBFd1ppopSE",
        "colab_type": "code",
        "outputId": "8fb75431-4b92-4a40-a1dc-74a061faf4b6",
        "colab": {
          "base_uri": "https://localhost:8080/",
          "height": 289
        }
      },
      "source": [
        "gru_model = create_model_gru()\n",
        "gru_model.summary()\n",
        "gru_model.compile(optimizer='adam', loss=keras.losses.SparseCategoricalCrossentropy(from_logits=True), metrics=['accuracy'])"
      ],
      "execution_count": 14,
      "outputs": [
        {
          "output_type": "stream",
          "text": [
            "Model: \"sequential_2\"\n",
            "_________________________________________________________________\n",
            "Layer (type)                 Output Shape              Param #   \n",
            "=================================================================\n",
            "embedding_2 (Embedding)      (64, None, 256)           12288     \n",
            "_________________________________________________________________\n",
            "gru_4 (GRU)                  (64, None, 1024)          3938304   \n",
            "_________________________________________________________________\n",
            "gru_5 (GRU)                  (64, None, 1024)          6297600   \n",
            "_________________________________________________________________\n",
            "dense_2 (Dense)              (64, None, 48)            49200     \n",
            "=================================================================\n",
            "Total params: 10,297,392\n",
            "Trainable params: 10,297,392\n",
            "Non-trainable params: 0\n",
            "_________________________________________________________________\n"
          ],
          "name": "stdout"
        }
      ]
    },
    {
      "cell_type": "code",
      "metadata": {
        "id": "Qj5ozZC5pcpG",
        "colab_type": "code",
        "outputId": "249de2d2-8a62-4472-8fb4-0fd5d1280ef2",
        "colab": {
          "base_uri": "https://localhost:8080/",
          "height": 1000
        }
      },
      "source": [
        "history = gru_model.fit(dataset, epochs=50)"
      ],
      "execution_count": 15,
      "outputs": [
        {
          "output_type": "stream",
          "text": [
            "Epoch 1/50\n",
            "42/42 [==============================] - 110s 3s/step - loss: 11.2932 - accuracy: 0.2322\n",
            "Epoch 2/50\n",
            "42/42 [==============================] - 110s 3s/step - loss: 2.4952 - accuracy: 0.3244\n",
            "Epoch 3/50\n",
            "42/42 [==============================] - 110s 3s/step - loss: 2.2354 - accuracy: 0.3522\n",
            "Epoch 4/50\n",
            "42/42 [==============================] - 111s 3s/step - loss: 2.1602 - accuracy: 0.3667\n",
            "Epoch 5/50\n",
            "42/42 [==============================] - 111s 3s/step - loss: 2.1044 - accuracy: 0.3886\n",
            "Epoch 6/50\n",
            "42/42 [==============================] - 111s 3s/step - loss: 2.0445 - accuracy: 0.4075\n",
            "Epoch 7/50\n",
            "42/42 [==============================] - 111s 3s/step - loss: 1.9892 - accuracy: 0.4274\n",
            "Epoch 8/50\n",
            "42/42 [==============================] - 111s 3s/step - loss: 1.9345 - accuracy: 0.4437\n",
            "Epoch 9/50\n",
            "42/42 [==============================] - 111s 3s/step - loss: 1.8794 - accuracy: 0.4595\n",
            "Epoch 10/50\n",
            "42/42 [==============================] - 111s 3s/step - loss: 1.8411 - accuracy: 0.4716\n",
            "Epoch 11/50\n",
            "42/42 [==============================] - 111s 3s/step - loss: 1.7985 - accuracy: 0.4845\n",
            "Epoch 12/50\n",
            "42/42 [==============================] - 111s 3s/step - loss: 1.7645 - accuracy: 0.4927\n",
            "Epoch 13/50\n",
            "42/42 [==============================] - 111s 3s/step - loss: 1.7492 - accuracy: 0.4978\n",
            "Epoch 14/50\n",
            "42/42 [==============================] - 111s 3s/step - loss: 1.7082 - accuracy: 0.5068\n",
            "Epoch 15/50\n",
            "42/42 [==============================] - 111s 3s/step - loss: 1.6869 - accuracy: 0.5122\n",
            "Epoch 16/50\n",
            "42/42 [==============================] - 111s 3s/step - loss: 1.6703 - accuracy: 0.5163\n",
            "Epoch 17/50\n",
            "42/42 [==============================] - 111s 3s/step - loss: 1.6475 - accuracy: 0.5225\n",
            "Epoch 18/50\n",
            "42/42 [==============================] - 111s 3s/step - loss: 1.6274 - accuracy: 0.5273\n",
            "Epoch 19/50\n",
            "42/42 [==============================] - 111s 3s/step - loss: 1.6282 - accuracy: 0.5281\n",
            "Epoch 20/50\n",
            "42/42 [==============================] - 111s 3s/step - loss: 1.5977 - accuracy: 0.5343\n",
            "Epoch 21/50\n",
            "42/42 [==============================] - 111s 3s/step - loss: 1.5852 - accuracy: 0.5373\n",
            "Epoch 22/50\n",
            "42/42 [==============================] - 111s 3s/step - loss: 1.5724 - accuracy: 0.5404\n",
            "Epoch 23/50\n",
            "42/42 [==============================] - 111s 3s/step - loss: 1.5760 - accuracy: 0.5402\n",
            "Epoch 24/50\n",
            "42/42 [==============================] - 111s 3s/step - loss: 1.5460 - accuracy: 0.5478\n",
            "Epoch 25/50\n",
            "42/42 [==============================] - 110s 3s/step - loss: 1.5418 - accuracy: 0.5495\n",
            "Epoch 26/50\n",
            "42/42 [==============================] - 110s 3s/step - loss: 1.5267 - accuracy: 0.5546\n",
            "Epoch 27/50\n",
            "42/42 [==============================] - 110s 3s/step - loss: 1.5155 - accuracy: 0.5582\n",
            "Epoch 28/50\n",
            "42/42 [==============================] - 110s 3s/step - loss: 1.5043 - accuracy: 0.5619\n",
            "Epoch 29/50\n",
            "42/42 [==============================] - 111s 3s/step - loss: 1.4958 - accuracy: 0.5645\n",
            "Epoch 30/50\n",
            "42/42 [==============================] - 110s 3s/step - loss: 1.4890 - accuracy: 0.5665\n",
            "Epoch 31/50\n",
            "42/42 [==============================] - 110s 3s/step - loss: 1.4851 - accuracy: 0.5689\n",
            "Epoch 32/50\n",
            "42/42 [==============================] - 111s 3s/step - loss: 1.4841 - accuracy: 0.5696\n",
            "Epoch 33/50\n",
            "42/42 [==============================] - 111s 3s/step - loss: 1.4581 - accuracy: 0.5765\n",
            "Epoch 34/50\n",
            "42/42 [==============================] - 110s 3s/step - loss: 1.4527 - accuracy: 0.5780\n",
            "Epoch 35/50\n",
            "42/42 [==============================] - 110s 3s/step - loss: 1.4428 - accuracy: 0.5818\n",
            "Epoch 36/50\n",
            "42/42 [==============================] - 110s 3s/step - loss: 1.4277 - accuracy: 0.5865\n",
            "Epoch 37/50\n",
            "42/42 [==============================] - 110s 3s/step - loss: 1.4152 - accuracy: 0.5883\n",
            "Epoch 38/50\n",
            "42/42 [==============================] - 110s 3s/step - loss: 1.4066 - accuracy: 0.5905\n",
            "Epoch 39/50\n",
            "42/42 [==============================] - 110s 3s/step - loss: 1.4010 - accuracy: 0.5913\n",
            "Epoch 40/50\n",
            "42/42 [==============================] - 110s 3s/step - loss: 1.3919 - accuracy: 0.5938\n",
            "Epoch 41/50\n",
            "42/42 [==============================] - 110s 3s/step - loss: 1.3855 - accuracy: 0.5956\n",
            "Epoch 42/50\n",
            "42/42 [==============================] - 110s 3s/step - loss: 1.3807 - accuracy: 0.5962\n",
            "Epoch 43/50\n",
            "42/42 [==============================] - 110s 3s/step - loss: 1.3741 - accuracy: 0.5982\n",
            "Epoch 44/50\n",
            "42/42 [==============================] - 110s 3s/step - loss: 1.3665 - accuracy: 0.6000\n",
            "Epoch 45/50\n",
            "42/42 [==============================] - 110s 3s/step - loss: 1.3595 - accuracy: 0.6020\n",
            "Epoch 46/50\n",
            "42/42 [==============================] - 110s 3s/step - loss: 1.3539 - accuracy: 0.6029\n",
            "Epoch 47/50\n",
            "42/42 [==============================] - 110s 3s/step - loss: 1.3479 - accuracy: 0.6043\n",
            "Epoch 48/50\n",
            "42/42 [==============================] - 110s 3s/step - loss: 1.3424 - accuracy: 0.6059\n",
            "Epoch 49/50\n",
            "42/42 [==============================] - 110s 3s/step - loss: 1.3367 - accuracy: 0.6072\n",
            "Epoch 50/50\n",
            "42/42 [==============================] - 110s 3s/step - loss: 1.3319 - accuracy: 0.6087\n"
          ],
          "name": "stdout"
        }
      ]
    },
    {
      "cell_type": "code",
      "metadata": {
        "id": "Vo4OiJneUSQy",
        "colab_type": "code",
        "colab": {
          "base_uri": "https://localhost:8080/",
          "height": 289
        },
        "outputId": "6c91eff8-a099-4ce3-f92e-b5181acdb6c6"
      },
      "source": [
        "main_gru_model = create_model_gru(batch_size=1)\n",
        "main_gru_model.set_weights(gru_model.get_weights())\n",
        "main_gru_model.summary()"
      ],
      "execution_count": 16,
      "outputs": [
        {
          "output_type": "stream",
          "text": [
            "Model: \"sequential_3\"\n",
            "_________________________________________________________________\n",
            "Layer (type)                 Output Shape              Param #   \n",
            "=================================================================\n",
            "embedding_3 (Embedding)      (1, None, 256)            12288     \n",
            "_________________________________________________________________\n",
            "gru_6 (GRU)                  (1, None, 1024)           3938304   \n",
            "_________________________________________________________________\n",
            "gru_7 (GRU)                  (1, None, 1024)           6297600   \n",
            "_________________________________________________________________\n",
            "dense_3 (Dense)              (1, None, 48)             49200     \n",
            "=================================================================\n",
            "Total params: 10,297,392\n",
            "Trainable params: 10,297,392\n",
            "Non-trainable params: 0\n",
            "_________________________________________________________________\n"
          ],
          "name": "stdout"
        }
      ]
    },
    {
      "cell_type": "code",
      "metadata": {
        "id": "6l1UtOJ6p4Dx",
        "colab_type": "code",
        "colab": {}
      },
      "source": [
        "def generate_text(model, start_string, temperature = 1.0):\n",
        "  num_generate = 1000\n",
        "  input_eval = [char2idx[s] for s in start_string]\n",
        "  input_eval = tf.expand_dims(input_eval, 0)\n",
        "  text_generated = []\n",
        "  model.reset_states()\n",
        "  for i in range(num_generate):\n",
        "      predictions = model(input_eval)\n",
        "      predictions = tf.squeeze(predictions, 0)\n",
        "      predictions = predictions / temperature\n",
        "      predicted_id = tf.random.categorical(predictions, num_samples=1)[-1,0].numpy()\n",
        "      input_eval = tf.expand_dims([predicted_id], 0)\n",
        "      text_generated.append(idx2char[predicted_id])\n",
        "  return (start_string + ''.join(text_generated))"
      ],
      "execution_count": 0,
      "outputs": []
    },
    {
      "cell_type": "code",
      "metadata": {
        "id": "wek0TmIevjGh",
        "colab_type": "code",
        "colab": {}
      },
      "source": [
        "# main_gru_model = tf.keras.models.load_model('char_gru.h5')\n",
        "# main_gru_model.summary()"
      ],
      "execution_count": 0,
      "outputs": []
    },
    {
      "cell_type": "code",
      "metadata": {
        "id": "QUeSotIBqB7a",
        "colab_type": "code",
        "outputId": "ce9f453b-85b6-41eb-ec6b-f0f18d79516e",
        "colab": {
          "base_uri": "https://localhost:8080/",
          "height": 340
        }
      },
      "source": [
        "print(generate_text(main_gru_model, start_string=u\"که ایران چوباغیست خرم بهار\", temperature=1))"
      ],
      "execution_count": 18,
      "outputs": [
        {
          "output_type": "stream",
          "text": [
            "که ایران چوباغیست خرم بهار \n",
            " به من بد تو را چه یک بی‌گناه \t که بسیار هدیه و فره آمی‌وفا \n",
            " کزین چاره جای او شد چیست \t از آتش بدو گفت پرنازدید \n",
            " بمانش همه غام را گفت ناکه منزو \t ورا در جنگ گشت زرد و مرد دلیر \n",
            " شترویش با ماه انشین را به ز چین \t کسی را که دانار یل مرگ خشتش افروز \n",
            " به شمشیر برخاست با خان به کشته دست \t دل من بپیچد یکسر مه دید \n",
            " تو پی تو بگذشا هزاران بخورد \t زمین و کوس و به زهر و بلند \n",
            " بزن گونه شادی باش و کنند \t برو تا تخمهٔ ماه هور مهم \n",
            " نبینی که آفرین گرد کس \t بچنگاه بازی دل از دارد ز طوس \n",
            " که رستم گشت ختر بسیچید باد \t بجستند با او کجا سرو بر من ز گرگ \n",
            " بپوشید بشد از دود بر چشم \t ز هر کس به دیرایگی من مکن \n",
            " هرآنکس که مغز وز هنگ شد \t سخنهای بزرگی همی ز آژگاه \n",
            " برفتند سینده روم باشی همی \t همی کرد جهان را نشانم شیر \n",
            " چنین گفت کز میغ اسفندیار \t و گر نیز صد از رود و هر جوی \n",
            " بیامد ز خشم سوار گذشت \t که چند ز فران و هوشید تباه پیل \n",
            " تبه خوانیه فریدون شبست \t ده سرش اسب جنگ گفتار ماند \n",
            " گساوان زرین رزمگاه آم دان \t به توم آن سو رودگان رزمند \n",
            " شوم بنموند بر پیلتن \t که آن رامش اندر کشیدست شاد \n",
            " پس آمدنش گرفتند\n"
          ],
          "name": "stdout"
        }
      ]
    },
    {
      "cell_type": "code",
      "metadata": {
        "id": "Dyxgq0ytWLQc",
        "colab_type": "code",
        "colab": {}
      },
      "source": [
        "main_gru_model.save(\"char_gru.h5\")"
      ],
      "execution_count": 0,
      "outputs": []
    },
    {
      "cell_type": "markdown",
      "metadata": {
        "id": "Xps-ncLV4wmQ",
        "colab_type": "text"
      },
      "source": [
        "# Model (LSTM)"
      ]
    },
    {
      "cell_type": "code",
      "metadata": {
        "id": "RUs3-KqUSNpN",
        "colab_type": "code",
        "colab": {}
      },
      "source": [
        "def create_model_lstm(vocab_size=len(vocab), embedding_dim=embedding_dim, rnn_units=rnn_units, batch_size=BATCH_SIZE):\n",
        "  model = keras.Sequential()\n",
        "  model.add(tf.keras.layers.Embedding(vocab_size, embedding_dim,\n",
        "                              batch_input_shape=[batch_size, None]))\n",
        "  model.add(tf.keras.layers.LSTM(rnn_units,return_sequences=True,stateful=True,\n",
        "                              recurrent_initializer='glorot_uniform',\n",
        "                              recurrent_regularizer=keras.regularizers.l2(0.01)\n",
        "                              ))\n",
        "  model.add(tf.keras.layers.LSTM(rnn_units,return_sequences=True,stateful=True,\n",
        "                              recurrent_initializer='glorot_uniform',\n",
        "                              recurrent_regularizer=keras.regularizers.l2(0.01)\n",
        "                              ))\n",
        "  model.add(tf.keras.layers.Dense(vocab_size))\n",
        "  \n",
        "  return model"
      ],
      "execution_count": 0,
      "outputs": []
    },
    {
      "cell_type": "code",
      "metadata": {
        "id": "Jyj4BBqnSZAz",
        "colab_type": "code",
        "colab": {
          "base_uri": "https://localhost:8080/",
          "height": 561
        },
        "outputId": "9799a7f8-9018-43aa-f605-03d5bfc376d2"
      },
      "source": [
        "lstm_model = create_model_lstm()\n",
        "lstm_model.summary()\n",
        "lstm_model.compile(optimizer='adam', loss=keras.losses.SparseCategoricalCrossentropy(from_logits=True), metrics=['accuracy'])\n",
        "lstm_model.summary()"
      ],
      "execution_count": 25,
      "outputs": [
        {
          "output_type": "stream",
          "text": [
            "Model: \"sequential_5\"\n",
            "_________________________________________________________________\n",
            "Layer (type)                 Output Shape              Param #   \n",
            "=================================================================\n",
            "embedding_5 (Embedding)      (64, None, 256)           12288     \n",
            "_________________________________________________________________\n",
            "lstm_2 (LSTM)                (64, None, 1024)          5246976   \n",
            "_________________________________________________________________\n",
            "lstm_3 (LSTM)                (64, None, 1024)          8392704   \n",
            "_________________________________________________________________\n",
            "dense_4 (Dense)              (64, None, 48)            49200     \n",
            "=================================================================\n",
            "Total params: 13,701,168\n",
            "Trainable params: 13,701,168\n",
            "Non-trainable params: 0\n",
            "_________________________________________________________________\n",
            "Model: \"sequential_5\"\n",
            "_________________________________________________________________\n",
            "Layer (type)                 Output Shape              Param #   \n",
            "=================================================================\n",
            "embedding_5 (Embedding)      (64, None, 256)           12288     \n",
            "_________________________________________________________________\n",
            "lstm_2 (LSTM)                (64, None, 1024)          5246976   \n",
            "_________________________________________________________________\n",
            "lstm_3 (LSTM)                (64, None, 1024)          8392704   \n",
            "_________________________________________________________________\n",
            "dense_4 (Dense)              (64, None, 48)            49200     \n",
            "=================================================================\n",
            "Total params: 13,701,168\n",
            "Trainable params: 13,701,168\n",
            "Non-trainable params: 0\n",
            "_________________________________________________________________\n"
          ],
          "name": "stdout"
        }
      ]
    },
    {
      "cell_type": "code",
      "metadata": {
        "id": "p6iQZhUSSg3Y",
        "colab_type": "code",
        "colab": {
          "base_uri": "https://localhost:8080/",
          "height": 629
        },
        "outputId": "7739372a-13c8-4a19-ee50-f15ebd78f272"
      },
      "source": [
        "history = lstm_model.fit(dataset, epochs=50)"
      ],
      "execution_count": 0,
      "outputs": [
        {
          "output_type": "stream",
          "text": [
            "Epoch 1/50\n",
            "42/42 [==============================] - 141s 3s/step - loss: 12.8320 - accuracy: 0.2125\n",
            "Epoch 2/50\n",
            "42/42 [==============================] - 142s 3s/step - loss: 3.4960 - accuracy: 0.2607\n",
            "Epoch 3/50\n",
            "42/42 [==============================] - 142s 3s/step - loss: 2.6518 - accuracy: 0.2998\n",
            "Epoch 4/50\n",
            "42/42 [==============================] - 142s 3s/step - loss: 2.4473 - accuracy: 0.3255\n",
            "Epoch 5/50\n",
            "42/42 [==============================] - 142s 3s/step - loss: 2.3315 - accuracy: 0.3431\n",
            "Epoch 6/50\n",
            "42/42 [==============================] - 143s 3s/step - loss: 2.2422 - accuracy: 0.3604\n",
            "Epoch 7/50\n",
            "42/42 [==============================] - 144s 3s/step - loss: 2.2031 - accuracy: 0.3704\n",
            "Epoch 8/50\n",
            "42/42 [==============================] - 144s 3s/step - loss: 2.1097 - accuracy: 0.3900\n",
            "Epoch 9/50\n",
            "42/42 [==============================] - 144s 3s/step - loss: 2.0423 - accuracy: 0.4036\n",
            "Epoch 10/50\n",
            "42/42 [==============================] - 144s 3s/step - loss: 2.0018 - accuracy: 0.4141\n",
            "Epoch 11/50\n",
            "42/42 [==============================] - 144s 3s/step - loss: 1.9444 - accuracy: 0.4297\n",
            "Epoch 12/50\n",
            "42/42 [==============================] - 144s 3s/step - loss: 1.8958 - accuracy: 0.4422\n",
            "Epoch 13/50\n",
            "42/42 [==============================] - 144s 3s/step - loss: 1.8495 - accuracy: 0.4553\n",
            "Epoch 14/50\n",
            "42/42 [==============================] - 144s 3s/step - loss: 1.8126 - accuracy: 0.4674\n",
            "Epoch 15/50\n",
            "42/42 [==============================] - 144s 3s/step - loss: 1.7558 - accuracy: 0.4822\n",
            "Epoch 16/50\n",
            "42/42 [==============================] - 144s 3s/step - loss: 1.7234 - accuracy: 0.4914\n",
            "Epoch 17/50\n",
            "42/42 [==============================] - 144s 3s/step - loss: 1.6824 - accuracy: 0.5026\n",
            "Epoch 18/50\n",
            " 3/42 [=>............................] - ETA: 1:30 - loss: 1.6612 - accuracy: 0.5090"
          ],
          "name": "stdout"
        }
      ]
    },
    {
      "cell_type": "code",
      "metadata": {
        "id": "J4wenCz264fC",
        "colab_type": "code",
        "colab": {}
      },
      "source": [
        "main_lstm_model = create_model_lstm(batch_size=1)\n",
        "main_lstm_model.set_weights(lstm_model.get_weights())\n",
        "main_lstm_model.summary()"
      ],
      "execution_count": 0,
      "outputs": []
    },
    {
      "cell_type": "code",
      "metadata": {
        "id": "Np3PB9lKvq9T",
        "colab_type": "code",
        "colab": {}
      },
      "source": [
        "# main_lstm_model = tf.keras.models.load_model('char_lstm.h5')\n",
        "# main_lstm_model.summary()"
      ],
      "execution_count": 0,
      "outputs": []
    },
    {
      "cell_type": "code",
      "metadata": {
        "id": "B0Zr4oM6666b",
        "colab_type": "code",
        "colab": {}
      },
      "source": [
        "print(generate_text(main_lstm_model, start_string=u\"که ایران چوباغیست خرم بهار\", temperature=1))"
      ],
      "execution_count": 0,
      "outputs": []
    },
    {
      "cell_type": "code",
      "metadata": {
        "id": "aa_kGUq8MT6s",
        "colab_type": "code",
        "colab": {}
      },
      "source": [
        "main_lstm_model.save(\"char_lstm.h5\")"
      ],
      "execution_count": 0,
      "outputs": []
    }
  ]
}
