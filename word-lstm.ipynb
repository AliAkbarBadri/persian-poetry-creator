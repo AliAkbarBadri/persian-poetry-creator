{
  "nbformat": 4,
  "nbformat_minor": 0,
  "metadata": {
    "colab": {
      "name": "tempo.ipynb",
      "provenance": [],
      "include_colab_link": true
    },
    "kernelspec": {
      "name": "python3",
      "display_name": "Python 3"
    },
    "accelerator": "GPU"
  },
  "cells": [
    {
      "cell_type": "markdown",
      "metadata": {
        "id": "view-in-github",
        "colab_type": "text"
      },
      "source": [
        "<a href=\"https://colab.research.google.com/github/aliakbarbadri/persian-poetry-creator/blob/master/word-lstm.ipynb\" target=\"_parent\"><img src=\"https://colab.research.google.com/assets/colab-badge.svg\" alt=\"Open In Colab\"/></a>"
      ]
    },
    {
      "cell_type": "code",
      "metadata": {
        "id": "nF-7m57sBgdp",
        "colab_type": "code",
        "colab": {}
      },
      "source": [
        "from tensorflow.keras.preprocessing.sequence import pad_sequences\n",
        "from tensorflow import keras\n",
        "from tensorflow.keras.layers import Embedding, LSTM, Dense, Dropout, Bidirectional\n",
        "from tensorflow.keras.preprocessing.text import Tokenizer\n",
        "from tensorflow.keras.models import Sequential\n",
        "from tensorflow.keras.optimizers import Adam\n",
        "from tensorflow.keras import regularizers\n",
        "import tensorflow.keras.utils as ku \n",
        "import numpy as np"
      ],
      "execution_count": 0,
      "outputs": []
    },
    {
      "cell_type": "markdown",
      "metadata": {
        "id": "WcYyroDgBRQx",
        "colab_type": "text"
      },
      "source": [
        "# Data"
      ]
    },
    {
      "cell_type": "code",
      "metadata": {
        "id": "hH7w4AIMls2Z",
        "colab_type": "code",
        "colab": {}
      },
      "source": [
        "url = \"https://raw.githubusercontent.com/aliakbarbadri/persian-poetry-creator/master/shahname2.txt\"\n",
        "filepath = keras.utils.get_file(\"shahname.txt\", url) \n",
        "with open(filepath) as f:\n",
        "  data = f.read()\n",
        "texts = data.split(\"\\n\")"
      ],
      "execution_count": 0,
      "outputs": []
    },
    {
      "cell_type": "code",
      "metadata": {
        "id": "EU5TCADPYSyR",
        "colab_type": "code",
        "colab": {
          "base_uri": "https://localhost:8080/",
          "height": 34
        },
        "outputId": "47c78e3c-89e0-4c58-85a6-5dd1c22965fd"
      },
      "source": [
        "beyt10 = \"\\n\".join(texts[:20])\n",
        "len(beyt10.split())"
      ],
      "execution_count": 18,
      "outputs": [
        {
          "output_type": "execute_result",
          "data": {
            "text/plain": [
              "204"
            ]
          },
          "metadata": {
            "tags": []
          },
          "execution_count": 18
        }
      ]
    },
    {
      "cell_type": "code",
      "metadata": {
        "id": "orksp0HsUORY",
        "colab_type": "code",
        "colab": {}
      },
      "source": [
        "corpus = []\n",
        "length = 20\n",
        "for i in range(int(20000/length)):\n",
        "  beyt10 = \"\\n\".join(texts[i:i+length])\n",
        "  corpus.append(beyt10)"
      ],
      "execution_count": 0,
      "outputs": []
    },
    {
      "cell_type": "code",
      "metadata": {
        "id": "APGo77rdvwKZ",
        "colab_type": "code",
        "colab": {
          "base_uri": "https://localhost:8080/",
          "height": 34
        },
        "outputId": "0e257fef-8c5d-4600-ef6e-ee981dd11704"
      },
      "source": [
        "len(corpus)"
      ],
      "execution_count": 20,
      "outputs": [
        {
          "output_type": "execute_result",
          "data": {
            "text/plain": [
              "1000"
            ]
          },
          "metadata": {
            "tags": []
          },
          "execution_count": 20
        }
      ]
    },
    {
      "cell_type": "code",
      "metadata": {
        "id": "bBP8E5bzPx8W",
        "colab_type": "code",
        "colab": {
          "base_uri": "https://localhost:8080/",
          "height": 54
        },
        "outputId": "29fa0849-0eb0-4cb6-c4de-e937aeb4c904"
      },
      "source": [
        "corpus[0]"
      ],
      "execution_count": 21,
      "outputs": [
        {
          "output_type": "execute_result",
          "data": {
            "text/plain": [
              "'چو ترکان بدیدند کارجاسپ رفت\\tهمی آید از هر سوی تیغ تفت\\nهمه سرکشانشان پیاده شدند\\tبه پیش گو اسفندیار آمدند\\nکمانچای چاچی بینداختند\\tقبای نبردی برون آختند\\nبه زاریش گفتند گر شهریار\\tدهد بندگان را به جان زینهار\\nبدین اندر آییم و خواهش کنیم\\tهمه آذران را نیایش کنیم\\nازیشان چو بشنید اسفندیار\\tبه جان و به تن دادشان زینهار\\nبران لشگر گشن آواز داد\\tگو نامبردار فرخ\\u200cنژاد\\nکه این نامداران ایرانیان\\tبگردید زین لشکر چینیان\\nکنون کاین سپاه عدو گشت پست\\tازین سهم و کشتن بدارید دست\\nکه بس زاروارند و بیچاره\\u200cوار\\tدهدی این سگان را به جان زینهار\\nبدارید دست از گرفتن کنون\\tمبندید کس را مریزید خون\\nمتازید و این کشتگان مسپرید\\tبگردید و این خستگان بشمرید\\nمگیریدشان بهر جان زریر\\tبر اسپان جنگی مپایید دیر\\nچو لشکر شنیدند آواز اوی\\tشدند از بر خستگان بارزوی\\nبه لشکرگه خود فرود آمدند\\tبه پیروز گشتن تبیره زدند\\nهمه شب نخفتند زان خرمی\\tکه پیروزی بودشان رستمی\\nچو اندر شکست آن شب تیره\\u200cگون\\tبه دشت و بیابان فرو خورد خون\\nکی نامور با سران سپاه\\tبیامد به دیدار آن رزمگاه\\nهمی گرد آن کشتگان بر بگشت\\tکرا دید بگریست و اندر گذشت\\nبرادرش را دید کشته به زار\\tبه آوردگاهی برافگنده خوار'"
            ]
          },
          "metadata": {
            "tags": []
          },
          "execution_count": 21
        }
      ]
    },
    {
      "cell_type": "code",
      "metadata": {
        "id": "XmClLLATvmsx",
        "colab_type": "code",
        "colab": {
          "base_uri": "https://localhost:8080/",
          "height": 357
        },
        "outputId": "39e6cbda-c4df-48c1-8ede-b7afa3a3d768"
      },
      "source": [
        "print(corpus[0])"
      ],
      "execution_count": 22,
      "outputs": [
        {
          "output_type": "stream",
          "text": [
            "چو ترکان بدیدند کارجاسپ رفت\tهمی آید از هر سوی تیغ تفت\n",
            "همه سرکشانشان پیاده شدند\tبه پیش گو اسفندیار آمدند\n",
            "کمانچای چاچی بینداختند\tقبای نبردی برون آختند\n",
            "به زاریش گفتند گر شهریار\tدهد بندگان را به جان زینهار\n",
            "بدین اندر آییم و خواهش کنیم\tهمه آذران را نیایش کنیم\n",
            "ازیشان چو بشنید اسفندیار\tبه جان و به تن دادشان زینهار\n",
            "بران لشگر گشن آواز داد\tگو نامبردار فرخ‌نژاد\n",
            "که این نامداران ایرانیان\tبگردید زین لشکر چینیان\n",
            "کنون کاین سپاه عدو گشت پست\tازین سهم و کشتن بدارید دست\n",
            "که بس زاروارند و بیچاره‌وار\tدهدی این سگان را به جان زینهار\n",
            "بدارید دست از گرفتن کنون\tمبندید کس را مریزید خون\n",
            "متازید و این کشتگان مسپرید\tبگردید و این خستگان بشمرید\n",
            "مگیریدشان بهر جان زریر\tبر اسپان جنگی مپایید دیر\n",
            "چو لشکر شنیدند آواز اوی\tشدند از بر خستگان بارزوی\n",
            "به لشکرگه خود فرود آمدند\tبه پیروز گشتن تبیره زدند\n",
            "همه شب نخفتند زان خرمی\tکه پیروزی بودشان رستمی\n",
            "چو اندر شکست آن شب تیره‌گون\tبه دشت و بیابان فرو خورد خون\n",
            "کی نامور با سران سپاه\tبیامد به دیدار آن رزمگاه\n",
            "همی گرد آن کشتگان بر بگشت\tکرا دید بگریست و اندر گذشت\n",
            "برادرش را دید کشته به زار\tبه آوردگاهی برافگنده خوار\n"
          ],
          "name": "stdout"
        }
      ]
    },
    {
      "cell_type": "code",
      "metadata": {
        "id": "Us6WzZ64F9ul",
        "colab_type": "code",
        "colab": {}
      },
      "source": [
        "tokenizer = Tokenizer()\n",
        "tokenizer.fit_on_texts(corpus)\n",
        "for k,v in enumerate(tokenizer.word_index):\n",
        "  if '\\t' in v:\n",
        "    print(k)"
      ],
      "execution_count": 0,
      "outputs": []
    },
    {
      "cell_type": "code",
      "metadata": {
        "id": "wGZXjbxvlEtl",
        "colab_type": "code",
        "colab": {}
      },
      "source": [
        "tokenizer = Tokenizer()\n",
        "tokenizer.fit_on_texts(corpus)\n",
        "total_words = len(tokenizer.word_index) + 1\n",
        "\n",
        "# create input sequences using list of tokens\n",
        "input_sequences = []\n",
        "for line in corpus:\n",
        "\ttoken_list = tokenizer.texts_to_sequences([line])[0]\n",
        "  for i in range(1, len(token_list)):\n",
        "\t\tn_gram_sequence = token_list[:i+1]\n",
        "\t\tinput_sequences.append(n_gram_sequence)\n",
        "\n",
        "# pad sequences \n",
        "max_sequence_len = max([len(x) for x in input_sequences])\n",
        "input_sequences = np.array(pad_sequences(input_sequences, maxlen=max_sequence_len, padding='pre'))"
      ],
      "execution_count": 0,
      "outputs": []
    },
    {
      "cell_type": "code",
      "metadata": {
        "id": "33zVKWccAGdC",
        "colab_type": "code",
        "colab": {}
      },
      "source": [
        "# create predictors and label\n",
        "predictors, label = input_sequences[:,:-1],input_sequences[:,-1]\n",
        "\n",
        "label = ku.to_categorical(label, num_classes=total_words)"
      ],
      "execution_count": 0,
      "outputs": []
    },
    {
      "cell_type": "markdown",
      "metadata": {
        "id": "_QIEnG-1BOrS",
        "colab_type": "text"
      },
      "source": [
        "# Model"
      ]
    },
    {
      "cell_type": "code",
      "metadata": {
        "id": "X1q95HQplUcJ",
        "colab_type": "code",
        "colab": {
          "base_uri": "https://localhost:8080/",
          "height": 374
        },
        "outputId": "c57f964a-173d-4e4b-8800-bac808937554"
      },
      "source": [
        "model = Sequential()\n",
        "model.add(Embedding(total_words, 100, input_length=max_sequence_len-1))\n",
        "model.add(Bidirectional(LSTM(150, return_sequences = True)))\n",
        "model.add(Dropout(0.2))\n",
        "model.add(LSTM(100))\n",
        "model.add(Dense(total_words/2, activation='relu', kernel_regularizer=regularizers.l2(0.01)))\n",
        "model.add(Dense(total_words, activation='softmax'))\n",
        "model.compile(loss='categorical_crossentropy', optimizer='adam', metrics=['accuracy'])\n",
        "print(model.summary())"
      ],
      "execution_count": 9,
      "outputs": [
        {
          "output_type": "stream",
          "text": [
            "Model: \"sequential\"\n",
            "_________________________________________________________________\n",
            "Layer (type)                 Output Shape              Param #   \n",
            "=================================================================\n",
            "embedding (Embedding)        (None, 254, 100)          273100    \n",
            "_________________________________________________________________\n",
            "bidirectional (Bidirectional (None, 254, 300)          301200    \n",
            "_________________________________________________________________\n",
            "dropout (Dropout)            (None, 254, 300)          0         \n",
            "_________________________________________________________________\n",
            "lstm_1 (LSTM)                (None, 100)               160400    \n",
            "_________________________________________________________________\n",
            "dense (Dense)                (None, 1365)              137865    \n",
            "_________________________________________________________________\n",
            "dense_1 (Dense)              (None, 2731)              3730546   \n",
            "=================================================================\n",
            "Total params: 4,603,111\n",
            "Trainable params: 4,603,111\n",
            "Non-trainable params: 0\n",
            "_________________________________________________________________\n",
            "None\n"
          ],
          "name": "stdout"
        }
      ]
    },
    {
      "cell_type": "code",
      "metadata": {
        "id": "8Lsi5hZ1lXXz",
        "colab_type": "code",
        "colab": {
          "base_uri": "https://localhost:8080/",
          "height": 697
        },
        "outputId": "55ff90b5-7bf9-4ac4-90cd-d7278e37a628"
      },
      "source": [
        "history = model.fit(predictors, label, epochs=15)"
      ],
      "execution_count": 10,
      "outputs": [
        {
          "output_type": "stream",
          "text": [
            "Epoch 1/20\n",
            "6901/6901 [==============================] - 300s 43ms/step - loss: 6.3005 - accuracy: 0.0405\n",
            "Epoch 2/20\n",
            "6901/6901 [==============================] - 288s 42ms/step - loss: 5.5855 - accuracy: 0.0709\n",
            "Epoch 3/20\n",
            "6901/6901 [==============================] - 285s 41ms/step - loss: 4.8181 - accuracy: 0.1307\n",
            "Epoch 4/20\n",
            "6901/6901 [==============================] - 288s 42ms/step - loss: 4.0280 - accuracy: 0.2227\n",
            "Epoch 5/20\n",
            "6901/6901 [==============================] - 291s 42ms/step - loss: 3.3195 - accuracy: 0.3445\n",
            "Epoch 6/20\n",
            "6901/6901 [==============================] - 290s 42ms/step - loss: 2.7245 - accuracy: 0.4682\n",
            "Epoch 7/20\n",
            "6901/6901 [==============================] - 290s 42ms/step - loss: 2.2247 - accuracy: 0.5816\n",
            "Epoch 8/20\n",
            "6901/6901 [==============================] - 288s 42ms/step - loss: 1.8256 - accuracy: 0.6719\n",
            "Epoch 9/20\n",
            "6901/6901 [==============================] - 289s 42ms/step - loss: 1.5168 - accuracy: 0.7400\n",
            "Epoch 10/20\n",
            "6901/6901 [==============================] - 288s 42ms/step - loss: 1.2677 - accuracy: 0.7973\n",
            "Epoch 11/20\n",
            "6901/6901 [==============================] - 285s 41ms/step - loss: 1.0846 - accuracy: 0.8362\n",
            "Epoch 12/20\n",
            "6901/6901 [==============================] - 285s 41ms/step - loss: 0.9331 - accuracy: 0.8685\n",
            "Epoch 13/20\n",
            "6901/6901 [==============================] - 285s 41ms/step - loss: 0.8194 - accuracy: 0.8915\n",
            "Epoch 14/20\n",
            "6901/6901 [==============================] - 285s 41ms/step - loss: 0.7273 - accuracy: 0.9097\n",
            "Epoch 15/20\n",
            "6901/6901 [==============================] - 285s 41ms/step - loss: 0.6525 - accuracy: 0.9233\n",
            "Epoch 16/20\n",
            "6901/6901 [==============================] - 286s 41ms/step - loss: 0.5949 - accuracy: 0.9334\n",
            "Epoch 17/20\n",
            "6901/6901 [==============================] - 287s 42ms/step - loss: 0.5451 - accuracy: 0.9413\n",
            "Epoch 18/20\n",
            "6901/6901 [==============================] - 285s 41ms/step - loss: 0.5037 - accuracy: 0.9482\n",
            "Epoch 19/20\n",
            "6901/6901 [==============================] - 285s 41ms/step - loss: 0.4668 - accuracy: 0.9531\n",
            "Epoch 20/20\n",
            "6901/6901 [==============================] - 285s 41ms/step - loss: 0.4433 - accuracy: 0.9560\n"
          ],
          "name": "stdout"
        }
      ]
    },
    {
      "cell_type": "code",
      "metadata": {
        "id": "fpsUBWvVlZV5",
        "colab_type": "code",
        "colab": {
          "base_uri": "https://localhost:8080/",
          "height": 545
        },
        "outputId": "96aa7c99-139d-4b36-a5a3-61f5d8227953"
      },
      "source": [
        "import matplotlib.pyplot as plt\n",
        "acc = history.history['accuracy']\n",
        "loss = history.history['loss']\n",
        "\n",
        "epochs = range(len(acc))\n",
        "\n",
        "plt.plot(epochs, acc, 'b', label='Training accuracy')\n",
        "plt.title('Training accuracy')\n",
        "\n",
        "plt.figure()\n",
        "\n",
        "plt.plot(epochs, loss, 'b', label='Training Loss')\n",
        "plt.title('Training loss')\n",
        "plt.legend()\n",
        "\n",
        "plt.show()"
      ],
      "execution_count": 11,
      "outputs": [
        {
          "output_type": "display_data",
          "data": {
            "image/png": "[encoded data removed]",
            "text/plain": [
              "<Figure size 432x288 with 1 Axes>"
            ]
          },
          "metadata": {
            "tags": [],
            "needs_background": "light"
          }
        },
        {
          "output_type": "display_data",
          "data": {
            "image/png": "[encoded data removed]",
            "text/plain": [
              "<Figure size 432x288 with 1 Axes>"
            ]
          },
          "metadata": {
            "tags": [],
            "needs_background": "light"
          }
        }
      ]
    },
    {
      "cell_type": "code",
      "metadata": {
        "id": "1XqvZJiTlbrw",
        "colab_type": "code",
        "colab": {
          "base_uri": "https://localhost:8080/",
          "height": 54
        },
        "outputId": "8621f2fe-2da7-4d7a-8656-f6d177c605a3"
      },
      "source": [
        "seed_text = \"که ایران چو باغی ست خرم بهار\"\n",
        "next_words = 100\n",
        "  \n",
        "for _ in range(next_words):\n",
        "\ttoken_list = tokenizer.texts_to_sequences([seed_text])[0]\n",
        "\ttoken_list = pad_sequences([token_list], maxlen=max_sequence_len-1, padding='pre')\n",
        "\tpredicted = model.predict_classes(token_list, verbose=0)\n",
        "\toutput_word = \"\"\n",
        "\tfor word, index in tokenizer.word_index.items():\n",
        "\t\tif index == predicted:\n",
        "\t\t\toutput_word = word\n",
        "\t\t\tbreak\n",
        "\tseed_text += \" \" + output_word\n",
        "print(seed_text)"
      ],
      "execution_count": 13,
      "outputs": [
        {
          "output_type": "stream",
          "text": [
            "که ایران چو باغی ست خرم بهار داد پاسخ چنین گفت ای سرافراز شاه به ایوانش یاقوت برده بکار ز پیروزه کرده برو بر نگار همه ساله روشن بهاران بدی گلان چون رخ غمگساران بدی ز درد و غم و رنج دل دور بود بدی را تن دیو رنجور بود به خواب اندر آمد ز من زبان انجمن وگر بازگردم به نزدیک شاه به طوس سپهبد سپارم سپاه ازو نیز هم بر تنم بد رسد چپ و راست بد بینم و پیش بد نیاید ز سودابه خود جز بدی ندانم چه خواهد رسید ایزدی دو تن را ز لشکر ز کندآوران چو بهرام و چون زنگهٔ شاوران\n"
          ],
          "name": "stdout"
        }
      ]
    },
    {
      "cell_type": "code",
      "metadata": {
        "id": "CkpghgNKIT3f",
        "colab_type": "code",
        "colab": {}
      },
      "source": [
        "model.save(\"word_lstm.h5\")"
      ],
      "execution_count": 0,
      "outputs": []
    }
  ]
}