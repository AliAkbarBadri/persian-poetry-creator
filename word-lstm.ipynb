{
  "nbformat": 4,
  "nbformat_minor": 0,
  "metadata": {
    "colab": {
      "name": "tempo.ipynb",
      "provenance": [],
      "include_colab_link": true
    },
    "kernelspec": {
      "name": "python3",
      "display_name": "Python 3"
    },
    "accelerator": "GPU"
  },
  "cells": [
    {
      "cell_type": "markdown",
      "metadata": {
        "id": "view-in-github",
        "colab_type": "text"
      },
      "source": [
        "<a href=\"https://colab.research.google.com/github/aliakbarbadri/persian-poetry-creator/blob/master/word-lstm.ipynb\" target=\"_parent\"><img src=\"https://colab.research.google.com/assets/colab-badge.svg\" alt=\"Open In Colab\"/></a>"
      ]
    },
    {
      "cell_type": "code",
      "metadata": {
        "id": "nF-7m57sBgdp",
        "colab_type": "code",
        "colab": {}
      },
      "source": [
        "from tensorflow.keras.preprocessing.sequence import pad_sequences\n",
        "from tensorflow import keras\n",
        "from tensorflow.keras.layers import Embedding, LSTM, Dense, Dropout, Bidirectional, GRU\n",
        "from tensorflow.keras.preprocessing.text import Tokenizer\n",
        "from tensorflow.keras.models import Sequential\n",
        "from tensorflow.keras.optimizers import Adam\n",
        "from tensorflow.keras import regularizers\n",
        "import tensorflow.keras.utils as ku \n",
        "import numpy as np\n",
        "import matplotlib.pyplot as plt"
      ],
      "execution_count": 0,
      "outputs": []
    },
    {
      "cell_type": "markdown",
      "metadata": {
        "id": "WcYyroDgBRQx",
        "colab_type": "text"
      },
      "source": [
        "# Data"
      ]
    },
    {
      "cell_type": "code",
      "metadata": {
        "id": "hH7w4AIMls2Z",
        "colab_type": "code",
        "colab": {}
      },
      "source": [
        "url = \"https://raw.githubusercontent.com/aliakbarbadri/persian-poetry-creator/master/shahname2.txt\"\n",
        "filepath = keras.utils.get_file(\"shahname.txt\", url) \n",
        "with open(filepath) as f:\n",
        "  data = f.read()\n",
        "texts = data.split(\"\\n\")"
      ],
      "execution_count": 0,
      "outputs": []
    },
    {
      "cell_type": "code",
      "metadata": {
        "id": "EU5TCADPYSyR",
        "colab_type": "code",
        "outputId": "82ea8995-9eb8-4a88-8475-2c123c4b5a59",
        "colab": {
          "base_uri": "https://localhost:8080/",
          "height": 34
        }
      },
      "source": [
        "beyt10 = \"\\n\".join(texts[:20])\n",
        "len(beyt10.split())"
      ],
      "execution_count": 45,
      "outputs": [
        {
          "output_type": "execute_result",
          "data": {
            "text/plain": [
              "230"
            ]
          },
          "metadata": {
            "tags": []
          },
          "execution_count": 45
        }
      ]
    },
    {
      "cell_type": "code",
      "metadata": {
        "id": "orksp0HsUORY",
        "colab_type": "code",
        "colab": {}
      },
      "source": [
        "corpus = []\n",
        "length = 20\n",
        "for i in range(int(20000/length)):\n",
        "  beyt10 = \" \\n \".join(texts[i:i+length])\n",
        "  beyt10 = beyt10.replace(\"\\t\",\" \\t \")\n",
        "  corpus.append(beyt10)"
      ],
      "execution_count": 0,
      "outputs": []
    },
    {
      "cell_type": "code",
      "metadata": {
        "id": "_e0CG_DvLtsa",
        "colab_type": "code",
        "colab": {
          "base_uri": "https://localhost:8080/",
          "height": 34
        },
        "outputId": "9520a4ad-8849-43e7-d4b8-047c2b76c8ab"
      },
      "source": [
        "s = \"salam\\tkhubi\"\n",
        "a = s.replace(\"\\t\", \" \\t \")\n",
        "s , a"
      ],
      "execution_count": 47,
      "outputs": [
        {
          "output_type": "execute_result",
          "data": {
            "text/plain": [
              "('salam\\tkhubi', 'salam \\t khubi')"
            ]
          },
          "metadata": {
            "tags": []
          },
          "execution_count": 47
        }
      ]
    },
    {
      "cell_type": "code",
      "metadata": {
        "id": "APGo77rdvwKZ",
        "colab_type": "code",
        "outputId": "c08ce3d5-1167-4c50-ef46-3597e501f1b1",
        "colab": {
          "base_uri": "https://localhost:8080/",
          "height": 34
        }
      },
      "source": [
        "len(corpus)"
      ],
      "execution_count": 48,
      "outputs": [
        {
          "output_type": "execute_result",
          "data": {
            "text/plain": [
              "1000"
            ]
          },
          "metadata": {
            "tags": []
          },
          "execution_count": 48
        }
      ]
    },
    {
      "cell_type": "code",
      "metadata": {
        "id": "bBP8E5bzPx8W",
        "colab_type": "code",
        "outputId": "c3fbc62a-2851-4156-8f70-fbba63f93d0c",
        "colab": {
          "base_uri": "https://localhost:8080/",
          "height": 54
        }
      },
      "source": [
        "corpus[0]"
      ],
      "execution_count": 49,
      "outputs": [
        {
          "output_type": "execute_result",
          "data": {
            "text/plain": [
              "'چو از بلخ بامی به جیحون رسید \\t سپهدار لشکر فرود آورید \\n بشد شهریار از میان سپاه \\t فرود آمد از باره بر شد به گاه \\n بخواند او گرانمایه جاماسپ را \\t کجا رهنمون بود گشتاسپ را \\n سر موبدان بودو شاه ردان \\t چراغ بزرگان و اسپهبدان \\n چنان پاک تن بود و تابنده جان \\t که بودی بر او آشکارا نهان \\n ستاره\\u200cشناس و گرانمایه بود \\t ابا او به دانش کرا پایه بود \\n بپرسید ازو شاه و گفتا خدای \\t ترا دین به داد و پاکیزه رای \\n چو تو نیست اندر جهان هیچ کس \\t جهاندار دانش ترا داد و بس \\n ببایدت کردن ز اختر شمار \\t بگویی همی مر مرا روی کار \\n که چون باشد آغاز و فرجام جنگ \\t کرا بیشتر باشد اینجا درنگ \\n نیامد خوش آن پیر جاماسپ را \\t به روی دژم گفت گشتاسپ را \\n که میخواستم کایزد دادگر \\t ندادی مرا این خرد وین هنر \\n مرا گر نبودی خرد شهریار \\t نکردی زمن بودنی خواستار \\n مگر با من از داد پیمان کند \\t که نه بد کند خود نه فرمان کند \\n جهانجوی گفتا به نام خدای \\t بدین و به دین آور پاک رای \\n به جان زریر آن نبرده سوار \\t به جان گرانمایه اسفندیار \\n که نه هرگزت روی دشمن کنم \\t نفرمایمت بد نه خود من کنم \\n تو هرچ اندرین کار دانی بگوی \\t که تو چاره\\u200cدانی و من چاره\\u200cجوی \\n خردمند گفت این گرانمایه شاه \\t همیشه بتو تازه بادا کلاه \\n ز بنده میازار و بنداز خشم \\t خنک آنکسی کو نبیند به چشم'"
            ]
          },
          "metadata": {
            "tags": []
          },
          "execution_count": 49
        }
      ]
    },
    {
      "cell_type": "code",
      "metadata": {
        "id": "XmClLLATvmsx",
        "colab_type": "code",
        "outputId": "b8f666c1-4f69-4e9a-eb17-640f1a42c372",
        "colab": {
          "base_uri": "https://localhost:8080/",
          "height": 357
        }
      },
      "source": [
        "print(corpus[0])"
      ],
      "execution_count": 50,
      "outputs": [
        {
          "output_type": "stream",
          "text": [
            "چو از بلخ بامی به جیحون رسید \t سپهدار لشکر فرود آورید \n",
            " بشد شهریار از میان سپاه \t فرود آمد از باره بر شد به گاه \n",
            " بخواند او گرانمایه جاماسپ را \t کجا رهنمون بود گشتاسپ را \n",
            " سر موبدان بودو شاه ردان \t چراغ بزرگان و اسپهبدان \n",
            " چنان پاک تن بود و تابنده جان \t که بودی بر او آشکارا نهان \n",
            " ستاره‌شناس و گرانمایه بود \t ابا او به دانش کرا پایه بود \n",
            " بپرسید ازو شاه و گفتا خدای \t ترا دین به داد و پاکیزه رای \n",
            " چو تو نیست اندر جهان هیچ کس \t جهاندار دانش ترا داد و بس \n",
            " ببایدت کردن ز اختر شمار \t بگویی همی مر مرا روی کار \n",
            " که چون باشد آغاز و فرجام جنگ \t کرا بیشتر باشد اینجا درنگ \n",
            " نیامد خوش آن پیر جاماسپ را \t به روی دژم گفت گشتاسپ را \n",
            " که میخواستم کایزد دادگر \t ندادی مرا این خرد وین هنر \n",
            " مرا گر نبودی خرد شهریار \t نکردی زمن بودنی خواستار \n",
            " مگر با من از داد پیمان کند \t که نه بد کند خود نه فرمان کند \n",
            " جهانجوی گفتا به نام خدای \t بدین و به دین آور پاک رای \n",
            " به جان زریر آن نبرده سوار \t به جان گرانمایه اسفندیار \n",
            " که نه هرگزت روی دشمن کنم \t نفرمایمت بد نه خود من کنم \n",
            " تو هرچ اندرین کار دانی بگوی \t که تو چاره‌دانی و من چاره‌جوی \n",
            " خردمند گفت این گرانمایه شاه \t همیشه بتو تازه بادا کلاه \n",
            " ز بنده میازار و بنداز خشم \t خنک آنکسی کو نبیند به چشم\n"
          ],
          "name": "stdout"
        }
      ]
    },
    {
      "cell_type": "code",
      "metadata": {
        "id": "wGZXjbxvlEtl",
        "colab_type": "code",
        "colab": {}
      },
      "source": [
        "tokenizer = Tokenizer(filters=\"\")\n",
        "tokenizer.fit_on_texts(corpus)\n",
        "total_words = len(tokenizer.word_index) + 1\n",
        "\n",
        "input_sequences = []\n",
        "for line in corpus:\n",
        "\ttoken_list = tokenizer.texts_to_sequences([line])[0]\n",
        "\tfor i in range(1, len(token_list)):\n",
        "\t\tn_gram_sequence = token_list[:i+1]\n",
        "\t\tinput_sequences.append(n_gram_sequence)\n",
        "\n",
        "\n",
        "max_sequence_len = max([len(x) for x in input_sequences])\n",
        "input_sequences = np.array(pad_sequences(input_sequences, maxlen=max_sequence_len, padding='pre'))"
      ],
      "execution_count": 0,
      "outputs": []
    },
    {
      "cell_type": "code",
      "metadata": {
        "id": "Brsts4b4Kmtt",
        "colab_type": "code",
        "colab": {
          "base_uri": "https://localhost:8080/",
          "height": 51
        },
        "outputId": "7b262066-cd81-486e-9029-7d377944dc78"
      },
      "source": [
        "for k,v in enumerate(tokenizer.word_index):\n",
        "  if v==\"\\t\":\n",
        "    print(k)\n",
        "  elif v==\"\\n\":\n",
        "    print(k)"
      ],
      "execution_count": 54,
      "outputs": [
        {
          "output_type": "stream",
          "text": [
            "0\n",
            "1\n"
          ],
          "name": "stdout"
        }
      ]
    },
    {
      "cell_type": "code",
      "metadata": {
        "id": "33zVKWccAGdC",
        "colab_type": "code",
        "colab": {}
      },
      "source": [
        "# create predictors and label\n",
        "predictors, label = input_sequences[:,:-1],input_sequences[:,-1]\n",
        "\n",
        "label = ku.to_categorical(label, num_classes=total_words)"
      ],
      "execution_count": 0,
      "outputs": []
    },
    {
      "cell_type": "markdown",
      "metadata": {
        "id": "_QIEnG-1BOrS",
        "colab_type": "text"
      },
      "source": [
        "# Model (LSTM)"
      ]
    },
    {
      "cell_type": "code",
      "metadata": {
        "id": "X1q95HQplUcJ",
        "colab_type": "code",
        "outputId": "44bf6e7a-5198-453b-c88e-86f1413761b2",
        "colab": {
          "base_uri": "https://localhost:8080/",
          "height": 374
        }
      },
      "source": [
        "model = Sequential()\n",
        "model.add(Embedding(total_words, 100, input_length=max_sequence_len-1))\n",
        "model.add(Bidirectional(LSTM(150, return_sequences = True)))\n",
        "model.add(Dropout(0.2))\n",
        "model.add(LSTM(100))\n",
        "model.add(Dense(total_words/2, activation='relu', kernel_regularizer=regularizers.l2(0.01)))\n",
        "model.add(Dense(total_words, activation='softmax'))\n",
        "model.compile(loss='categorical_crossentropy', optimizer='adam', metrics=['accuracy'])\n",
        "print(model.summary())"
      ],
      "execution_count": 56,
      "outputs": [
        {
          "output_type": "stream",
          "text": [
            "Model: \"sequential_1\"\n",
            "_________________________________________________________________\n",
            "Layer (type)                 Output Shape              Param #   \n",
            "=================================================================\n",
            "embedding_1 (Embedding)      (None, 293, 100)          272100    \n",
            "_________________________________________________________________\n",
            "bidirectional_1 (Bidirection (None, 293, 300)          301200    \n",
            "_________________________________________________________________\n",
            "dropout_1 (Dropout)          (None, 293, 300)          0         \n",
            "_________________________________________________________________\n",
            "lstm_3 (LSTM)                (None, 100)               160400    \n",
            "_________________________________________________________________\n",
            "dense_2 (Dense)              (None, 1360)              137360    \n",
            "_________________________________________________________________\n",
            "dense_3 (Dense)              (None, 2721)              3703281   \n",
            "=================================================================\n",
            "Total params: 4,574,341\n",
            "Trainable params: 4,574,341\n",
            "Non-trainable params: 0\n",
            "_________________________________________________________________\n",
            "None\n"
          ],
          "name": "stdout"
        }
      ]
    },
    {
      "cell_type": "code",
      "metadata": {
        "id": "8Lsi5hZ1lXXz",
        "colab_type": "code",
        "outputId": "9acedb1e-929b-4430-f2ad-11f52afe71c6",
        "colab": {
          "base_uri": "https://localhost:8080/",
          "height": 357
        }
      },
      "source": [
        "history = model.fit(predictors, label, epochs=10)"
      ],
      "execution_count": 57,
      "outputs": [
        {
          "output_type": "stream",
          "text": [
            "Epoch 1/10\n",
            "8284/8284 [==============================] - 507s 61ms/step - loss: 5.2454 - accuracy: 0.1364\n",
            "Epoch 2/10\n",
            "8284/8284 [==============================] - 504s 61ms/step - loss: 3.9066 - accuracy: 0.2785\n",
            "Epoch 3/10\n",
            "8284/8284 [==============================] - 503s 61ms/step - loss: 2.8982 - accuracy: 0.4267\n",
            "Epoch 4/10\n",
            "8284/8284 [==============================] - 503s 61ms/step - loss: 2.1470 - accuracy: 0.5806\n",
            "Epoch 5/10\n",
            "8284/8284 [==============================] - 508s 61ms/step - loss: 1.6025 - accuracy: 0.6986\n",
            "Epoch 6/10\n",
            "8284/8284 [==============================] - 511s 62ms/step - loss: 1.2106 - accuracy: 0.7849\n",
            "Epoch 7/10\n",
            "8284/8284 [==============================] - 513s 62ms/step - loss: 0.9369 - accuracy: 0.8462\n",
            "Epoch 8/10\n",
            "8284/8284 [==============================] - 513s 62ms/step - loss: 0.7475 - accuracy: 0.8892\n",
            "Epoch 9/10\n",
            "8284/8284 [==============================] - 513s 62ms/step - loss: 0.6183 - accuracy: 0.9168\n",
            "Epoch 10/10\n",
            "8284/8284 [==============================] - 513s 62ms/step - loss: 0.5233 - accuracy: 0.9362\n"
          ],
          "name": "stdout"
        }
      ]
    },
    {
      "cell_type": "code",
      "metadata": {
        "id": "fpsUBWvVlZV5",
        "colab_type": "code",
        "outputId": "33631cc0-f9ac-4ff6-cc52-166fe3ee7565",
        "colab": {
          "base_uri": "https://localhost:8080/",
          "height": 545
        }
      },
      "source": [
        "acc = history.history['accuracy']\n",
        "loss = history.history['loss']\n",
        "\n",
        "epochs = range(len(acc))\n",
        "\n",
        "plt.plot(epochs, acc, 'b', label='Training accuracy')\n",
        "plt.title('Training accuracy')\n",
        "\n",
        "plt.figure()\n",
        "\n",
        "plt.plot(epochs, loss, 'b', label='Training Loss')\n",
        "plt.title('Training loss')\n",
        "plt.legend()\n",
        "\n",
        "plt.show()"
      ],
      "execution_count": 58,
      "outputs": [
        {
          "output_type": "display_data",
          "data": {
            "image/png": "[encoded data removed]",
            "text/plain": [
              "<Figure size 432x288 with 1 Axes>"
            ]
          },
          "metadata": {
            "tags": [],
            "needs_background": "light"
          }
        },
        {
          "output_type": "display_data",
          "data": {
            "image/png": "[encoded data removed]",
            "text/plain": [
              "<Figure size 432x288 with 1 Axes>"
            ]
          },
          "metadata": {
            "tags": [],
            "needs_background": "light"
          }
        }
      ]
    },
    {
      "cell_type": "code",
      "metadata": {
        "id": "1XqvZJiTlbrw",
        "colab_type": "code",
        "outputId": "3b394ea1-d73b-47f1-c3fe-dd67f859c517",
        "colab": {
          "base_uri": "https://localhost:8080/",
          "height": 224
        }
      },
      "source": [
        "seed_text = \"که ایران چو باغی ست خرم بهار\"\n",
        "next_words = 100\n",
        "  \n",
        "for _ in range(next_words):\n",
        "\ttoken_list = tokenizer.texts_to_sequences([seed_text])[0]\n",
        "\ttoken_list = pad_sequences([token_list], maxlen=max_sequence_len-1, padding='pre')\n",
        "\tpredicted = model.predict_classes(token_list, verbose=0)\n",
        "\toutput_word = \"\"\n",
        "\tfor word, index in tokenizer.word_index.items():\n",
        "\t\tif index == predicted:\n",
        "\t\t\toutput_word = word\n",
        "\t\t\tbreak\n",
        "\tseed_text += \" \" + output_word\n",
        "print(seed_text)"
      ],
      "execution_count": 59,
      "outputs": [
        {
          "output_type": "stream",
          "text": [
            "WARNING:tensorflow:From <ipython-input-59-743e5ca8339b>:7: Sequential.predict_classes (from tensorflow.python.keras.engine.sequential) is deprecated and will be removed after 2021-01-01.\n",
            "Instructions for updating:\n",
            "Please use instead:* `np.argmax(model.predict(x), axis=-1)`,   if your model does multi-class classification   (e.g. if it uses a `softmax` last-layer activation).* `(model.predict(x) > 0.5).astype(\"int32\")`,   if your model does binary classification   (e.g. if it uses a `sigmoid` last-layer activation).\n",
            "که ایران چو باغی ست خرم بهار و فرجام جنگ \t کرا بیشتر دینار پاسخ دل اندیشه زریر \n",
            " دگر گر ایدر بدو گفت در نخست \t بنیک و بد آزرم هرکس بجست \n",
            " بکوشید تا بردل هرکسی \t ازو رنج بردن نباشد بسی \n",
            " چنین داد پاسخ که هرکس که داد \t بداد از تن خود همو بود شاد \n",
            " بسان سیاوش سرش را ز تن \t ببرند و کرگس بپوشد کفن \n",
            " چو بشنید طوس سپهبد برفت \t به خون ریختن روی بنهاد تفت \n",
            " بدو سرخه پاسخ آیین مر آن را دریغ \t همان اختر چه دانش ز طوس \n",
            " چو برگردد او از\n"
          ],
          "name": "stdout"
        }
      ]
    },
    {
      "cell_type": "code",
      "metadata": {
        "id": "CkpghgNKIT3f",
        "colab_type": "code",
        "colab": {}
      },
      "source": [
        "model.save(\"word_lstm.h5\")"
      ],
      "execution_count": 0,
      "outputs": []
    },
    {
      "cell_type": "markdown",
      "metadata": {
        "id": "jG2I4UefJhIg",
        "colab_type": "text"
      },
      "source": [
        "# Model (GRU)"
      ]
    },
    {
      "cell_type": "code",
      "metadata": {
        "id": "lLi0UuQaJmn7",
        "colab_type": "code",
        "colab": {
          "base_uri": "https://localhost:8080/",
          "height": 374
        },
        "outputId": "96ca0c2f-19ca-4e3b-975f-e69fba05906f"
      },
      "source": [
        "model = Sequential()\n",
        "model.add(Embedding(total_words, 100, input_length=max_sequence_len-1))\n",
        "model.add(GRU(150, return_sequences = True))\n",
        "model.add(Dropout(0.2))\n",
        "model.add(GRU(100))\n",
        "model.add(Dense(total_words/2, activation='relu', kernel_regularizer=regularizers.l2(0.01)))\n",
        "model.add(Dense(total_words, activation='softmax'))\n",
        "model.compile(loss='categorical_crossentropy', optimizer='adam', metrics=['accuracy'])\n",
        "print(model.summary())"
      ],
      "execution_count": 63,
      "outputs": [
        {
          "output_type": "stream",
          "text": [
            "Model: \"sequential_3\"\n",
            "_________________________________________________________________\n",
            "Layer (type)                 Output Shape              Param #   \n",
            "=================================================================\n",
            "embedding_3 (Embedding)      (None, 293, 100)          272100    \n",
            "_________________________________________________________________\n",
            "gru (GRU)                    (None, 293, 150)          113400    \n",
            "_________________________________________________________________\n",
            "dropout_2 (Dropout)          (None, 293, 150)          0         \n",
            "_________________________________________________________________\n",
            "gru_1 (GRU)                  (None, 100)               75600     \n",
            "_________________________________________________________________\n",
            "dense_4 (Dense)              (None, 1360)              137360    \n",
            "_________________________________________________________________\n",
            "dense_5 (Dense)              (None, 2721)              3703281   \n",
            "=================================================================\n",
            "Total params: 4,301,741\n",
            "Trainable params: 4,301,741\n",
            "Non-trainable params: 0\n",
            "_________________________________________________________________\n",
            "None\n"
          ],
          "name": "stdout"
        }
      ]
    },
    {
      "cell_type": "code",
      "metadata": {
        "id": "HJ2CQ-2wJqCM",
        "colab_type": "code",
        "colab": {
          "base_uri": "https://localhost:8080/",
          "height": 357
        },
        "outputId": "5225c159-4610-43ba-d4ca-403b3ce4f5cb"
      },
      "source": [
        "history = model.fit(predictors, label, epochs=10)"
      ],
      "execution_count": 65,
      "outputs": [
        {
          "output_type": "stream",
          "text": [
            "Epoch 1/10\n",
            "8284/8284 [==============================] - 336s 41ms/step - loss: 4.6766 - accuracy: 0.2113\n",
            "Epoch 2/10\n",
            "8284/8284 [==============================] - 337s 41ms/step - loss: 2.5151 - accuracy: 0.5072\n",
            "Epoch 3/10\n",
            "8284/8284 [==============================] - 336s 41ms/step - loss: 1.3320 - accuracy: 0.7797\n",
            "Epoch 4/10\n",
            "8284/8284 [==============================] - 336s 41ms/step - loss: 0.8330 - accuracy: 0.8910\n",
            "Epoch 5/10\n",
            "8284/8284 [==============================] - 337s 41ms/step - loss: 0.5972 - accuracy: 0.9341\n",
            "Epoch 6/10\n",
            "8284/8284 [==============================] - 337s 41ms/step - loss: 0.4829 - accuracy: 0.9498\n",
            "Epoch 7/10\n",
            "8284/8284 [==============================] - 337s 41ms/step - loss: 0.4121 - accuracy: 0.9588\n",
            "Epoch 8/10\n",
            "8284/8284 [==============================] - 336s 41ms/step - loss: 0.3659 - accuracy: 0.9633\n",
            "Epoch 9/10\n",
            "8284/8284 [==============================] - 337s 41ms/step - loss: 0.3396 - accuracy: 0.9655\n",
            "Epoch 10/10\n",
            "8284/8284 [==============================] - 337s 41ms/step - loss: 0.3225 - accuracy: 0.9661\n"
          ],
          "name": "stdout"
        }
      ]
    },
    {
      "cell_type": "code",
      "metadata": {
        "id": "FGl6xAJfJ0rd",
        "colab_type": "code",
        "colab": {
          "base_uri": "https://localhost:8080/",
          "height": 545
        },
        "outputId": "d8dfad38-fd74-413a-c24b-aa490bed91c2"
      },
      "source": [
        "acc = history.history['accuracy']\n",
        "loss = history.history['loss']\n",
        "\n",
        "epochs = range(len(acc))\n",
        "\n",
        "plt.plot(epochs, acc, 'b', label='Training accuracy')\n",
        "plt.title('Training accuracy')\n",
        "\n",
        "plt.figure()\n",
        "\n",
        "plt.plot(epochs, loss, 'b', label='Training Loss')\n",
        "plt.title('Training loss')\n",
        "plt.legend()\n",
        "\n",
        "plt.show()"
      ],
      "execution_count": 66,
      "outputs": [
        {
          "output_type": "display_data",
          "data": {
            "image/png": "[encoded data removed]",
            "text/plain": [
              "<Figure size 432x288 with 1 Axes>"
            ]
          },
          "metadata": {
            "tags": [],
            "needs_background": "light"
          }
        },
        {
          "output_type": "display_data",
          "data": {
            "image/png": "[encoded data removed]",
            "text/plain": [
              "<Figure size 432x288 with 1 Axes>"
            ]
          },
          "metadata": {
            "tags": [],
            "needs_background": "light"
          }
        }
      ]
    },
    {
      "cell_type": "code",
      "metadata": {
        "id": "nxApeE4vJ2eQ",
        "colab_type": "code",
        "colab": {
          "base_uri": "https://localhost:8080/",
          "height": 153
        },
        "outputId": "f65d8107-afa1-44a1-d9ae-b71e6d5e2c81"
      },
      "source": [
        "seed_text = \"که ایران چو باغی ست خرم بهار\"\n",
        "next_words = 100\n",
        "  \n",
        "for _ in range(next_words):\n",
        "\ttoken_list = tokenizer.texts_to_sequences([seed_text])[0]\n",
        "\ttoken_list = pad_sequences([token_list], maxlen=max_sequence_len-1, padding='pre')\n",
        "\tpredicted = model.predict_classes(token_list, verbose=0)\n",
        "\toutput_word = \"\"\n",
        "\tfor word, index in tokenizer.word_index.items():\n",
        "\t\tif index == predicted:\n",
        "\t\t\toutput_word = word\n",
        "\t\t\tbreak\n",
        "\tseed_text += \" \" + output_word\n",
        "print(seed_text)"
      ],
      "execution_count": 67,
      "outputs": [
        {
          "output_type": "stream",
          "text": [
            "که ایران چو باغی ست خرم بهار فرمان پای \t روان نامدارنش بنشاندند \n",
            " نخستین سخن گفت بوزرجمهر \t که ای شاه نیک اختر خوب چهر \n",
            " یکی آرزو کرد موزه فروش \t اگر شاه دارد بمن بنده گوش \n",
            " فرستاده گوید که این مرد گفت \t که شاه جهان با خرد باد جفت \n",
            " یکی پور دارم رسیده بجای \t بفرهنگ جوید همی رهنمای \n",
            " اگر شاه باشد بدین دستگیر \t که این پاک فرزند گردد دبیر \n",
            " ز یزدان بخواهم همی جان شاه \t که جاوید باد این سزاوار گاه \n",
            " بدو گفت شاه ای خردمند مرد \t چرا دیو چشم تو را تیره کرد\n"
          ],
          "name": "stdout"
        }
      ]
    },
    {
      "cell_type": "code",
      "metadata": {
        "id": "bjkhAJW_KJVk",
        "colab_type": "code",
        "colab": {}
      },
      "source": [
        "model.save(\"word_gru.h5\")"
      ],
      "execution_count": 0,
      "outputs": []
    }
  ]
}