{
  "nbformat": 4,
  "nbformat_minor": 0,
  "metadata": {
    "colab": {
      "name": "tempo.ipynb",
      "provenance": [],
      "include_colab_link": true
    },
    "kernelspec": {
      "name": "python3",
      "display_name": "Python 3"
    },
    "accelerator": "GPU"
  },
  "cells": [
    {
      "cell_type": "markdown",
      "metadata": {
        "id": "view-in-github",
        "colab_type": "text"
      },
      "source": [
        "<a href=\"https://colab.research.google.com/github/aliakbarbadri/persian-poetry-creator/blob/master/word-lstm.ipynb\" target=\"_parent\"><img src=\"https://colab.research.google.com/assets/colab-badge.svg\" alt=\"Open In Colab\"/></a>"
      ]
    },
    {
      "cell_type": "code",
      "metadata": {
        "id": "nF-7m57sBgdp",
        "colab_type": "code",
        "colab": {}
      },
      "source": [
        "from tensorflow.keras.preprocessing.sequence import pad_sequences\n",
        "from tensorflow import keras\n",
        "from tensorflow.keras.layers import Embedding, LSTM, Dense, Dropout, Bidirectional\n",
        "from tensorflow.keras.preprocessing.text import Tokenizer\n",
        "from tensorflow.keras.models import Sequential\n",
        "from tensorflow.keras.optimizers import Adam\n",
        "from tensorflow.keras import regularizers\n",
        "import tensorflow.keras.utils as ku \n",
        "import numpy as np"
      ],
      "execution_count": 0,
      "outputs": []
    },
    {
      "cell_type": "markdown",
      "metadata": {
        "id": "WcYyroDgBRQx",
        "colab_type": "text"
      },
      "source": [
        "# Data"
      ]
    },
    {
      "cell_type": "code",
      "metadata": {
        "id": "hH7w4AIMls2Z",
        "colab_type": "code",
        "colab": {}
      },
      "source": [
        "url = \"https://raw.githubusercontent.com/aliakbarbadri/persian-poetry-creator/master/shahname2.txt\"\n",
        "filepath = keras.utils.get_file(\"shahname.txt\", url) \n",
        "with open(filepath) as f:\n",
        "  data = f.read()\n",
        "texts = data.split(\"\\n\")"
      ],
      "execution_count": 0,
      "outputs": []
    },
    {
      "cell_type": "code",
      "metadata": {
        "id": "EU5TCADPYSyR",
        "colab_type": "code",
        "colab": {
          "base_uri": "https://localhost:8080/",
          "height": 34
        },
        "outputId": "e433ab8b-152a-4387-c04e-3925438f918d"
      },
      "source": [
        "beyt10 = \"\\n\".join(texts[:20])\n",
        "len(beyt10.split())"
      ],
      "execution_count": 11,
      "outputs": [
        {
          "output_type": "execute_result",
          "data": {
            "text/plain": [
              "204"
            ]
          },
          "metadata": {
            "tags": []
          },
          "execution_count": 11
        }
      ]
    },
    {
      "cell_type": "code",
      "metadata": {
        "id": "orksp0HsUORY",
        "colab_type": "code",
        "colab": {}
      },
      "source": [
        "corpus = []\n",
        "length = 20\n",
        "for i in range(int(20000/length)):\n",
        "  beyt10 = \"\\n\".join(texts[i:i+length])\n",
        "  corpus.append(beyt10)"
      ],
      "execution_count": 0,
      "outputs": []
    },
    {
      "cell_type": "code",
      "metadata": {
        "id": "APGo77rdvwKZ",
        "colab_type": "code",
        "colab": {
          "base_uri": "https://localhost:8080/",
          "height": 34
        },
        "outputId": "6eca28de-9bdb-4665-c3bb-72c0a52b49dc"
      },
      "source": [
        "len(corpus)"
      ],
      "execution_count": 13,
      "outputs": [
        {
          "output_type": "execute_result",
          "data": {
            "text/plain": [
              "1000"
            ]
          },
          "metadata": {
            "tags": []
          },
          "execution_count": 13
        }
      ]
    },
    {
      "cell_type": "code",
      "metadata": {
        "id": "bBP8E5bzPx8W",
        "colab_type": "code",
        "colab": {
          "base_uri": "https://localhost:8080/",
          "height": 54
        },
        "outputId": "c1ad2721-4623-4b1c-cb3c-e7fbb424ff58"
      },
      "source": [
        "corpus[0]"
      ],
      "execution_count": 14,
      "outputs": [
        {
          "output_type": "execute_result",
          "data": {
            "text/plain": [
              "'چو ترکان بدیدند کارجاسپ رفت\\tهمی آید از هر سوی تیغ تفت\\nهمه سرکشانشان پیاده شدند\\tبه پیش گو اسفندیار آمدند\\nکمانچای چاچی بینداختند\\tقبای نبردی برون آختند\\nبه زاریش گفتند گر شهریار\\tدهد بندگان را به جان زینهار\\nبدین اندر آییم و خواهش کنیم\\tهمه آذران را نیایش کنیم\\nازیشان چو بشنید اسفندیار\\tبه جان و به تن دادشان زینهار\\nبران لشگر گشن آواز داد\\tگو نامبردار فرخ\\u200cنژاد\\nکه این نامداران ایرانیان\\tبگردید زین لشکر چینیان\\nکنون کاین سپاه عدو گشت پست\\tازین سهم و کشتن بدارید دست\\nکه بس زاروارند و بیچاره\\u200cوار\\tدهدی این سگان را به جان زینهار\\nبدارید دست از گرفتن کنون\\tمبندید کس را مریزید خون\\nمتازید و این کشتگان مسپرید\\tبگردید و این خستگان بشمرید\\nمگیریدشان بهر جان زریر\\tبر اسپان جنگی مپایید دیر\\nچو لشکر شنیدند آواز اوی\\tشدند از بر خستگان بارزوی\\nبه لشکرگه خود فرود آمدند\\tبه پیروز گشتن تبیره زدند\\nهمه شب نخفتند زان خرمی\\tکه پیروزی بودشان رستمی\\nچو اندر شکست آن شب تیره\\u200cگون\\tبه دشت و بیابان فرو خورد خون\\nکی نامور با سران سپاه\\tبیامد به دیدار آن رزمگاه\\nهمی گرد آن کشتگان بر بگشت\\tکرا دید بگریست و اندر گذشت\\nبرادرش را دید کشته به زار\\tبه آوردگاهی برافگنده خوار'"
            ]
          },
          "metadata": {
            "tags": []
          },
          "execution_count": 14
        }
      ]
    },
    {
      "cell_type": "code",
      "metadata": {
        "id": "XmClLLATvmsx",
        "colab_type": "code",
        "colab": {
          "base_uri": "https://localhost:8080/",
          "height": 357
        },
        "outputId": "4a65c7a0-6260-4662-ad9b-227e3fddb5ac"
      },
      "source": [
        "print(corpus[0])"
      ],
      "execution_count": 15,
      "outputs": [
        {
          "output_type": "stream",
          "text": [
            "چو ترکان بدیدند کارجاسپ رفت\tهمی آید از هر سوی تیغ تفت\n",
            "همه سرکشانشان پیاده شدند\tبه پیش گو اسفندیار آمدند\n",
            "کمانچای چاچی بینداختند\tقبای نبردی برون آختند\n",
            "به زاریش گفتند گر شهریار\tدهد بندگان را به جان زینهار\n",
            "بدین اندر آییم و خواهش کنیم\tهمه آذران را نیایش کنیم\n",
            "ازیشان چو بشنید اسفندیار\tبه جان و به تن دادشان زینهار\n",
            "بران لشگر گشن آواز داد\tگو نامبردار فرخ‌نژاد\n",
            "که این نامداران ایرانیان\tبگردید زین لشکر چینیان\n",
            "کنون کاین سپاه عدو گشت پست\tازین سهم و کشتن بدارید دست\n",
            "که بس زاروارند و بیچاره‌وار\tدهدی این سگان را به جان زینهار\n",
            "بدارید دست از گرفتن کنون\tمبندید کس را مریزید خون\n",
            "متازید و این کشتگان مسپرید\tبگردید و این خستگان بشمرید\n",
            "مگیریدشان بهر جان زریر\tبر اسپان جنگی مپایید دیر\n",
            "چو لشکر شنیدند آواز اوی\tشدند از بر خستگان بارزوی\n",
            "به لشکرگه خود فرود آمدند\tبه پیروز گشتن تبیره زدند\n",
            "همه شب نخفتند زان خرمی\tکه پیروزی بودشان رستمی\n",
            "چو اندر شکست آن شب تیره‌گون\tبه دشت و بیابان فرو خورد خون\n",
            "کی نامور با سران سپاه\tبیامد به دیدار آن رزمگاه\n",
            "همی گرد آن کشتگان بر بگشت\tکرا دید بگریست و اندر گذشت\n",
            "برادرش را دید کشته به زار\tبه آوردگاهی برافگنده خوار\n"
          ],
          "name": "stdout"
        }
      ]
    },
    {
      "cell_type": "code",
      "metadata": {
        "id": "wGZXjbxvlEtl",
        "colab_type": "code",
        "colab": {}
      },
      "source": [
        "tokenizer = Tokenizer(filters=\"\")\n",
        "tokenizer.fit_on_texts(corpus)\n",
        "total_words = len(tokenizer.word_index) + 1\n",
        "\n",
        "input_sequences = []\n",
        "for line in corpus:\n",
        "\ttoken_list = tokenizer.texts_to_sequences([line])[0]\n",
        "\tfor i in range(1, len(token_list)):\n",
        "\t\tn_gram_sequence = token_list[:i+1]\n",
        "\t\tinput_sequences.append(n_gram_sequence)\n",
        "\n",
        "\n",
        "max_sequence_len = max([len(x) for x in input_sequences])\n",
        "input_sequences = np.array(pad_sequences(input_sequences, maxlen=max_sequence_len, padding='pre'))"
      ],
      "execution_count": 0,
      "outputs": []
    },
    {
      "cell_type": "code",
      "metadata": {
        "id": "33zVKWccAGdC",
        "colab_type": "code",
        "colab": {}
      },
      "source": [
        "# create predictors and label\n",
        "predictors, label = input_sequences[:,:-1],input_sequences[:,-1]\n",
        "\n",
        "label = ku.to_categorical(label, num_classes=total_words)"
      ],
      "execution_count": 0,
      "outputs": []
    },
    {
      "cell_type": "markdown",
      "metadata": {
        "id": "_QIEnG-1BOrS",
        "colab_type": "text"
      },
      "source": [
        "# Model"
      ]
    },
    {
      "cell_type": "code",
      "metadata": {
        "id": "X1q95HQplUcJ",
        "colab_type": "code",
        "colab": {
          "base_uri": "https://localhost:8080/",
          "height": 374
        },
        "outputId": "f0595190-9303-4a40-a06c-415dd577f13c"
      },
      "source": [
        "model = Sequential()\n",
        "model.add(Embedding(total_words, 100, input_length=max_sequence_len-1))\n",
        "model.add(Bidirectional(LSTM(150, return_sequences = True)))\n",
        "model.add(Dropout(0.2))\n",
        "model.add(LSTM(100))\n",
        "model.add(Dense(total_words/2, activation='relu', kernel_regularizer=regularizers.l2(0.01)))\n",
        "model.add(Dense(total_words, activation='softmax'))\n",
        "model.compile(loss='categorical_crossentropy', optimizer='adam', metrics=['accuracy'])\n",
        "print(model.summary())"
      ],
      "execution_count": 18,
      "outputs": [
        {
          "output_type": "stream",
          "text": [
            "Model: \"sequential\"\n",
            "_________________________________________________________________\n",
            "Layer (type)                 Output Shape              Param #   \n",
            "=================================================================\n",
            "embedding (Embedding)        (None, 215, 100)          433600    \n",
            "_________________________________________________________________\n",
            "bidirectional (Bidirectional (None, 215, 300)          301200    \n",
            "_________________________________________________________________\n",
            "dropout (Dropout)            (None, 215, 300)          0         \n",
            "_________________________________________________________________\n",
            "lstm_1 (LSTM)                (None, 100)               160400    \n",
            "_________________________________________________________________\n",
            "dense (Dense)                (None, 2168)              218968    \n",
            "_________________________________________________________________\n",
            "dense_1 (Dense)              (None, 4336)              9404784   \n",
            "=================================================================\n",
            "Total params: 10,518,952\n",
            "Trainable params: 10,518,952\n",
            "Non-trainable params: 0\n",
            "_________________________________________________________________\n",
            "None\n"
          ],
          "name": "stdout"
        }
      ]
    },
    {
      "cell_type": "code",
      "metadata": {
        "id": "8Lsi5hZ1lXXz",
        "colab_type": "code",
        "colab": {
          "base_uri": "https://localhost:8080/",
          "height": 527
        },
        "outputId": "825203fe-cccc-4d50-d5c5-a8f4b09032d1"
      },
      "source": [
        "history = model.fit(predictors, label, epochs=10)"
      ],
      "execution_count": 19,
      "outputs": [
        {
          "output_type": "stream",
          "text": [
            "Epoch 1/15\n",
            "5702/5702 [==============================] - 223s 39ms/step - loss: 6.6349 - accuracy: 0.0472\n",
            "Epoch 2/15\n",
            "5702/5702 [==============================] - 225s 39ms/step - loss: 5.2143 - accuracy: 0.1074\n",
            "Epoch 3/15\n",
            "5702/5702 [==============================] - 224s 39ms/step - loss: 3.6850 - accuracy: 0.2892\n",
            "Epoch 4/15\n",
            "5702/5702 [==============================] - 224s 39ms/step - loss: 2.4668 - accuracy: 0.5499\n",
            "Epoch 5/15\n",
            "5702/5702 [==============================] - 224s 39ms/step - loss: 1.6996 - accuracy: 0.7402\n",
            "Epoch 6/15\n",
            "5702/5702 [==============================] - 224s 39ms/step - loss: 1.2084 - accuracy: 0.8543\n",
            "Epoch 7/15\n",
            "5702/5702 [==============================] - 224s 39ms/step - loss: 0.9102 - accuracy: 0.9098\n",
            "Epoch 8/15\n",
            "5702/5702 [==============================] - 225s 39ms/step - loss: 0.7246 - accuracy: 0.9371\n",
            "Epoch 9/15\n",
            "5702/5702 [==============================] - 226s 40ms/step - loss: 0.6039 - accuracy: 0.9515\n",
            "Epoch 10/15\n",
            "5702/5702 [==============================] - 226s 40ms/step - loss: 0.5212 - accuracy: 0.9592\n",
            "Epoch 11/15\n",
            "5702/5702 [==============================] - 224s 39ms/step - loss: 0.4693 - accuracy: 0.9631\n",
            "Epoch 12/15\n",
            "5702/5702 [==============================] - 223s 39ms/step - loss: 0.4233 - accuracy: 0.9667\n",
            "Epoch 13/15\n",
            "5702/5702 [==============================] - 224s 39ms/step - loss: 0.3874 - accuracy: 0.9692\n",
            "Epoch 14/15\n",
            "5702/5702 [==============================] - 224s 39ms/step - loss: 0.3621 - accuracy: 0.9701\n",
            "Epoch 15/15\n",
            "5702/5702 [==============================] - 222s 39ms/step - loss: 0.3374 - accuracy: 0.9725\n"
          ],
          "name": "stdout"
        }
      ]
    },
    {
      "cell_type": "code",
      "metadata": {
        "id": "fpsUBWvVlZV5",
        "colab_type": "code",
        "colab": {
          "base_uri": "https://localhost:8080/",
          "height": 545
        },
        "outputId": "cd221392-0c65-46e4-a51e-143978f33702"
      },
      "source": [
        "import matplotlib.pyplot as plt\n",
        "acc = history.history['accuracy']\n",
        "loss = history.history['loss']\n",
        "\n",
        "epochs = range(len(acc))\n",
        "\n",
        "plt.plot(epochs, acc, 'b', label='Training accuracy')\n",
        "plt.title('Training accuracy')\n",
        "\n",
        "plt.figure()\n",
        "\n",
        "plt.plot(epochs, loss, 'b', label='Training Loss')\n",
        "plt.title('Training loss')\n",
        "plt.legend()\n",
        "\n",
        "plt.show()"
      ],
      "execution_count": 20,
      "outputs": [
        {
          "output_type": "display_data",
          "data": {
            "image/png": "[encoded data removed]",
            "text/plain": [
              "<Figure size 432x288 with 1 Axes>"
            ]
          },
          "metadata": {
            "tags": [],
            "needs_background": "light"
          }
        },
        {
          "output_type": "display_data",
          "data": {
            "image/png": "[encoded data removed]",
            "text/plain": [
              "<Figure size 432x288 with 1 Axes>"
            ]
          },
          "metadata": {
            "tags": [],
            "needs_background": "light"
          }
        }
      ]
    },
    {
      "cell_type": "code",
      "metadata": {
        "id": "1XqvZJiTlbrw",
        "colab_type": "code",
        "colab": {
          "base_uri": "https://localhost:8080/",
          "height": 292
        },
        "outputId": "2142f249-fa7a-4795-8324-7bbbda1c6f8d"
      },
      "source": [
        "seed_text = \"که ایران چو باغی ست خرم بهار\"\n",
        "next_words = 100\n",
        "  \n",
        "for _ in range(next_words):\n",
        "\ttoken_list = tokenizer.texts_to_sequences([seed_text])[0]\n",
        "\ttoken_list = pad_sequences([token_list], maxlen=max_sequence_len-1, padding='pre')\n",
        "\tpredicted = model.predict_classes(token_list, verbose=0)\n",
        "\toutput_word = \"\"\n",
        "\tfor word, index in tokenizer.word_index.items():\n",
        "\t\tif index == predicted:\n",
        "\t\t\toutput_word = word\n",
        "\t\t\tbreak\n",
        "\tseed_text += \" \" + output_word\n",
        "print(seed_text)"
      ],
      "execution_count": 21,
      "outputs": [
        {
          "output_type": "stream",
          "text": [
            "WARNING:tensorflow:From <ipython-input-21-743e5ca8339b>:7: Sequential.predict_classes (from tensorflow.python.keras.engine.sequential) is deprecated and will be removed after 2021-01-01.\n",
            "Instructions for updating:\n",
            "Please use instead:* `np.argmax(model.predict(x), axis=-1)`,   if your model does multi-class classification   (e.g. if it uses a `softmax` last-layer activation).* `(model.predict(x) > 0.5).astype(\"int32\")`,   if your model does binary classification   (e.g. if it uses a `sigmoid` last-layer activation).\n",
            "که ایران چو باغی ست خرم بهار کش سلیح شست\n",
            "ببایست با هم یکسره\tهمی روی ایزد آفرید\n",
            "بفرمود تا هرک بخرد بدند\tبران لشکر روم موبد بدند\n",
            "نشستند و او را به آیین بخواست\tبه رسم مسیحا و پیوند راست\n",
            "برو ریخت دینار چندان ز گنج\tکه شد ماه را راه رفتن به راه\tفرود آید او همچنان با سپاه\n",
            "ببیندش و برگردد از پیش اوی\tپراندیشه بد زان سخن نامجوی\n",
            "پس آنگاه خاقان چنان هم بر اسب\tابا موبد خویش پیداگشسب\n",
            "فرود آمد از اسب خاقان همان\tبیامد برشاه ایران دمان\n",
            "درنگی ببد تا جهاندار شاه\tنشست از بر تازی اسبی سیاه\n",
            "شهنشاه اسب تگاور براند\tبدهلیز با او زمانی بماند\n",
            "چوخاقان برفت از در شهریار\tعنانش گرفت آن زمان پرده دار\n",
            "پیاده شد از باره پرموده\n"
          ],
          "name": "stdout"
        }
      ]
    },
    {
      "cell_type": "code",
      "metadata": {
        "id": "CkpghgNKIT3f",
        "colab_type": "code",
        "colab": {}
      },
      "source": [
        "model.save(\"word_lstm.h5\")"
      ],
      "execution_count": 0,
      "outputs": []
    }
  ]
}