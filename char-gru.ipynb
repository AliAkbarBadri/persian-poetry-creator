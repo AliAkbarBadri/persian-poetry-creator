{
  "nbformat": 4,
  "nbformat_minor": 0,
  "metadata": {
    "colab": {
      "name": "tempo.ipynb",
      "provenance": [],
      "toc_visible": true,
      "include_colab_link": true
    },
    "kernelspec": {
      "name": "python3",
      "display_name": "Python 3"
    },
    "accelerator": "GPU"
  },
  "cells": [
    {
      "cell_type": "markdown",
      "metadata": {
        "id": "view-in-github",
        "colab_type": "text"
      },
      "source": [
        "<a href=\"https://colab.research.google.com/github/aliakbarbadri/persian-poetry-creator/blob/master/char-gru.ipynb\" target=\"_parent\"><img src=\"https://colab.research.google.com/assets/colab-badge.svg\" alt=\"Open In Colab\"/></a>"
      ]
    },
    {
      "cell_type": "code",
      "metadata": {
        "id": "nF-7m57sBgdp",
        "colab_type": "code",
        "colab": {}
      },
      "source": [
        "import tensorflow as tf\n",
        "from tensorflow import keras\n",
        "import numpy as np\n",
        "import pandas as pd\n",
        "import matplotlib.pyplot as plt\n",
        "import os\n",
        "import time"
      ],
      "execution_count": 0,
      "outputs": []
    },
    {
      "cell_type": "markdown",
      "metadata": {
        "id": "wXgkMK0iMQDL",
        "colab_type": "text"
      },
      "source": [
        "# Load the data"
      ]
    },
    {
      "cell_type": "code",
      "metadata": {
        "id": "l8wd1saxwPtu",
        "colab_type": "code",
        "colab": {}
      },
      "source": [
        "url = \"https://raw.githubusercontent.com/aliakbarbadri/persian-poetry-creator/master/shahname2.txt\"\n",
        "filepath = keras.utils.get_file(\"shahname.txt\", url) \n",
        "corpus = open(filepath, 'rb').read().decode(encoding='utf-8')\n",
        "corpus = corpus.replace(\"\\t\",\" \\t \").replace(\"\\n\", \" \\n \")"
      ],
      "execution_count": 0,
      "outputs": []
    },
    {
      "cell_type": "code",
      "metadata": {
        "id": "OHzCO_cSlYoO",
        "colab_type": "code",
        "outputId": "04a73f06-7b71-414f-d919-cef7647a946e",
        "colab": {
          "base_uri": "https://localhost:8080/",
          "height": 34
        }
      },
      "source": [
        "vocab = sorted(set(corpus))\n",
        "print(len(vocab), \"chars\")"
      ],
      "execution_count": 6,
      "outputs": [
        {
          "output_type": "stream",
          "text": [
            "48 chars\n"
          ],
          "name": "stdout"
        }
      ]
    },
    {
      "cell_type": "code",
      "metadata": {
        "id": "S8ehHLWYLtqw",
        "colab_type": "code",
        "colab": {
          "base_uri": "https://localhost:8080/",
          "height": 833
        },
        "outputId": "9a75689d-b3de-4a5c-b786-5efacdd9d21d"
      },
      "source": [
        "vocab"
      ],
      "execution_count": 7,
      "outputs": [
        {
          "output_type": "execute_result",
          "data": {
            "text/plain": [
              "['\\t',\n",
              " '\\n',\n",
              " ' ',\n",
              " '(',\n",
              " ')',\n",
              " '«',\n",
              " '»',\n",
              " '،',\n",
              " '؟',\n",
              " 'ء',\n",
              " 'آ',\n",
              " 'أ',\n",
              " 'ؤ',\n",
              " 'ئ',\n",
              " 'ا',\n",
              " 'ب',\n",
              " 'ت',\n",
              " 'ث',\n",
              " 'ج',\n",
              " 'ح',\n",
              " 'خ',\n",
              " 'د',\n",
              " 'ذ',\n",
              " 'ر',\n",
              " 'ز',\n",
              " 'س',\n",
              " 'ش',\n",
              " 'ص',\n",
              " 'ض',\n",
              " 'ط',\n",
              " 'ظ',\n",
              " 'ع',\n",
              " 'غ',\n",
              " 'ف',\n",
              " 'ق',\n",
              " 'ل',\n",
              " 'م',\n",
              " 'ن',\n",
              " 'ه',\n",
              " 'و',\n",
              " 'ٔ',\n",
              " 'پ',\n",
              " 'چ',\n",
              " 'ژ',\n",
              " 'ک',\n",
              " 'گ',\n",
              " 'ی',\n",
              " '\\u200c']"
            ]
          },
          "metadata": {
            "tags": []
          },
          "execution_count": 7
        }
      ]
    },
    {
      "cell_type": "code",
      "metadata": {
        "id": "Y9JzIK9elja4",
        "colab_type": "code",
        "colab": {}
      },
      "source": [
        "char2idx = {u:i for i, u in enumerate(vocab)}\n",
        "idx2char = np.array(vocab)\n",
        "text_as_int = np.array([char2idx[c] for c in corpus])"
      ],
      "execution_count": 0,
      "outputs": []
    },
    {
      "cell_type": "code",
      "metadata": {
        "id": "U22k7ShUl0xm",
        "colab_type": "code",
        "colab": {}
      },
      "source": [
        "seq_length = 1000\n",
        "examples_per_epoch = len(corpus)//(seq_length+1)\n",
        "char_dataset = tf.data.Dataset.from_tensor_slices(text_as_int)\n",
        "sequences = char_dataset.batch(seq_length+1, drop_remainder=True)"
      ],
      "execution_count": 0,
      "outputs": []
    },
    {
      "cell_type": "code",
      "metadata": {
        "id": "4XlooC1Ongpo",
        "colab_type": "code",
        "colab": {}
      },
      "source": [
        "def split_input_target(chunk):\n",
        "    input_text = chunk[:-1]\n",
        "    target_text = chunk[1:]\n",
        "    return input_text, target_text\n",
        "\n",
        "dataset = sequences.map(split_input_target)"
      ],
      "execution_count": 0,
      "outputs": []
    },
    {
      "cell_type": "code",
      "metadata": {
        "id": "FfQ5q86yoePB",
        "colab_type": "code",
        "outputId": "df7dfcfe-d4d3-440b-af5c-eb3e01261e55",
        "colab": {
          "base_uri": "https://localhost:8080/",
          "height": 34
        }
      },
      "source": [
        "BATCH_SIZE = 64\n",
        "BUFFER_SIZE = 10000\n",
        "dataset = dataset.shuffle(BUFFER_SIZE).batch(BATCH_SIZE, drop_remainder=True)\n",
        "dataset"
      ],
      "execution_count": 11,
      "outputs": [
        {
          "output_type": "execute_result",
          "data": {
            "text/plain": [
              "<BatchDataset shapes: ((64, 1000), (64, 1000)), types: (tf.int64, tf.int64)>"
            ]
          },
          "metadata": {
            "tags": []
          },
          "execution_count": 11
        }
      ]
    },
    {
      "cell_type": "markdown",
      "metadata": {
        "id": "-11mQDSktgRz",
        "colab_type": "text"
      },
      "source": [
        "# Model"
      ]
    },
    {
      "cell_type": "code",
      "metadata": {
        "id": "jAMXrqzeIQn5",
        "colab_type": "code",
        "colab": {}
      },
      "source": [
        "vocab_size = len(vocab)\n",
        "embedding_dim = 256\n",
        "rnn_units = 1024"
      ],
      "execution_count": 0,
      "outputs": []
    },
    {
      "cell_type": "code",
      "metadata": {
        "id": "McBFd1ppopSE",
        "colab_type": "code",
        "outputId": "b30921ca-0956-456e-da47-44072cec984f",
        "colab": {
          "base_uri": "https://localhost:8080/",
          "height": 289
        }
      },
      "source": [
        "model = keras.Sequential()\n",
        "model.add(tf.keras.layers.Embedding(vocab_size, embedding_dim,\n",
        "                              batch_input_shape=[BATCH_SIZE, None]))\n",
        "model.add(tf.keras.layers.GRU(rnn_units,return_sequences=True,stateful=True,\n",
        "                              recurrent_initializer='glorot_uniform',\n",
        "                              recurrent_regularizer=keras.regularizers.l2(0.01)\n",
        "                              ))\n",
        "model.add(tf.keras.layers.GRU(rnn_units,return_sequences=True,stateful=True,\n",
        "                              recurrent_initializer='glorot_uniform',\n",
        "                              recurrent_regularizer=keras.regularizers.l2(0.01)\n",
        "                              ))\n",
        "model.add(tf.keras.layers.Dense(vocab_size))\n",
        "model.summary()"
      ],
      "execution_count": 21,
      "outputs": [
        {
          "output_type": "stream",
          "text": [
            "Model: \"sequential_2\"\n",
            "_________________________________________________________________\n",
            "Layer (type)                 Output Shape              Param #   \n",
            "=================================================================\n",
            "embedding_2 (Embedding)      (64, None, 256)           12288     \n",
            "_________________________________________________________________\n",
            "gru_4 (GRU)                  (64, None, 1024)          3938304   \n",
            "_________________________________________________________________\n",
            "gru_5 (GRU)                  (64, None, 1024)          6297600   \n",
            "_________________________________________________________________\n",
            "dense_2 (Dense)              (64, None, 48)            49200     \n",
            "=================================================================\n",
            "Total params: 10,297,392\n",
            "Trainable params: 10,297,392\n",
            "Non-trainable params: 0\n",
            "_________________________________________________________________\n"
          ],
          "name": "stdout"
        }
      ]
    },
    {
      "cell_type": "code",
      "metadata": {
        "id": "U_5_FwWzpWHV",
        "colab_type": "code",
        "colab": {}
      },
      "source": [
        "model.compile(optimizer='adam', loss=keras.losses.SparseCategoricalCrossentropy(from_logits=True), metrics=['accuracy'])"
      ],
      "execution_count": 0,
      "outputs": []
    },
    {
      "cell_type": "code",
      "metadata": {
        "id": "Qj5ozZC5pcpG",
        "colab_type": "code",
        "outputId": "29084a4f-e00a-487f-b7f7-946c8a2347a9",
        "colab": {
          "base_uri": "https://localhost:8080/",
          "height": 697
        }
      },
      "source": [
        "history = model.fit(dataset, epochs=50)"
      ],
      "execution_count": 23,
      "outputs": [
        {
          "output_type": "stream",
          "text": [
            "Epoch 1/20\n",
            "42/42 [==============================] - 110s 3s/step - loss: 11.1309 - accuracy: 0.2388\n",
            "Epoch 2/20\n",
            "42/42 [==============================] - 110s 3s/step - loss: 2.4533 - accuracy: 0.3276\n",
            "Epoch 3/20\n",
            "42/42 [==============================] - 110s 3s/step - loss: 2.2267 - accuracy: 0.3535\n",
            "Epoch 4/20\n",
            "42/42 [==============================] - 110s 3s/step - loss: 2.1526 - accuracy: 0.3691\n",
            "Epoch 5/20\n",
            "42/42 [==============================] - 110s 3s/step - loss: 2.1067 - accuracy: 0.3902\n",
            "Epoch 6/20\n",
            "42/42 [==============================] - 110s 3s/step - loss: 2.0316 - accuracy: 0.4117\n",
            "Epoch 7/20\n",
            "42/42 [==============================] - 111s 3s/step - loss: 1.9719 - accuracy: 0.4328\n",
            "Epoch 8/20\n",
            "42/42 [==============================] - 111s 3s/step - loss: 1.9177 - accuracy: 0.4490\n",
            "Epoch 9/20\n",
            "42/42 [==============================] - 110s 3s/step - loss: 1.8599 - accuracy: 0.4652\n",
            "Epoch 10/20\n",
            "42/42 [==============================] - 110s 3s/step - loss: 1.8177 - accuracy: 0.4777\n",
            "Epoch 11/20\n",
            "42/42 [==============================] - 111s 3s/step - loss: 1.7775 - accuracy: 0.4891\n",
            "Epoch 12/20\n",
            "42/42 [==============================] - 111s 3s/step - loss: 1.7497 - accuracy: 0.4960\n",
            "Epoch 13/20\n",
            "42/42 [==============================] - 111s 3s/step - loss: 1.7181 - accuracy: 0.5096\n",
            "Epoch 14/20\n",
            "42/42 [==============================] - 111s 3s/step - loss: 1.6864 - accuracy: 0.5258\n",
            "Epoch 15/20\n",
            "42/42 [==============================] - 111s 3s/step - loss: 1.6630 - accuracy: 0.5310\n",
            "Epoch 16/20\n",
            "42/42 [==============================] - 110s 3s/step - loss: 1.6382 - accuracy: 0.5364\n",
            "Epoch 17/20\n",
            "42/42 [==============================] - 110s 3s/step - loss: 1.6211 - accuracy: 0.5410\n",
            "Epoch 18/20\n",
            "42/42 [==============================] - 111s 3s/step - loss: 1.6034 - accuracy: 0.5451\n",
            "Epoch 19/20\n",
            "42/42 [==============================] - 111s 3s/step - loss: 1.5863 - accuracy: 0.5488\n",
            "Epoch 20/20\n",
            "42/42 [==============================] - 111s 3s/step - loss: 1.5674 - accuracy: 0.5540\n"
          ],
          "name": "stdout"
        }
      ]
    },
    {
      "cell_type": "code",
      "metadata": {
        "id": "SWvJW_Dz0rsd",
        "colab_type": "code",
        "outputId": "9dbadff8-767a-4a75-be5b-9a80313e22da",
        "colab": {
          "base_uri": "https://localhost:8080/",
          "height": 289
        }
      },
      "source": [
        "main_model = keras.Sequential()\n",
        "main_model.add(tf.keras.layers.Embedding(vocab_size, embedding_dim,\n",
        "                              batch_input_shape=[1, None]))\n",
        "main_model.add(tf.keras.layers.GRU(rnn_units,return_sequences=True,stateful=True,\n",
        "                              recurrent_initializer='glorot_uniform',\n",
        "                              recurrent_regularizer=keras.regularizers.l2(0.01)\n",
        "                              ))\n",
        "main_model.add(tf.keras.layers.GRU(rnn_units,return_sequences=True,stateful=True,\n",
        "                              recurrent_initializer='glorot_uniform',\n",
        "                              recurrent_regularizer=keras.regularizers.l2(0.01)\n",
        "                              ))\n",
        "main_model.add(tf.keras.layers.Dense(vocab_size))\n",
        "\n",
        "main_model.set_weights(model.get_weights())\n",
        "model = main_model\n",
        "model.summary()"
      ],
      "execution_count": 24,
      "outputs": [
        {
          "output_type": "stream",
          "text": [
            "Model: \"sequential_3\"\n",
            "_________________________________________________________________\n",
            "Layer (type)                 Output Shape              Param #   \n",
            "=================================================================\n",
            "embedding_3 (Embedding)      (1, None, 256)            12288     \n",
            "_________________________________________________________________\n",
            "gru_6 (GRU)                  (1, None, 1024)           3938304   \n",
            "_________________________________________________________________\n",
            "gru_7 (GRU)                  (1, None, 1024)           6297600   \n",
            "_________________________________________________________________\n",
            "dense_3 (Dense)              (1, None, 48)             49200     \n",
            "=================================================================\n",
            "Total params: 10,297,392\n",
            "Trainable params: 10,297,392\n",
            "Non-trainable params: 0\n",
            "_________________________________________________________________\n"
          ],
          "name": "stdout"
        }
      ]
    },
    {
      "cell_type": "code",
      "metadata": {
        "id": "6l1UtOJ6p4Dx",
        "colab_type": "code",
        "colab": {}
      },
      "source": [
        "def generate_text(model, start_string, temperature = 1.0):\n",
        "  num_generate = 1000\n",
        "  input_eval = [char2idx[s] for s in start_string]\n",
        "  input_eval = tf.expand_dims(input_eval, 0)\n",
        "  text_generated = []\n",
        "  model.reset_states()\n",
        "  for i in range(num_generate):\n",
        "      predictions = model(input_eval)\n",
        "      predictions = tf.squeeze(predictions, 0)\n",
        "      predictions = predictions / temperature\n",
        "      predicted_id = tf.random.categorical(predictions, num_samples=1)[-1,0].numpy()\n",
        "      input_eval = tf.expand_dims([predicted_id], 0)\n",
        "      text_generated.append(idx2char[predicted_id])\n",
        "  return (start_string + ''.join(text_generated))"
      ],
      "execution_count": 0,
      "outputs": []
    },
    {
      "cell_type": "code",
      "metadata": {
        "id": "QUeSotIBqB7a",
        "colab_type": "code",
        "outputId": "82436d11-067a-49a3-c153-23e7471ed28d",
        "colab": {
          "base_uri": "https://localhost:8080/",
          "height": 391
        }
      },
      "source": [
        "print(generate_text(model, start_string=u\"که ایران چو باغی ست خرم بهار\", temperature=1))"
      ],
      "execution_count": 27,
      "outputs": [
        {
          "output_type": "stream",
          "text": [
            "که ایران چو باغی ست خرم بهار \n",
            " نگه کن پرستان بدیگست زان \t نه خوبت آنچه‌تر دو غفتر نهند \n",
            " برآوردمت زور پاسخ برآب \t جیو دو چان گر گریره فرخان \n",
            " زنده و نامر روی جست شاه \t که با ماهن امروز پویست \n",
            " هزاران چنان کرده‌ای مهترای \t سزادمان آمدم رزمگاه آمد \n",
            " جهان شکسته برینیان و کشت \t به چندیشه گیتی همی راند اندرزن \n",
            " سخن دو گرین کران ایش پیش \t کزان تا بر خواستند \n",
            " کهٔ خاک و آید کلاه \t بباشد بدان تا همی \n",
            " بزد دو با شهریاب فرستاد \t ربا هم به ماه مهر داز \n",
            " کن لشکر برکشید آورید \n",
            " نشانم نهی گفت آوری خوان \n",
            " به رسم شهریار از جوی نامدار \n",
            " برفتند تا بدخشاه و دارد سپاه \t گران بی‌آرام اوی زریک \n",
            " بدو گاه بر گورزه خشمع بدگوهش \t بکوش آذر جهان میده به دل \n",
            " چو از ابلبر بر سپاه پیل \t بسان زن هنر خواب گید \n",
            " بدان‌ترگ بهر از هستگان \t چو خوردان برآمد ز کاووس \n",
            " سرش درد وان پس به درید من \t که بگشادش روشنید و سوار ت\n",
            " دوان بد سر سیم بی‌سری \t فرستگزیده گرد آمد انش \n",
            " ابا پیش آتشاهی بر سپند \t همان گونه‌کران تخم پیش او بهم \n",
            " ز گر افراسی و زاره بد کند \t کمر مرزن هرز آورد و با تاج \n",
            " اگر ترکان مرزدار جوی انجمن \n",
            " زمانپی رود شیران خیرگ بود \t به بیرون بسته ی\n"
          ],
          "name": "stdout"
        }
      ]
    }
  ]
}