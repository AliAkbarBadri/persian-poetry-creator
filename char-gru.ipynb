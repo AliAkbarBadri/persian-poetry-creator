{
  "nbformat": 4,
  "nbformat_minor": 0,
  "metadata": {
    "colab": {
      "name": "tempo.ipynb",
      "provenance": [],
      "toc_visible": true,
      "include_colab_link": true
    },
    "kernelspec": {
      "name": "python3",
      "display_name": "Python 3"
    },
    "accelerator": "GPU"
  },
  "cells": [
    {
      "cell_type": "markdown",
      "metadata": {
        "id": "view-in-github",
        "colab_type": "text"
      },
      "source": [
        "<a href=\"https://colab.research.google.com/github/aliakbarbadri/persian-poetry-creator/blob/master/char-gru.ipynb\" target=\"_parent\"><img src=\"https://colab.research.google.com/assets/colab-badge.svg\" alt=\"Open In Colab\"/></a>"
      ]
    },
    {
      "cell_type": "code",
      "metadata": {
        "id": "nF-7m57sBgdp",
        "colab_type": "code",
        "colab": {}
      },
      "source": [
        "import tensorflow as tf\n",
        "from tensorflow import keras\n",
        "import numpy as np\n",
        "import pandas as pd\n",
        "import matplotlib.pyplot as plt\n",
        "import os\n",
        "import time"
      ],
      "execution_count": 0,
      "outputs": []
    },
    {
      "cell_type": "markdown",
      "metadata": {
        "id": "wXgkMK0iMQDL",
        "colab_type": "text"
      },
      "source": [
        "# Load the data"
      ]
    },
    {
      "cell_type": "code",
      "metadata": {
        "id": "l8wd1saxwPtu",
        "colab_type": "code",
        "colab": {}
      },
      "source": [
        "url = \"https://raw.githubusercontent.com/aliakbarbadri/persian-poetry-creator/master/shahname2.txt\"\n",
        "filepath = keras.utils.get_file(\"shahname.txt\", url) \n",
        "corpus = open(filepath, 'rb').read().decode(encoding='utf-8')"
      ],
      "execution_count": 0,
      "outputs": []
    },
    {
      "cell_type": "code",
      "metadata": {
        "id": "OHzCO_cSlYoO",
        "colab_type": "code",
        "colab": {
          "base_uri": "https://localhost:8080/",
          "height": 34
        },
        "outputId": "de382be3-d855-4d9b-b771-7d7f9321a3ce"
      },
      "source": [
        "vocab = sorted(set(corpus))\n",
        "print(len(vocab), \"chars\")"
      ],
      "execution_count": 4,
      "outputs": [
        {
          "output_type": "stream",
          "text": [
            "48 chars\n"
          ],
          "name": "stdout"
        }
      ]
    },
    {
      "cell_type": "code",
      "metadata": {
        "id": "Y9JzIK9elja4",
        "colab_type": "code",
        "colab": {}
      },
      "source": [
        "char2idx = {u:i for i, u in enumerate(vocab)}\n",
        "idx2char = np.array(vocab)\n",
        "text_as_int = np.array([char2idx[c] for c in corpus])"
      ],
      "execution_count": 0,
      "outputs": []
    },
    {
      "cell_type": "code",
      "metadata": {
        "id": "U22k7ShUl0xm",
        "colab_type": "code",
        "colab": {}
      },
      "source": [
        "seq_length = 100\n",
        "examples_per_epoch = len(corpus)//(seq_length+1)\n",
        "char_dataset = tf.data.Dataset.from_tensor_slices(text_as_int)\n",
        "sequences = char_dataset.batch(seq_length+1, drop_remainder=True)"
      ],
      "execution_count": 0,
      "outputs": []
    },
    {
      "cell_type": "code",
      "metadata": {
        "id": "4XlooC1Ongpo",
        "colab_type": "code",
        "colab": {}
      },
      "source": [
        "def split_input_target(chunk):\n",
        "    input_text = chunk[:-1]\n",
        "    target_text = chunk[1:]\n",
        "    return input_text, target_text\n",
        "\n",
        "dataset = sequences.map(split_input_target)"
      ],
      "execution_count": 0,
      "outputs": []
    },
    {
      "cell_type": "code",
      "metadata": {
        "id": "FfQ5q86yoePB",
        "colab_type": "code",
        "colab": {
          "base_uri": "https://localhost:8080/",
          "height": 34
        },
        "outputId": "c8f77ffc-fd06-4ce1-841b-88ee7a0750b6"
      },
      "source": [
        "BATCH_SIZE = 64\n",
        "BUFFER_SIZE = 10000\n",
        "dataset = dataset.shuffle(BUFFER_SIZE).batch(BATCH_SIZE, drop_remainder=True)\n",
        "dataset"
      ],
      "execution_count": 8,
      "outputs": [
        {
          "output_type": "execute_result",
          "data": {
            "text/plain": [
              "<BatchDataset shapes: ((64, 100), (64, 100)), types: (tf.int64, tf.int64)>"
            ]
          },
          "metadata": {
            "tags": []
          },
          "execution_count": 8
        }
      ]
    },
    {
      "cell_type": "markdown",
      "metadata": {
        "id": "-11mQDSktgRz",
        "colab_type": "text"
      },
      "source": [
        "# Model"
      ]
    },
    {
      "cell_type": "code",
      "metadata": {
        "id": "jAMXrqzeIQn5",
        "colab_type": "code",
        "colab": {}
      },
      "source": [
        "vocab_size = len(vocab)\n",
        "embedding_dim = 256\n",
        "rnn_units = 1024"
      ],
      "execution_count": 0,
      "outputs": []
    },
    {
      "cell_type": "code",
      "metadata": {
        "id": "AsRpRF2ACnu-",
        "colab_type": "code",
        "colab": {}
      },
      "source": [
        "def loss(labels, logits):\n",
        "  return tf.keras.losses.sparse_categorical_crossentropy(labels, logits, from_logits=True)"
      ],
      "execution_count": 0,
      "outputs": []
    },
    {
      "cell_type": "code",
      "metadata": {
        "id": "McBFd1ppopSE",
        "colab_type": "code",
        "colab": {
          "base_uri": "https://localhost:8080/",
          "height": 289
        },
        "outputId": "65a14c26-0c38-4602-95e7-8ed0dc706d4b"
      },
      "source": [
        "model = keras.Sequential()\n",
        "model.add(tf.keras.layers.Embedding(vocab_size, embedding_dim,\n",
        "                              batch_input_shape=[BATCH_SIZE, None]))\n",
        "model.add(tf.keras.layers.GRU(rnn_units,return_sequences=True,stateful=True,\n",
        "                              recurrent_initializer='glorot_uniform',\n",
        "                              recurrent_regularizer=keras.regularizers.l2(0.01)\n",
        "                              ))\n",
        "model.add(tf.keras.layers.GRU(rnn_units,return_sequences=True,stateful=True,\n",
        "                              recurrent_initializer='glorot_uniform',\n",
        "                              recurrent_regularizer=keras.regularizers.l2(0.01)\n",
        "                              ))\n",
        "model.add(tf.keras.layers.Dense(vocab_size))\n",
        "model.summary()"
      ],
      "execution_count": 10,
      "outputs": [
        {
          "output_type": "stream",
          "text": [
            "Model: \"sequential\"\n",
            "_________________________________________________________________\n",
            "Layer (type)                 Output Shape              Param #   \n",
            "=================================================================\n",
            "embedding (Embedding)        (64, None, 256)           12288     \n",
            "_________________________________________________________________\n",
            "gru (GRU)                    (64, None, 1024)          3938304   \n",
            "_________________________________________________________________\n",
            "gru_1 (GRU)                  (64, None, 1024)          6297600   \n",
            "_________________________________________________________________\n",
            "dense (Dense)                (64, None, 48)            49200     \n",
            "=================================================================\n",
            "Total params: 10,297,392\n",
            "Trainable params: 10,297,392\n",
            "Non-trainable params: 0\n",
            "_________________________________________________________________\n"
          ],
          "name": "stdout"
        }
      ]
    },
    {
      "cell_type": "code",
      "metadata": {
        "id": "U_5_FwWzpWHV",
        "colab_type": "code",
        "colab": {}
      },
      "source": [
        "model.compile(optimizer='adam', loss=keras.losses.SparseCategoricalCrossentropy(from_logits=True), metrics=['accuracy'])"
      ],
      "execution_count": 0,
      "outputs": []
    },
    {
      "cell_type": "code",
      "metadata": {
        "id": "Qj5ozZC5pcpG",
        "colab_type": "code",
        "colab": {
          "base_uri": "https://localhost:8080/",
          "height": 357
        },
        "outputId": "8ac45c9e-2deb-4d97-b3d8-69817be4e3b7"
      },
      "source": [
        "history = model.fit(dataset, epochs=10)"
      ],
      "execution_count": 12,
      "outputs": [
        {
          "output_type": "stream",
          "text": [
            "Epoch 1/10\n",
            "395/395 [==============================] - 52s 131ms/step - loss: 3.2018 - accuracy: 0.3289\n",
            "Epoch 2/10\n",
            "395/395 [==============================] - 52s 131ms/step - loss: 1.9235 - accuracy: 0.4413\n",
            "Epoch 3/10\n",
            "395/395 [==============================] - 52s 131ms/step - loss: 1.7774 - accuracy: 0.4797\n",
            "Epoch 4/10\n",
            "395/395 [==============================] - 52s 131ms/step - loss: 1.6917 - accuracy: 0.5012\n",
            "Epoch 5/10\n",
            "395/395 [==============================] - 52s 131ms/step - loss: 1.6257 - accuracy: 0.5238\n",
            "Epoch 6/10\n",
            "395/395 [==============================] - 52s 131ms/step - loss: 1.5843 - accuracy: 0.5355\n",
            "Epoch 7/10\n",
            "395/395 [==============================] - 52s 131ms/step - loss: 1.5541 - accuracy: 0.5438\n",
            "Epoch 8/10\n",
            "395/395 [==============================] - 52s 131ms/step - loss: 1.5301 - accuracy: 0.5506\n",
            "Epoch 9/10\n",
            "395/395 [==============================] - 52s 131ms/step - loss: 1.5091 - accuracy: 0.5568\n",
            "Epoch 10/10\n",
            "395/395 [==============================] - 52s 131ms/step - loss: 1.4932 - accuracy: 0.5613\n"
          ],
          "name": "stdout"
        }
      ]
    },
    {
      "cell_type": "code",
      "metadata": {
        "id": "SWvJW_Dz0rsd",
        "colab_type": "code",
        "colab": {
          "base_uri": "https://localhost:8080/",
          "height": 289
        },
        "outputId": "2b0d857f-6a49-4e5c-866f-b7176acb5bd7"
      },
      "source": [
        "main_model = keras.Sequential()\n",
        "main_model.add(tf.keras.layers.Embedding(vocab_size, embedding_dim,\n",
        "                              batch_input_shape=[1, None]))\n",
        "main_model.add(tf.keras.layers.GRU(rnn_units,return_sequences=True,stateful=True,\n",
        "                              recurrent_initializer='glorot_uniform',\n",
        "                              recurrent_regularizer=keras.regularizers.l2(0.01)\n",
        "                              ))\n",
        "main_model.add(tf.keras.layers.GRU(rnn_units,return_sequences=True,stateful=True,\n",
        "                              recurrent_initializer='glorot_uniform',\n",
        "                              recurrent_regularizer=keras.regularizers.l2(0.01)\n",
        "                              ))\n",
        "main_model.add(tf.keras.layers.Dense(vocab_size))\n",
        "\n",
        "main_model.set_weights(model.get_weights())\n",
        "model = main_model\n",
        "model.summary()"
      ],
      "execution_count": 13,
      "outputs": [
        {
          "output_type": "stream",
          "text": [
            "Model: \"sequential_1\"\n",
            "_________________________________________________________________\n",
            "Layer (type)                 Output Shape              Param #   \n",
            "=================================================================\n",
            "embedding_1 (Embedding)      (1, None, 256)            12288     \n",
            "_________________________________________________________________\n",
            "gru_2 (GRU)                  (1, None, 1024)           3938304   \n",
            "_________________________________________________________________\n",
            "gru_3 (GRU)                  (1, None, 1024)           6297600   \n",
            "_________________________________________________________________\n",
            "dense_1 (Dense)              (1, None, 48)             49200     \n",
            "=================================================================\n",
            "Total params: 10,297,392\n",
            "Trainable params: 10,297,392\n",
            "Non-trainable params: 0\n",
            "_________________________________________________________________\n"
          ],
          "name": "stdout"
        }
      ]
    },
    {
      "cell_type": "code",
      "metadata": {
        "id": "6l1UtOJ6p4Dx",
        "colab_type": "code",
        "colab": {}
      },
      "source": [
        "def generate_text(model, start_string, temperature = 1.0):\n",
        "  num_generate = 1000\n",
        "  input_eval = [char2idx[s] for s in start_string]\n",
        "  input_eval = tf.expand_dims(input_eval, 0)\n",
        "  text_generated = []\n",
        "  model.reset_states()\n",
        "  for i in range(num_generate):\n",
        "      predictions = model(input_eval)\n",
        "      predictions = tf.squeeze(predictions, 0)\n",
        "      predictions = predictions / temperature\n",
        "      predicted_id = tf.random.categorical(predictions, num_samples=1)[-1,0].numpy()\n",
        "      input_eval = tf.expand_dims([predicted_id], 0)\n",
        "      text_generated.append(idx2char[predicted_id])\n",
        "  return (start_string + ''.join(text_generated))"
      ],
      "execution_count": 0,
      "outputs": []
    },
    {
      "cell_type": "code",
      "metadata": {
        "id": "QUeSotIBqB7a",
        "colab_type": "code",
        "colab": {
          "base_uri": "https://localhost:8080/",
          "height": 425
        },
        "outputId": "322519a9-1d66-43f9-c6ee-de1ab5bd2578"
      },
      "source": [
        "print(generate_text(model, start_string=u\"که ایران چو باغی ست خرم بهار\", temperature=1))"
      ],
      "execution_count": 26,
      "outputs": [
        {
          "output_type": "stream",
          "text": [
            "که ایران چو باغی ست خرم بهار\n",
            "همانا نام من گونه یکی خواسته\tهم خورد و برداشتی برخواند\n",
            "هرنگ خوب اندر آید این تای پادشا\n",
            "همه لشکر و دینار خواندند\n",
            "ز شاها مباداب را بیابان من\tبرفتند ریزی از پیش برفرمان شدی\n",
            "چنین تا که گیتی نمانش پیام\n",
            "بیاید به نزدیک و تخم\tنجویید که از خود به جنگ واژپوی\n",
            "بپردازمگرد چنانچون بسود\tز هر سوی پیکرن کرد اوی\n",
            "همه نیکان خواهرش پیش\n",
            "درودش دمان\tنگهبان مرا پهلواند\n",
            "همه دشت آتش کنیم اوی\tهمی‌ریخت بر کس فرامرز داد\n",
            "بباشم بوسید تا کرد جنگ\tندیدم بچنگ اندر دل خسته گندجاه\n",
            "ز لشکر بسی گویم بدان کنیم\tسپردار و نخجوی و مردم\n",
            "سیاووش هوش نیسته مشکین و کمر\n",
            "سپه را به زیر و پیش تویانی شورند\n",
            "پر از راه بودند بروی آواز فرمان شاه\tچو بشنید زین تیرگونه خورد\n",
            "گره در خاکست و کو نامه را پیل\tسپهدار تاک و افسر فریدون رسید\n",
            "کنون انباره کوهه باز آمدند\n",
            "به ایوانش برآمد روی زر\tشما خواست تاج و تختی کنید\n",
            "چنان دار گفت از بر سرشت\tهمی گر چندگاه بینی کنیم\n",
            "ابا نامور گفتنی کار خواه\tیکی پادشایستشان وران کجا آزرده‌ای\n",
            "مباشید پن خوشیدن آهنین\tبچیست مرگ آمدم بر سوی کوش\n",
            "همان یکی نامش تنگش زودر شدست\tکه لشکر گنج و سپاهی ز کار دل\n",
            "سرانجام کرد کوه و نبرد\tکه تیر\n"
          ],
          "name": "stdout"
        }
      ]
    }
  ]
}