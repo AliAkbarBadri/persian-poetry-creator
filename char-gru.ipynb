{
  "nbformat": 4,
  "nbformat_minor": 0,
  "metadata": {
    "colab": {
      "name": "tempo.ipynb",
      "provenance": [],
      "toc_visible": true,
      "include_colab_link": true
    },
    "kernelspec": {
      "name": "python3",
      "display_name": "Python 3"
    },
    "accelerator": "GPU"
  },
  "cells": [
    {
      "cell_type": "markdown",
      "metadata": {
        "id": "view-in-github",
        "colab_type": "text"
      },
      "source": [
        "<a href=\"https://colab.research.google.com/github/aliakbarbadri/persian-poetry-creator/blob/master/char-gru.ipynb\" target=\"_parent\"><img src=\"https://colab.research.google.com/assets/colab-badge.svg\" alt=\"Open In Colab\"/></a>"
      ]
    },
    {
      "cell_type": "code",
      "metadata": {
        "id": "nF-7m57sBgdp",
        "colab_type": "code",
        "colab": {}
      },
      "source": [
        "import tensorflow as tf\n",
        "from tensorflow import keras\n",
        "import numpy as np\n",
        "import pandas as pd\n",
        "import matplotlib.pyplot as plt\n",
        "import os\n",
        "import time"
      ],
      "execution_count": 0,
      "outputs": []
    },
    {
      "cell_type": "markdown",
      "metadata": {
        "id": "wXgkMK0iMQDL",
        "colab_type": "text"
      },
      "source": [
        "# Load the data"
      ]
    },
    {
      "cell_type": "code",
      "metadata": {
        "id": "l8wd1saxwPtu",
        "colab_type": "code",
        "colab": {}
      },
      "source": [
        "url = \"https://raw.githubusercontent.com/aliakbarbadri/persian-poetry-creator/master/shahname2.txt\"\n",
        "filepath = keras.utils.get_file(\"shahname.txt\", url) \n",
        "corpus = open(filepath, 'rb').read().decode(encoding='utf-8')"
      ],
      "execution_count": 0,
      "outputs": []
    },
    {
      "cell_type": "code",
      "metadata": {
        "id": "HB8thb8k3n7C",
        "colab_type": "code",
        "outputId": "66e99c42-0380-4c8f-b03e-86bee18f8549",
        "colab": {
          "base_uri": "https://localhost:8080/",
          "height": 34
        }
      },
      "source": [
        "print(len(corpus),\"chars\")"
      ],
      "execution_count": 3,
      "outputs": [
        {
          "output_type": "stream",
          "text": [
            "2554745 chars\n"
          ],
          "name": "stdout"
        }
      ]
    },
    {
      "cell_type": "code",
      "metadata": {
        "id": "ZRkOqHPVlPLK",
        "colab_type": "code",
        "colab": {
          "base_uri": "https://localhost:8080/",
          "height": 68
        },
        "outputId": "2dd1513c-7e6a-45d2-8e67-8869c0572ff3"
      },
      "source": [
        "print(corpus[:110])"
      ],
      "execution_count": 4,
      "outputs": [
        {
          "output_type": "stream",
          "text": [
            "چو از بلخ بامی به جیحون رسید\tسپهدار لشکر فرود آورید\n",
            "بشد شهریار از میان سپاه\tفرود آمد از باره بر شد به گاه\n",
            "بخوا\n"
          ],
          "name": "stdout"
        }
      ]
    },
    {
      "cell_type": "code",
      "metadata": {
        "id": "OHzCO_cSlYoO",
        "colab_type": "code",
        "colab": {
          "base_uri": "https://localhost:8080/",
          "height": 34
        },
        "outputId": "450da17f-8f9c-42c6-d528-7a2c2a640cdb"
      },
      "source": [
        "vocab = sorted(set(corpus))\n",
        "print ('{} unique characters'.format(len(vocab)))"
      ],
      "execution_count": 5,
      "outputs": [
        {
          "output_type": "stream",
          "text": [
            "48 unique characters\n"
          ],
          "name": "stdout"
        }
      ]
    },
    {
      "cell_type": "code",
      "metadata": {
        "id": "Y9JzIK9elja4",
        "colab_type": "code",
        "colab": {}
      },
      "source": [
        "char2idx = {u:i for i, u in enumerate(vocab)}\n",
        "idx2char = np.array(vocab)\n",
        "text_as_int = np.array([char2idx[c] for c in corpus])"
      ],
      "execution_count": 0,
      "outputs": []
    },
    {
      "cell_type": "code",
      "metadata": {
        "id": "VkPl4GQblsUo",
        "colab_type": "code",
        "colab": {
          "base_uri": "https://localhost:8080/",
          "height": 408
        },
        "outputId": "797c4a0b-acc4-4eee-dfdd-580de21a30b9"
      },
      "source": [
        "print('{')\n",
        "for char,_ in zip(char2idx, range(20)):\n",
        "    print('  {:4s}: {:3d},'.format(repr(char), char2idx[char]))\n",
        "print('  ...\\n}')"
      ],
      "execution_count": 7,
      "outputs": [
        {
          "output_type": "stream",
          "text": [
            "{\n",
            "  '\\t':   0,\n",
            "  '\\n':   1,\n",
            "  ' ' :   2,\n",
            "  '(' :   3,\n",
            "  ')' :   4,\n",
            "  '«' :   5,\n",
            "  '»' :   6,\n",
            "  '،' :   7,\n",
            "  '؟' :   8,\n",
            "  'ء' :   9,\n",
            "  'آ' :  10,\n",
            "  'أ' :  11,\n",
            "  'ؤ' :  12,\n",
            "  'ئ' :  13,\n",
            "  'ا' :  14,\n",
            "  'ب' :  15,\n",
            "  'ت' :  16,\n",
            "  'ث' :  17,\n",
            "  'ج' :  18,\n",
            "  'ح' :  19,\n",
            "  ...\n",
            "}\n"
          ],
          "name": "stdout"
        }
      ]
    },
    {
      "cell_type": "code",
      "metadata": {
        "id": "U22k7ShUl0xm",
        "colab_type": "code",
        "colab": {
          "base_uri": "https://localhost:8080/",
          "height": 187
        },
        "outputId": "364e6536-343b-49ed-cca8-88e8d2690899"
      },
      "source": [
        "seq_length = 1000\n",
        "examples_per_epoch = len(corpus)//(seq_length+1)\n",
        "\n",
        "char_dataset = tf.data.Dataset.from_tensor_slices(text_as_int)\n",
        "\n",
        "for i in char_dataset.take(10):\n",
        "  print(idx2char[i.numpy()])"
      ],
      "execution_count": 8,
      "outputs": [
        {
          "output_type": "stream",
          "text": [
            "چ\n",
            "و\n",
            " \n",
            "ا\n",
            "ز\n",
            " \n",
            "ب\n",
            "ل\n",
            "خ\n",
            " \n"
          ],
          "name": "stdout"
        }
      ]
    },
    {
      "cell_type": "code",
      "metadata": {
        "id": "xQNUB298nEgQ",
        "colab_type": "code",
        "colab": {
          "base_uri": "https://localhost:8080/",
          "height": 122
        },
        "outputId": "1f1067e4-3eb7-457e-8fb9-8077fa020de9"
      },
      "source": [
        "sequences = char_dataset.batch(seq_length+1, drop_remainder=True)\n",
        "for item in sequences.take(5):\n",
        "  print(repr(''.join(idx2char[item.numpy()])))"
      ],
      "execution_count": 9,
      "outputs": [
        {
          "output_type": "stream",
          "text": [
            "'چو از بلخ بامی به جیحون رسید\\tسپهدار لشکر فرود آورید\\nبشد شهریار از میان سپاه\\tفرود آمد از باره بر شد به گاه\\nبخواند او گرانمایه جاماسپ را\\tکجا رهنمون بود گشتاسپ را\\nسر موبدان بودو شاه ردان\\tچراغ بزرگان و اسپهبدان\\nچنان پاک تن بود و تابنده جان\\tکه بودی بر او آشکارا نهان\\nستاره\\u200cشناس و گرانمایه بود\\tابا او به دانش کرا پایه بود\\nبپرسید ازو شاه و گفتا خدای\\tترا دین به داد و پاکیزه رای\\nچو تو نیست اندر جهان هیچ کس\\tجهاندار دانش ترا داد و بس\\nببایدت کردن ز اختر شمار\\tبگویی همی مر مرا روی کار\\nکه چون باشد آغاز و فرجام جنگ\\tکرا بیشتر باشد اینجا درنگ\\nنیامد خوش آن پیر جاماسپ را\\tبه روی دژم گفت گشتاسپ را\\nکه میخواستم کایزد دادگر\\tندادی مرا این خرد وین هنر\\nمرا گر نبودی خرد شهریار\\tنکردی زمن بودنی خواستار\\nمگر با من از داد پیمان کند\\tکه نه بد کند خود نه فرمان کند\\nجهانجوی گفتا به نام خدای\\tبدین و به دین آور پاک رای\\nبه جان زریر آن نبرده سوار\\tبه جان گرانمایه اسفندیار\\nکه نه هرگزت روی دشمن کنم\\tنفرمایمت بد نه خود من کنم\\nتو هرچ اندرین کار دانی بگوی\\tکه تو چاره\\u200cدانی و من چاره\\u200cجوی\\nخردمند گفت این گرانمایه شاه\\tهمیشه بتو تازه بادا کلاه\\nز'\n",
            "' بنده میازار و بنداز خشم\\tخنک آنکسی کو نبیند به چشم\\nبدان ای نبرده کی نامجوی\\tچو در رزم روی اندر آری بروی\\nبدانگه کجا بانگ و ویله کنند\\tتو گویی همی کوه را برکنند\\nبه پیش اندر آیند مردان مرد\\tهوا تیره گردد ز گرد نبرد\\nجهان را ببینی بگشته کبود\\tزمین پر ز آتش هوا پر زدود\\nوزان زخم آن گرزهای گران\\tچنان پتک پولاد آهنگران\\nبه گوش اندر آید ترنگا ترنگ\\tهوا پر شده نعرهٔ بور و خنگ\\nشکسته شود چرخ گردونها\\tزمین سرخ گردد از ان خونها\\nتو گویی هوا ابر دارد همی\\tوزان ابر الماس بارد همی\\nبسی بی پدر گشته بینی پسر\\tبسی بی پسر گشته بینی پدر\\nنخستین کس نام\\u200cدار اردشیر\\tپس شهریار آن نبرده دلیر\\nبه پیش افگند اسپ تازان خویش\\tبه خاک افگند هر ک آیدش پیش\\nپیاده کند ترک چندان سوار\\tکز اختر نباشد مر آن را شمار\\nولیکن سرانجام کشته شود\\tنکونامش اندر نوشته شود\\nدریغ آنچنان مرد نام آورا\\tابا رادمردان همه سرورا\\nپس آزاده شیدسپ فرزند شاه\\tچو رستم درآید به روی سپاه\\nپس آنگاه مر تیغ را برکشد\\tبتازد بسی اسپ و دشمن کشد\\nبسی نامداران و گردان چین\\tکه آن شیر مرد افگند بر زمین\\nسرانجام بختش کند خاکسار\\tبرهنه کند آن سر تاجدار\\nبیاید پس آنگاه فرزند من\\tببسته میان را جگر'\n",
            "' بند من\\nابر کین شیدسپ فرزند شاه\\tبه میدان کند تیز اسپ سیاه\\nبسی رنج بیند به رزم اندرون\\tشه خسروان را بگویم که چون\\nدرفش فروزندهٔ کاویان\\tبیفگنده باشند ایرانیان\\nگرامی بگیرد به دندان درفش\\tبه دندان بدارد درفش بنفش\\nبه یک دست شمشیر و دیگر کلاه\\tبه دندان درفش فریدون شاه\\nبرین سان همی\\u200cافگند دشمنان\\tهمی برکند جان آهرمنان\\nسرانجام در جنگ کشته شود\\tنکو نامش اندر نوشته شود\\nپس ازاده بستور پور زریر\\tبه پیش افگند اسپ چون نره شیر\\nبسی دشمنان را کند ناپدید\\tشگفتی\\u200cتر از کار او کس ندید\\nچو آید سرانجام پیروز باز\\tابر دشمنان دست کرده دراز\\nبیاید پس آن برگزیده سوار\\tپس شهریار جهان نامدار\\nز آهرمنان بفگند شست گرد\\tنماید یکی پهلوی دستبرد\\nسرانجام ترکان به تیرش زنند\\tتن پیلوارش به خاک افگنند\\nبیاید پس آن نره شیر دلیر\\tسوار دلاور که نامش زریر\\nبه پیش اندر آید گرفته کمند\\tنشسته بر اسفندیاری سمند\\nابا جوشن زر درخشان چو ماه\\tبدو اندرون خیره گشته سپاه\\nبگیرد ز گردان لشکر هزار\\tببندد فرستد بر شهریار\\nبه هر سو کجا بنهد آن شاه روی\\tهمی راند از خون بدخواه جوی\\nنه استد کس آن پهلوان شاه را\\tستوه آورد شاه خرگاه را\\nپس افگنده بیند بزرگ اردشیر\\tسیه گشته رخسا'\n",
            "'ر و تن چون زریر\\nبگرید برو زار و گردد نژند\\tبرانگیزد اسفندیاری سمند\\nبه خاقان نهد روی پر خشم و تیز\\tتو گویی ندیدست هرگز گریز\\nچو اندر میان بیند ارجاسپ را\\tستایش کند شاه گشتاسپ را\\nصف دشمنان سر بسر بردرد\\tز گیتی سوی هیچ کس ننگرد\\nهمی خواند او زند زردشت را\\tبه یزدان نهاده کیی پشت را\\nسرانجام گردد برو تیره\\u200cبخت\\tبریده کندش آن نکو تاج و تخت\\nبیاید یکی نام او بیدرفش\\tبه سرنیزه دارد درفش بنفش\\nنیارد شدن پیش گرد گزین\\tنشیند به راه وی اندر کمین\\nباستد بران راه چون پیل مست\\tیکی تیغ زهر آب داده به دست\\nچو شاه جهان بازگردد ز رزم\\tگرفته جهان را و کشته گرزم\\nبیندازد آن ترک تیری بروی\\tنیارد شدن آشکارا بروی\\nپس از دست آن بیدرفش پلید\\tشود شاه آزادگان ناپدید\\nبه ترکان برد باره و زین اوی\\tبخواهد پسرت آن زمان کین اوی\\nپس آن لشکر نامدار بزرگ\\tبه دشمن درافتد چو شیر سترگ\\nهمی تازند این بر آن آن برین\\tز خون یلان سرخ گردد زمین\\nیلان را بباشد همه روی زرد\\tچو لرزه برافتد به مردان مرد\\nبرآید به خورشید گرد سپاه\\tنبیند کس از گرد تاریک راه\\nفروغ سر نیزه و تیر و تیغ\\tبتابد چنان چون ستاره ز میغ\\nوزان زخم مردان کجا می\\u200cزنند\\tو بر یکدگر بر همی افگند\\nهمه خسته '\n",
            "'و کشته بر یکدگر\\tپسر بر پدر بر پدر بر پسر\\nوزان ناله و زاری خستگان\\tبه بند اندر آیند نابستگان\\nشود کشته چندان ز هر سو سپاه\\tکه از خونشان پر شود رزمگاه\\nپس آن بیدرفش پلید و سترگ\\tبه پیش اندر آید چو ارغنده گرگ\\nهمان تیغ زهر آب داده به دست\\tهمی تازد او باره چون پیل مست\\nبه دست وی اندر فراوان سپاه\\tتبه گردد از برگزینان شاه\\nبیاید پس آن فرخ اسفندیار\\tسپاه از پس پشت و یزدانش یار\\nابر بیدرفش افگند اسپ تیز\\tبرو جامه پر خون و دل پر ستیز\\nمر او را یکی تیغ هندی زند\\tز بر نیمهٔ تنش زیر افگند\\nبگیرد پس آن آهنین گرز را\\tبتاباند آن فره و برز را\\nبه یک حمله از جایشان بگسلد\\tچو بگسستشان بر زمین کی هلد\\nبنوک سر نیزه\\u200cشان بر چند\\tکندشان تبه پاک و بپراگند\\nگریزد سرانجام سالار چین\\tاز اسفندیار آن گو بافرین\\nبه ترکان نهد روی بگریخته\\tشکسته سپر نیزها ریخته\\nبیابان گذارد به اندک سپاه\\tشود شاه پیروز و دشمن تباه\\nبدان ای گزیده شه خسروان\\tکه من هرچ گفتم نباشد جز آن\\nنباشد ازین یک سخن بیش و کم\\tتو زین پس مکن روی بر من دژم\\nکه من آنچ گفتم نگفتم مگر\\tبه فرمانت ای شاه پیروزگر\\nوزان کم بپرسید فرخنده شاه\\tازین ژرف دریا و تاریک راه\\nندیدم که بر شاه بنهفتمی\\tو'\n"
          ],
          "name": "stdout"
        }
      ]
    },
    {
      "cell_type": "code",
      "metadata": {
        "id": "4XlooC1Ongpo",
        "colab_type": "code",
        "colab": {}
      },
      "source": [
        "def split_input_target(chunk):\n",
        "    input_text = chunk[:-1]\n",
        "    target_text = chunk[1:]\n",
        "    return input_text, target_text\n",
        "\n",
        "dataset = sequences.map(split_input_target)"
      ],
      "execution_count": 0,
      "outputs": []
    },
    {
      "cell_type": "code",
      "metadata": {
        "id": "Fi-YeVdunq0U",
        "colab_type": "code",
        "colab": {
          "base_uri": "https://localhost:8080/",
          "height": 71
        },
        "outputId": "840ce2dc-cedb-4f5b-ab69-83cb65107a5b"
      },
      "source": [
        "for input_example, target_example in  dataset.take(1):\n",
        "  print (repr(''.join(idx2char[input_example.numpy()])))\n",
        "  print (repr(''.join(idx2char[target_example.numpy()])))"
      ],
      "execution_count": 11,
      "outputs": [
        {
          "output_type": "stream",
          "text": [
            "'چو از بلخ بامی به جیحون رسید\\tسپهدار لشکر فرود آورید\\nبشد شهریار از میان سپاه\\tفرود آمد از باره بر شد به گاه\\nبخواند او گرانمایه جاماسپ را\\tکجا رهنمون بود گشتاسپ را\\nسر موبدان بودو شاه ردان\\tچراغ بزرگان و اسپهبدان\\nچنان پاک تن بود و تابنده جان\\tکه بودی بر او آشکارا نهان\\nستاره\\u200cشناس و گرانمایه بود\\tابا او به دانش کرا پایه بود\\nبپرسید ازو شاه و گفتا خدای\\tترا دین به داد و پاکیزه رای\\nچو تو نیست اندر جهان هیچ کس\\tجهاندار دانش ترا داد و بس\\nببایدت کردن ز اختر شمار\\tبگویی همی مر مرا روی کار\\nکه چون باشد آغاز و فرجام جنگ\\tکرا بیشتر باشد اینجا درنگ\\nنیامد خوش آن پیر جاماسپ را\\tبه روی دژم گفت گشتاسپ را\\nکه میخواستم کایزد دادگر\\tندادی مرا این خرد وین هنر\\nمرا گر نبودی خرد شهریار\\tنکردی زمن بودنی خواستار\\nمگر با من از داد پیمان کند\\tکه نه بد کند خود نه فرمان کند\\nجهانجوی گفتا به نام خدای\\tبدین و به دین آور پاک رای\\nبه جان زریر آن نبرده سوار\\tبه جان گرانمایه اسفندیار\\nکه نه هرگزت روی دشمن کنم\\tنفرمایمت بد نه خود من کنم\\nتو هرچ اندرین کار دانی بگوی\\tکه تو چاره\\u200cدانی و من چاره\\u200cجوی\\nخردمند گفت این گرانمایه شاه\\tهمیشه بتو تازه بادا کلاه\\n'\n",
            "'و از بلخ بامی به جیحون رسید\\tسپهدار لشکر فرود آورید\\nبشد شهریار از میان سپاه\\tفرود آمد از باره بر شد به گاه\\nبخواند او گرانمایه جاماسپ را\\tکجا رهنمون بود گشتاسپ را\\nسر موبدان بودو شاه ردان\\tچراغ بزرگان و اسپهبدان\\nچنان پاک تن بود و تابنده جان\\tکه بودی بر او آشکارا نهان\\nستاره\\u200cشناس و گرانمایه بود\\tابا او به دانش کرا پایه بود\\nبپرسید ازو شاه و گفتا خدای\\tترا دین به داد و پاکیزه رای\\nچو تو نیست اندر جهان هیچ کس\\tجهاندار دانش ترا داد و بس\\nببایدت کردن ز اختر شمار\\tبگویی همی مر مرا روی کار\\nکه چون باشد آغاز و فرجام جنگ\\tکرا بیشتر باشد اینجا درنگ\\nنیامد خوش آن پیر جاماسپ را\\tبه روی دژم گفت گشتاسپ را\\nکه میخواستم کایزد دادگر\\tندادی مرا این خرد وین هنر\\nمرا گر نبودی خرد شهریار\\tنکردی زمن بودنی خواستار\\nمگر با من از داد پیمان کند\\tکه نه بد کند خود نه فرمان کند\\nجهانجوی گفتا به نام خدای\\tبدین و به دین آور پاک رای\\nبه جان زریر آن نبرده سوار\\tبه جان گرانمایه اسفندیار\\nکه نه هرگزت روی دشمن کنم\\tنفرمایمت بد نه خود من کنم\\nتو هرچ اندرین کار دانی بگوی\\tکه تو چاره\\u200cدانی و من چاره\\u200cجوی\\nخردمند گفت این گرانمایه شاه\\tهمیشه بتو تازه بادا کلاه\\nز'\n"
          ],
          "name": "stdout"
        }
      ]
    },
    {
      "cell_type": "code",
      "metadata": {
        "id": "mOS4gyZIoHX8",
        "colab_type": "code",
        "colab": {
          "base_uri": "https://localhost:8080/",
          "height": 272
        },
        "outputId": "e25bc3e8-7a19-4bc7-b912-68a792975943"
      },
      "source": [
        "for i, (input_idx, target_idx) in enumerate(zip(input_example[:5], target_example[:5])):\n",
        "    print(\"Step {:4d}\".format(i))\n",
        "    print(\"  input: {} ({:s})\".format(input_idx, repr(idx2char[input_idx])))\n",
        "    print(\"  expected output: {} ({:s})\".format(target_idx, repr(idx2char[target_idx])))"
      ],
      "execution_count": 12,
      "outputs": [
        {
          "output_type": "stream",
          "text": [
            "Step    0\n",
            "  input: 42 ('چ')\n",
            "  expected output: 39 ('و')\n",
            "Step    1\n",
            "  input: 39 ('و')\n",
            "  expected output: 2 (' ')\n",
            "Step    2\n",
            "  input: 2 (' ')\n",
            "  expected output: 14 ('ا')\n",
            "Step    3\n",
            "  input: 14 ('ا')\n",
            "  expected output: 24 ('ز')\n",
            "Step    4\n",
            "  input: 24 ('ز')\n",
            "  expected output: 2 (' ')\n"
          ],
          "name": "stdout"
        }
      ]
    },
    {
      "cell_type": "code",
      "metadata": {
        "id": "FfQ5q86yoePB",
        "colab_type": "code",
        "colab": {
          "base_uri": "https://localhost:8080/",
          "height": 34
        },
        "outputId": "6fcb851f-e741-4695-f42e-76496662dc26"
      },
      "source": [
        "BATCH_SIZE = 64\n",
        "BUFFER_SIZE = 10000\n",
        "dataset = dataset.shuffle(BUFFER_SIZE).batch(BATCH_SIZE, drop_remainder=True)\n",
        "vocab_size = len(vocab)\n",
        "embedding_dim = 256\n",
        "rnn_units = 1024\n",
        "dataset"
      ],
      "execution_count": 13,
      "outputs": [
        {
          "output_type": "execute_result",
          "data": {
            "text/plain": [
              "<BatchDataset shapes: ((64, 1000), (64, 1000)), types: (tf.int64, tf.int64)>"
            ]
          },
          "metadata": {
            "tags": []
          },
          "execution_count": 13
        }
      ]
    },
    {
      "cell_type": "markdown",
      "metadata": {
        "id": "-11mQDSktgRz",
        "colab_type": "text"
      },
      "source": [
        "# Model"
      ]
    },
    {
      "cell_type": "code",
      "metadata": {
        "id": "McBFd1ppopSE",
        "colab_type": "code",
        "colab": {}
      },
      "source": [
        "def build_model(vocab_size, embedding_dim, rnn_units, batch_size):\n",
        "  model = tf.keras.Sequential([\n",
        "    tf.keras.layers.Embedding(vocab_size, embedding_dim,\n",
        "                              batch_input_shape=[batch_size, None]),\n",
        "    tf.keras.layers.GRU(rnn_units,\n",
        "                        return_sequences=True,\n",
        "                        stateful=True,\n",
        "                        recurrent_initializer='glorot_uniform'),\n",
        "    tf.keras.layers.GRU(rnn_units,\n",
        "                        return_sequences=True,\n",
        "                        stateful=True,\n",
        "                        recurrent_initializer='glorot_uniform'),\n",
        "    tf.keras.layers.Dense(vocab_size)\n",
        "  ])\n",
        "  return model"
      ],
      "execution_count": 0,
      "outputs": []
    },
    {
      "cell_type": "code",
      "metadata": {
        "id": "kHqbRJ9hoq-8",
        "colab_type": "code",
        "colab": {}
      },
      "source": [
        "model = build_model(\n",
        "  vocab_size = len(vocab),\n",
        "  embedding_dim=embedding_dim,\n",
        "  rnn_units=rnn_units,\n",
        "  batch_size=BATCH_SIZE)"
      ],
      "execution_count": 0,
      "outputs": []
    },
    {
      "cell_type": "code",
      "metadata": {
        "id": "l7fg5mFwotqc",
        "colab_type": "code",
        "colab": {
          "base_uri": "https://localhost:8080/",
          "height": 34
        },
        "outputId": "40c4c3d8-d29e-4f8b-b32e-31a4ab176538"
      },
      "source": [
        "for input_example_batch, target_example_batch in dataset.take(1):\n",
        "  example_batch_predictions = model(input_example_batch)\n",
        "  print(example_batch_predictions.shape, \"# (batch_size, sequence_length, vocab_size)\")"
      ],
      "execution_count": 28,
      "outputs": [
        {
          "output_type": "stream",
          "text": [
            "(64, 1000, 48) # (batch_size, sequence_length, vocab_size)\n"
          ],
          "name": "stdout"
        }
      ]
    },
    {
      "cell_type": "code",
      "metadata": {
        "id": "tTYKMdmwowBW",
        "colab_type": "code",
        "colab": {
          "base_uri": "https://localhost:8080/",
          "height": 289
        },
        "outputId": "fded4331-ca8e-4b28-9dd9-fa3024083c5e"
      },
      "source": [
        "model.summary()"
      ],
      "execution_count": 29,
      "outputs": [
        {
          "output_type": "stream",
          "text": [
            "Model: \"sequential_2\"\n",
            "_________________________________________________________________\n",
            "Layer (type)                 Output Shape              Param #   \n",
            "=================================================================\n",
            "embedding_2 (Embedding)      (64, None, 256)           12288     \n",
            "_________________________________________________________________\n",
            "gru_2 (GRU)                  (64, None, 1024)          3938304   \n",
            "_________________________________________________________________\n",
            "gru_3 (GRU)                  (64, None, 1024)          6297600   \n",
            "_________________________________________________________________\n",
            "dense_2 (Dense)              (64, None, 48)            49200     \n",
            "=================================================================\n",
            "Total params: 10,297,392\n",
            "Trainable params: 10,297,392\n",
            "Non-trainable params: 0\n",
            "_________________________________________________________________\n"
          ],
          "name": "stdout"
        }
      ]
    },
    {
      "cell_type": "code",
      "metadata": {
        "id": "ugPO7R6tpH45",
        "colab_type": "code",
        "colab": {
          "base_uri": "https://localhost:8080/",
          "height": 51
        },
        "outputId": "c7df46c2-0f71-47b8-c92e-acd59af25e37"
      },
      "source": [
        "def loss(labels, logits):\n",
        "  return tf.keras.losses.sparse_categorical_crossentropy(labels, logits, from_logits=True)\n",
        "\n",
        "example_batch_loss  = loss(target_example_batch, example_batch_predictions)\n",
        "print(\"Prediction shape: \", example_batch_predictions.shape, \" # (batch_size, sequence_length, vocab_size)\")\n",
        "print(\"scalar_loss:      \", example_batch_loss.numpy().mean())"
      ],
      "execution_count": 30,
      "outputs": [
        {
          "output_type": "stream",
          "text": [
            "Prediction shape:  (64, 1000, 48)  # (batch_size, sequence_length, vocab_size)\n",
            "scalar_loss:       3.870893\n"
          ],
          "name": "stdout"
        }
      ]
    },
    {
      "cell_type": "code",
      "metadata": {
        "id": "U_5_FwWzpWHV",
        "colab_type": "code",
        "colab": {}
      },
      "source": [
        "model.compile(optimizer='adam', loss=keras.losses.sparse_categorical_crossentropy(from_logits=True), metrics=['accuracy'])"
      ],
      "execution_count": 0,
      "outputs": []
    },
    {
      "cell_type": "code",
      "metadata": {
        "id": "Qj5ozZC5pcpG",
        "colab_type": "code",
        "colab": {
          "base_uri": "https://localhost:8080/",
          "height": 357
        },
        "outputId": "73f57029-e738-4347-cc42-583a022bfd1e"
      },
      "source": [
        "history = model.fit(dataset, epochs=10)"
      ],
      "execution_count": 32,
      "outputs": [
        {
          "output_type": "stream",
          "text": [
            "Epoch 1/10\n",
            "39/39 [==============================] - 49s 1s/step - loss: 3.2483 - accuracy: 0.1554\n",
            "Epoch 2/10\n",
            "39/39 [==============================] - 48s 1s/step - loss: 2.6013 - accuracy: 0.2688\n",
            "Epoch 3/10\n",
            "39/39 [==============================] - 49s 1s/step - loss: 2.4008 - accuracy: 0.3071\n",
            "Epoch 4/10\n",
            "39/39 [==============================] - 48s 1s/step - loss: 2.1903 - accuracy: 0.3548\n",
            "Epoch 5/10\n",
            "39/39 [==============================] - 49s 1s/step - loss: 2.0208 - accuracy: 0.4029\n",
            "Epoch 6/10\n",
            "39/39 [==============================] - 49s 1s/step - loss: 1.8735 - accuracy: 0.4446\n",
            "Epoch 7/10\n",
            "39/39 [==============================] - 49s 1s/step - loss: 1.7400 - accuracy: 0.4837\n",
            "Epoch 8/10\n",
            "39/39 [==============================] - 49s 1s/step - loss: 1.6189 - accuracy: 0.5222\n",
            "Epoch 9/10\n",
            "39/39 [==============================] - 48s 1s/step - loss: 1.5189 - accuracy: 0.5492\n",
            "Epoch 10/10\n",
            "39/39 [==============================] - 49s 1s/step - loss: 1.4493 - accuracy: 0.5677\n"
          ],
          "name": "stdout"
        }
      ]
    },
    {
      "cell_type": "code",
      "metadata": {
        "id": "SWvJW_Dz0rsd",
        "colab_type": "code",
        "colab": {
          "base_uri": "https://localhost:8080/",
          "height": 289
        },
        "outputId": "8dc3adbf-8f63-4fde-ca13-db3ceefaaf99"
      },
      "source": [
        "main_model = build_model(vocab_size, embedding_dim, rnn_units, batch_size=1)\n",
        "main_model.set_weights(model.get_weights())\n",
        "model = main_model\n",
        "model.summary()"
      ],
      "execution_count": 33,
      "outputs": [
        {
          "output_type": "stream",
          "text": [
            "Model: \"sequential_3\"\n",
            "_________________________________________________________________\n",
            "Layer (type)                 Output Shape              Param #   \n",
            "=================================================================\n",
            "embedding_3 (Embedding)      (1, None, 256)            12288     \n",
            "_________________________________________________________________\n",
            "gru_4 (GRU)                  (1, None, 1024)           3938304   \n",
            "_________________________________________________________________\n",
            "gru_5 (GRU)                  (1, None, 1024)           6297600   \n",
            "_________________________________________________________________\n",
            "dense_3 (Dense)              (1, None, 48)             49200     \n",
            "=================================================================\n",
            "Total params: 10,297,392\n",
            "Trainable params: 10,297,392\n",
            "Non-trainable params: 0\n",
            "_________________________________________________________________\n"
          ],
          "name": "stdout"
        }
      ]
    },
    {
      "cell_type": "code",
      "metadata": {
        "id": "6l1UtOJ6p4Dx",
        "colab_type": "code",
        "colab": {}
      },
      "source": [
        "def generate_text(model, start_string, temperature = 1.0):\n",
        "  num_generate = 1000\n",
        "  input_eval = [char2idx[s] for s in start_string]\n",
        "  input_eval = tf.expand_dims(input_eval, 0)\n",
        "  text_generated = []\n",
        "  model.reset_states()\n",
        "  for i in range(num_generate):\n",
        "      predictions = model(input_eval)\n",
        "      predictions = tf.squeeze(predictions, 0)\n",
        "      predictions = predictions / temperature\n",
        "      predicted_id = tf.random.categorical(predictions, num_samples=1)[-1,0].numpy()\n",
        "      input_eval = tf.expand_dims([predicted_id], 0)\n",
        "      text_generated.append(idx2char[predicted_id])\n",
        "  return (start_string + ''.join(text_generated))"
      ],
      "execution_count": 0,
      "outputs": []
    },
    {
      "cell_type": "code",
      "metadata": {
        "id": "QUeSotIBqB7a",
        "colab_type": "code",
        "colab": {
          "base_uri": "https://localhost:8080/",
          "height": 374
        },
        "outputId": "fbd66662-7d54-407c-ac32-46736c9889d7"
      },
      "source": [
        "print(generate_text(model, start_string=u\"که ایران چو باغی ست خرم بهار\", temperature=1))"
      ],
      "execution_count": 38,
      "outputs": [
        {
          "output_type": "stream",
          "text": [
            "که ایران چو باغی ست خرم بهار\tبرفت آمه‌ای جان تنکاه ستر\n",
            "به ایرانشین را چنان سون شام\tبتان مغان بنگرید از نژاد\n",
            "جهان روی کشود نبرده بود\tبدان کاردسرو میانار بر\n",
            "همه بود پر ز مهان بکلواند\tبه نزدیک مامو به با چشم و باز\n",
            "چه کور این سزاوش بیامد برش\tبمالید بشکاوران گرمزار\n",
            "همی گفت که کر که سیم و فزای\tهمی‌را مبای پدر غم دگر\n",
            "همان ساخت ای خوبهر آزاد رست\tبلو را ز دشمان کند تاگتر\n",
            "شد اندر پدر سوی گیرین درفش\tز فرمود تا دو خماه و منند\n",
            "ز هر کوقهان چلز گرددنکش خرد زال من\n",
            "مرا گوش مایک بپرکند شاه\tبهرآمه خداوند سالور چوسیاب\n",
            "چو پوران خرا شادمان سربسر\tچرا نامداران برو بارسا\n",
            "نخستین هم اندر جهان سخن داد\tکه از اختر و گاه بر کاه تا\n",
            "فرستید بسیه سواران بود\tجنوی ز دو دشمن از کهار\n",
            "ز بیناری بیژبند آورد\tهمر خونه بد تیرگاه انجمن\n",
            "تو کوراگهٔ پیکسی چند آن\tسوانش بیامد سواری بدو\n",
            "به فرزند بد بوم و شگرین دست\tیکی تاره دیدیم دامی بر خاک\n",
            "چو آیی که از کشته نزدیک آورد\tچگنها کس این برد رسمند شد\n",
            "دگر گوهم رستم پول رستخت\tنباید که هیمد سرافراز گفت\n",
            "که لستش به بینشگه و اندر خود\tهمی خون برو آفرین باژیان\n",
            "به روز گرابر به گرد و سخن\tز خشمند هرمس که ای دختری\n",
            "سوارش یکی چار جوی\n"
          ],
          "name": "stdout"
        }
      ]
    }
  ]
}