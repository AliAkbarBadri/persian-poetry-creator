{
  "nbformat": 4,
  "nbformat_minor": 0,
  "metadata": {
    "colab": {
      "name": "tempo.ipynb",
      "provenance": [],
      "toc_visible": true,
      "include_colab_link": true
    },
    "kernelspec": {
      "name": "python3",
      "display_name": "Python 3"
    },
    "accelerator": "GPU"
  },
  "cells": [
    {
      "cell_type": "markdown",
      "metadata": {
        "id": "view-in-github",
        "colab_type": "text"
      },
      "source": [
        "<a href=\"https://colab.research.google.com/github/aliakbarbadri/persian-poetry-creator/blob/master/char-gru.ipynb\" target=\"_parent\"><img src=\"https://colab.research.google.com/assets/colab-badge.svg\" alt=\"Open In Colab\"/></a>"
      ]
    },
    {
      "cell_type": "code",
      "metadata": {
        "id": "nF-7m57sBgdp",
        "colab_type": "code",
        "colab": {}
      },
      "source": [
        "import tensorflow as tf\n",
        "from tensorflow import keras\n",
        "import numpy as np\n",
        "import pandas as pd\n",
        "import matplotlib.pyplot as plt\n",
        "import os\n",
        "import time"
      ],
      "execution_count": 0,
      "outputs": []
    },
    {
      "cell_type": "markdown",
      "metadata": {
        "id": "wXgkMK0iMQDL",
        "colab_type": "text"
      },
      "source": [
        "# Load the data"
      ]
    },
    {
      "cell_type": "code",
      "metadata": {
        "id": "l8wd1saxwPtu",
        "colab_type": "code",
        "colab": {}
      },
      "source": [
        "url = \"https://raw.githubusercontent.com/aliakbarbadri/persian-poetry-creator/master/shahname2.txt\"\n",
        "filepath = keras.utils.get_file(\"shahname.txt\", url) \n",
        "corpus = open(filepath, 'rb').read().decode(encoding='utf-8')"
      ],
      "execution_count": 0,
      "outputs": []
    },
    {
      "cell_type": "code",
      "metadata": {
        "id": "OHzCO_cSlYoO",
        "colab_type": "code",
        "colab": {
          "base_uri": "https://localhost:8080/",
          "height": 34
        },
        "outputId": "7c306536-4207-4398-a6c6-121cd07d8c4a"
      },
      "source": [
        "vocab = sorted(set(corpus))\n",
        "print(len(vocab), \"chars\")"
      ],
      "execution_count": 29,
      "outputs": [
        {
          "output_type": "stream",
          "text": [
            "48 chars\n"
          ],
          "name": "stdout"
        }
      ]
    },
    {
      "cell_type": "code",
      "metadata": {
        "id": "Y9JzIK9elja4",
        "colab_type": "code",
        "colab": {}
      },
      "source": [
        "char2idx = {u:i for i, u in enumerate(vocab)}\n",
        "idx2char = np.array(vocab)\n",
        "text_as_int = np.array([char2idx[c] for c in corpus])"
      ],
      "execution_count": 0,
      "outputs": []
    },
    {
      "cell_type": "code",
      "metadata": {
        "id": "U22k7ShUl0xm",
        "colab_type": "code",
        "colab": {}
      },
      "source": [
        "seq_length = 1000\n",
        "examples_per_epoch = len(corpus)//(seq_length+1)\n",
        "char_dataset = tf.data.Dataset.from_tensor_slices(text_as_int)\n",
        "sequences = char_dataset.batch(seq_length+1, drop_remainder=True)"
      ],
      "execution_count": 0,
      "outputs": []
    },
    {
      "cell_type": "code",
      "metadata": {
        "id": "4XlooC1Ongpo",
        "colab_type": "code",
        "colab": {}
      },
      "source": [
        "def split_input_target(chunk):\n",
        "    input_text = chunk[:-1]\n",
        "    target_text = chunk[1:]\n",
        "    return input_text, target_text\n",
        "\n",
        "dataset = sequences.map(split_input_target)"
      ],
      "execution_count": 0,
      "outputs": []
    },
    {
      "cell_type": "code",
      "metadata": {
        "id": "FfQ5q86yoePB",
        "colab_type": "code",
        "colab": {
          "base_uri": "https://localhost:8080/",
          "height": 34
        },
        "outputId": "b86f1de8-589d-44f7-cb58-7df912b6b7ab"
      },
      "source": [
        "BATCH_SIZE = 64\n",
        "BUFFER_SIZE = 10000\n",
        "dataset = dataset.shuffle(BUFFER_SIZE).batch(BATCH_SIZE, drop_remainder=True)\n",
        "dataset"
      ],
      "execution_count": 33,
      "outputs": [
        {
          "output_type": "execute_result",
          "data": {
            "text/plain": [
              "<BatchDataset shapes: ((64, 1000), (64, 1000)), types: (tf.int64, tf.int64)>"
            ]
          },
          "metadata": {
            "tags": []
          },
          "execution_count": 33
        }
      ]
    },
    {
      "cell_type": "markdown",
      "metadata": {
        "id": "-11mQDSktgRz",
        "colab_type": "text"
      },
      "source": [
        "# Model"
      ]
    },
    {
      "cell_type": "code",
      "metadata": {
        "id": "jAMXrqzeIQn5",
        "colab_type": "code",
        "colab": {}
      },
      "source": [
        "vocab_size = len(vocab)\n",
        "embedding_dim = 256\n",
        "rnn_units = 1024"
      ],
      "execution_count": 0,
      "outputs": []
    },
    {
      "cell_type": "code",
      "metadata": {
        "id": "McBFd1ppopSE",
        "colab_type": "code",
        "colab": {
          "base_uri": "https://localhost:8080/",
          "height": 289
        },
        "outputId": "6e347451-91ff-4e82-977a-7ca86e4508fe"
      },
      "source": [
        "model = keras.Sequential()\n",
        "model.add(tf.keras.layers.Embedding(vocab_size, embedding_dim,\n",
        "                              batch_input_shape=[BATCH_SIZE, None]))\n",
        "model.add(tf.keras.layers.GRU(rnn_units,return_sequences=True,stateful=True,\n",
        "                              recurrent_initializer='glorot_uniform',\n",
        "                              recurrent_regularizer=keras.regularizers.l2(0.01)\n",
        "                              ))\n",
        "model.add(tf.keras.layers.GRU(rnn_units,return_sequences=True,stateful=True,\n",
        "                              recurrent_initializer='glorot_uniform',\n",
        "                              recurrent_regularizer=keras.regularizers.l2(0.01)\n",
        "                              ))\n",
        "model.add(tf.keras.layers.Dense(vocab_size))\n",
        "model.summary()"
      ],
      "execution_count": 35,
      "outputs": [
        {
          "output_type": "stream",
          "text": [
            "Model: \"sequential_2\"\n",
            "_________________________________________________________________\n",
            "Layer (type)                 Output Shape              Param #   \n",
            "=================================================================\n",
            "embedding_2 (Embedding)      (64, None, 256)           12288     \n",
            "_________________________________________________________________\n",
            "gru_4 (GRU)                  (64, None, 1024)          3938304   \n",
            "_________________________________________________________________\n",
            "gru_5 (GRU)                  (64, None, 1024)          6297600   \n",
            "_________________________________________________________________\n",
            "dense_2 (Dense)              (64, None, 48)            49200     \n",
            "=================================================================\n",
            "Total params: 10,297,392\n",
            "Trainable params: 10,297,392\n",
            "Non-trainable params: 0\n",
            "_________________________________________________________________\n"
          ],
          "name": "stdout"
        }
      ]
    },
    {
      "cell_type": "code",
      "metadata": {
        "id": "U_5_FwWzpWHV",
        "colab_type": "code",
        "colab": {}
      },
      "source": [
        "model.compile(optimizer='adam', loss=keras.losses.SparseCategoricalCrossentropy(from_logits=True), metrics=['accuracy'])"
      ],
      "execution_count": 0,
      "outputs": []
    },
    {
      "cell_type": "code",
      "metadata": {
        "id": "Qj5ozZC5pcpG",
        "colab_type": "code",
        "colab": {
          "base_uri": "https://localhost:8080/",
          "height": 357
        },
        "outputId": "fe86bbc8-99c7-4042-c119-53d0015f185f"
      },
      "source": [
        "history = model.fit(dataset, epochs=10)"
      ],
      "execution_count": 37,
      "outputs": [
        {
          "output_type": "stream",
          "text": [
            "Epoch 1/10\n",
            "39/39 [==============================] - 49s 1s/step - loss: 11.8249 - accuracy: 0.1836\n",
            "Epoch 2/10\n",
            "39/39 [==============================] - 48s 1s/step - loss: 2.6575 - accuracy: 0.2744\n",
            "Epoch 3/10\n",
            "39/39 [==============================] - 49s 1s/step - loss: 2.4001 - accuracy: 0.3081\n",
            "Epoch 4/10\n",
            "39/39 [==============================] - 48s 1s/step - loss: 2.3209 - accuracy: 0.3193\n",
            "Epoch 5/10\n",
            "39/39 [==============================] - 49s 1s/step - loss: 2.2420 - accuracy: 0.3423\n",
            "Epoch 6/10\n",
            "39/39 [==============================] - 49s 1s/step - loss: 2.1698 - accuracy: 0.3636\n",
            "Epoch 7/10\n",
            "39/39 [==============================] - 49s 1s/step - loss: 2.1055 - accuracy: 0.3861\n",
            "Epoch 8/10\n",
            "39/39 [==============================] - 49s 1s/step - loss: 2.0426 - accuracy: 0.4051\n",
            "Epoch 9/10\n",
            "39/39 [==============================] - 48s 1s/step - loss: 1.9834 - accuracy: 0.4246\n",
            "Epoch 10/10\n",
            "39/39 [==============================] - 49s 1s/step - loss: 1.9394 - accuracy: 0.4391\n"
          ],
          "name": "stdout"
        }
      ]
    },
    {
      "cell_type": "code",
      "metadata": {
        "id": "SWvJW_Dz0rsd",
        "colab_type": "code",
        "colab": {
          "base_uri": "https://localhost:8080/",
          "height": 289
        },
        "outputId": "e8579fbc-b8b5-40ab-e400-670af2826cc1"
      },
      "source": [
        "main_model = keras.Sequential()\n",
        "main_model.add(tf.keras.layers.Embedding(vocab_size, embedding_dim,\n",
        "                              batch_input_shape=[1, None]))\n",
        "main_model.add(tf.keras.layers.GRU(rnn_units,return_sequences=True,stateful=True,\n",
        "                              recurrent_initializer='glorot_uniform',\n",
        "                              recurrent_regularizer=keras.regularizers.l2(0.01)\n",
        "                              ))\n",
        "main_model.add(tf.keras.layers.GRU(rnn_units,return_sequences=True,stateful=True,\n",
        "                              recurrent_initializer='glorot_uniform',\n",
        "                              recurrent_regularizer=keras.regularizers.l2(0.01)\n",
        "                              ))\n",
        "main_model.add(tf.keras.layers.Dense(vocab_size))\n",
        "\n",
        "main_model.set_weights(model.get_weights())\n",
        "model = main_model\n",
        "model.summary()"
      ],
      "execution_count": 38,
      "outputs": [
        {
          "output_type": "stream",
          "text": [
            "Model: \"sequential_3\"\n",
            "_________________________________________________________________\n",
            "Layer (type)                 Output Shape              Param #   \n",
            "=================================================================\n",
            "embedding_3 (Embedding)      (1, None, 256)            12288     \n",
            "_________________________________________________________________\n",
            "gru_6 (GRU)                  (1, None, 1024)           3938304   \n",
            "_________________________________________________________________\n",
            "gru_7 (GRU)                  (1, None, 1024)           6297600   \n",
            "_________________________________________________________________\n",
            "dense_3 (Dense)              (1, None, 48)             49200     \n",
            "=================================================================\n",
            "Total params: 10,297,392\n",
            "Trainable params: 10,297,392\n",
            "Non-trainable params: 0\n",
            "_________________________________________________________________\n"
          ],
          "name": "stdout"
        }
      ]
    },
    {
      "cell_type": "code",
      "metadata": {
        "id": "6l1UtOJ6p4Dx",
        "colab_type": "code",
        "colab": {}
      },
      "source": [
        "def generate_text(model, start_string, temperature = 1.0):\n",
        "  num_generate = 1000\n",
        "  input_eval = [char2idx[s] for s in start_string]\n",
        "  input_eval = tf.expand_dims(input_eval, 0)\n",
        "  text_generated = []\n",
        "  model.reset_states()\n",
        "  for i in range(num_generate):\n",
        "      predictions = model(input_eval)\n",
        "      predictions = tf.squeeze(predictions, 0)\n",
        "      predictions = predictions / temperature\n",
        "      predicted_id = tf.random.categorical(predictions, num_samples=1)[-1,0].numpy()\n",
        "      input_eval = tf.expand_dims([predicted_id], 0)\n",
        "      text_generated.append(idx2char[predicted_id])\n",
        "  return (start_string + ''.join(text_generated))"
      ],
      "execution_count": 0,
      "outputs": []
    },
    {
      "cell_type": "code",
      "metadata": {
        "id": "QUeSotIBqB7a",
        "colab_type": "code",
        "colab": {
          "base_uri": "https://localhost:8080/",
          "height": 425
        },
        "outputId": "cbc3e1c1-96c3-41c5-c722-8c2786e697f1"
      },
      "source": [
        "print(generate_text(model, start_string=u\"که ایران چو باغی ست خرم بهار\", temperature=0.5))"
      ],
      "execution_count": 41,
      "outputs": [
        {
          "output_type": "stream",
          "text": [
            "که ایران چو باغی ست خرم بهار\tکه گفت کار ز مرد گفت\tبیامد به کرد بر آفرین نهان\tبدین گوی تو شد به برگند\n",
            "چو بیم و بین‌از مهر و گوی\n",
            "به این نه بر آمد به این بند\n",
            "به روز و بر چنین کند برنگیر\n",
            "چنین پیش و روز رای نین و رست\tبریدند و بر ز تیغان کوه\n",
            "برآمد بر آمد به خویش به نیز\n",
            "که بر نیار و دردار به را\tببیدان که شد پندار خون\n",
            "برو ته روی به مرد بر از خواه\tبه آن که بود اندرین به جهان\n",
            "سپه بر شهرگان بر در دریدان بدید\tز بر از بهر و با جهان\n",
            "که بندیک و بر سرم بر سر از درو بدی\n",
            "ز تن بی‌آمد و گرد و این ترا بهم\tکه بین دور بیاران بدید\n",
            "ز روش و بر آورد به دروی\n",
            "به را سر که بر دل بی‌من\tهمه گفت و بر آهی و کرد\n",
            "چو گفت بر از آید به چند\n",
            "به گفتند بود نیامد شد\tبه گنج و روز رو از بدر آفرین\n",
            "ز کین در چین تو نه در گفت عر\n",
            "بدین که دید آن رویش به اندر\n",
            "چنین روی همه را دیر و بی‌راست\tبه که درز روش آمد روشیار\tبه نیکی به مران ز درگار\n",
            "بدین گفت بر نیاد و سیر\n",
            "به دید بود اندر آن کنوست\tکه ای بر به کرد شاه و کشت\n",
            "به زرگی به برد آر و شهریار\tسپهد و دیگر میان بدین\n",
            "چو گفت و بر تن گفت گرداد\tبدین گرد آمد بر جنگ نیز\tکه بی‌روی بر مرد زین روی\n",
            "بنود بر آید به درگان نیاز\n",
            "به نیز گفت\n"
          ],
          "name": "stdout"
        }
      ]
    }
  ]
}