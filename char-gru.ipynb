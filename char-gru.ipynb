{
  "nbformat": 4,
  "nbformat_minor": 0,
  "metadata": {
    "colab": {
      "name": "tempo.ipynb",
      "provenance": [],
      "toc_visible": true,
      "include_colab_link": true
    },
    "kernelspec": {
      "name": "python3",
      "display_name": "Python 3"
    },
    "accelerator": "GPU"
  },
  "cells": [
    {
      "cell_type": "markdown",
      "metadata": {
        "id": "view-in-github",
        "colab_type": "text"
      },
      "source": [
        "<a href=\"https://colab.research.google.com/github/aliakbarbadri/persian-poetry-creator/blob/master/char-gru.ipynb\" target=\"_parent\"><img src=\"https://colab.research.google.com/assets/colab-badge.svg\" alt=\"Open In Colab\"/></a>"
      ]
    },
    {
      "cell_type": "code",
      "metadata": {
        "id": "nF-7m57sBgdp",
        "colab_type": "code",
        "colab": {}
      },
      "source": [
        "import tensorflow as tf\n",
        "from tensorflow import keras\n",
        "import numpy as np\n",
        "import pandas as pd\n",
        "import matplotlib.pyplot as plt\n",
        "import os\n",
        "import time"
      ],
      "execution_count": 0,
      "outputs": []
    },
    {
      "cell_type": "markdown",
      "metadata": {
        "id": "wXgkMK0iMQDL",
        "colab_type": "text"
      },
      "source": [
        "# Load the data"
      ]
    },
    {
      "cell_type": "code",
      "metadata": {
        "id": "l8wd1saxwPtu",
        "colab_type": "code",
        "colab": {}
      },
      "source": [
        "url = \"https://raw.githubusercontent.com/aliakbarbadri/persian-poetry-creator/master/shahname2.txt\"\n",
        "filepath = keras.utils.get_file(\"shahname2.txt\", url) \n",
        "corpus = open(filepath, 'rb').read().decode(encoding='utf-8')\n",
        "corpus = corpus.replace(\"\\t\",\" \\t \").replace(\"\\n\", \" \\n \")"
      ],
      "execution_count": 0,
      "outputs": []
    },
    {
      "cell_type": "code",
      "metadata": {
        "id": "OHzCO_cSlYoO",
        "colab_type": "code",
        "outputId": "04a73f06-7b71-414f-d919-cef7647a946e",
        "colab": {
          "base_uri": "https://localhost:8080/",
          "height": 34
        }
      },
      "source": [
        "vocab = sorted(set(corpus))\n",
        "print(len(vocab), \"chars\")"
      ],
      "execution_count": 6,
      "outputs": [
        {
          "output_type": "stream",
          "text": [
            "48 chars\n"
          ],
          "name": "stdout"
        }
      ]
    },
    {
      "cell_type": "code",
      "metadata": {
        "id": "S8ehHLWYLtqw",
        "colab_type": "code",
        "colab": {
          "base_uri": "https://localhost:8080/",
          "height": 833
        },
        "outputId": "9a75689d-b3de-4a5c-b786-5efacdd9d21d"
      },
      "source": [
        "vocab"
      ],
      "execution_count": 7,
      "outputs": [
        {
          "output_type": "execute_result",
          "data": {
            "text/plain": [
              "['\\t',\n",
              " '\\n',\n",
              " ' ',\n",
              " '(',\n",
              " ')',\n",
              " '«',\n",
              " '»',\n",
              " '،',\n",
              " '؟',\n",
              " 'ء',\n",
              " 'آ',\n",
              " 'أ',\n",
              " 'ؤ',\n",
              " 'ئ',\n",
              " 'ا',\n",
              " 'ب',\n",
              " 'ت',\n",
              " 'ث',\n",
              " 'ج',\n",
              " 'ح',\n",
              " 'خ',\n",
              " 'د',\n",
              " 'ذ',\n",
              " 'ر',\n",
              " 'ز',\n",
              " 'س',\n",
              " 'ش',\n",
              " 'ص',\n",
              " 'ض',\n",
              " 'ط',\n",
              " 'ظ',\n",
              " 'ع',\n",
              " 'غ',\n",
              " 'ف',\n",
              " 'ق',\n",
              " 'ل',\n",
              " 'م',\n",
              " 'ن',\n",
              " 'ه',\n",
              " 'و',\n",
              " 'ٔ',\n",
              " 'پ',\n",
              " 'چ',\n",
              " 'ژ',\n",
              " 'ک',\n",
              " 'گ',\n",
              " 'ی',\n",
              " '\\u200c']"
            ]
          },
          "metadata": {
            "tags": []
          },
          "execution_count": 7
        }
      ]
    },
    {
      "cell_type": "code",
      "metadata": {
        "id": "Y9JzIK9elja4",
        "colab_type": "code",
        "colab": {}
      },
      "source": [
        "char2idx = {u:i for i, u in enumerate(vocab)}\n",
        "idx2char = np.array(vocab)\n",
        "text_as_int = np.array([char2idx[c] for c in corpus])"
      ],
      "execution_count": 0,
      "outputs": []
    },
    {
      "cell_type": "code",
      "metadata": {
        "id": "U22k7ShUl0xm",
        "colab_type": "code",
        "colab": {}
      },
      "source": [
        "seq_length = 1000\n",
        "examples_per_epoch = len(corpus)//(seq_length+1)\n",
        "char_dataset = tf.data.Dataset.from_tensor_slices(text_as_int)\n",
        "sequences = char_dataset.batch(seq_length+1, drop_remainder=True)"
      ],
      "execution_count": 0,
      "outputs": []
    },
    {
      "cell_type": "code",
      "metadata": {
        "id": "4XlooC1Ongpo",
        "colab_type": "code",
        "colab": {}
      },
      "source": [
        "def split_input_target(chunk):\n",
        "    input_text = chunk[:-1]\n",
        "    target_text = chunk[1:]\n",
        "    return input_text, target_text\n",
        "\n",
        "dataset = sequences.map(split_input_target)"
      ],
      "execution_count": 0,
      "outputs": []
    },
    {
      "cell_type": "code",
      "metadata": {
        "id": "FfQ5q86yoePB",
        "colab_type": "code",
        "outputId": "df7dfcfe-d4d3-440b-af5c-eb3e01261e55",
        "colab": {
          "base_uri": "https://localhost:8080/",
          "height": 34
        }
      },
      "source": [
        "BATCH_SIZE = 64\n",
        "BUFFER_SIZE = 10000\n",
        "dataset = dataset.shuffle(BUFFER_SIZE).batch(BATCH_SIZE, drop_remainder=True)\n",
        "dataset"
      ],
      "execution_count": 11,
      "outputs": [
        {
          "output_type": "execute_result",
          "data": {
            "text/plain": [
              "<BatchDataset shapes: ((64, 1000), (64, 1000)), types: (tf.int64, tf.int64)>"
            ]
          },
          "metadata": {
            "tags": []
          },
          "execution_count": 11
        }
      ]
    },
    {
      "cell_type": "markdown",
      "metadata": {
        "id": "-11mQDSktgRz",
        "colab_type": "text"
      },
      "source": [
        "# Model (GRU)"
      ]
    },
    {
      "cell_type": "code",
      "metadata": {
        "id": "jAMXrqzeIQn5",
        "colab_type": "code",
        "colab": {}
      },
      "source": [
        "vocab_size = len(vocab)\n",
        "embedding_dim = 256\n",
        "rnn_units = 1024"
      ],
      "execution_count": 0,
      "outputs": []
    },
    {
      "cell_type": "code",
      "metadata": {
        "id": "McBFd1ppopSE",
        "colab_type": "code",
        "outputId": "1c042b18-9b28-43ea-898f-5ecd9e4b8c78",
        "colab": {
          "base_uri": "https://localhost:8080/",
          "height": 289
        }
      },
      "source": [
        "model = keras.Sequential()\n",
        "model.add(tf.keras.layers.Embedding(vocab_size, embedding_dim,\n",
        "                              batch_input_shape=[BATCH_SIZE, None]))\n",
        "model.add(tf.keras.layers.GRU(rnn_units,return_sequences=True,stateful=True,\n",
        "                              recurrent_initializer='glorot_uniform',\n",
        "                              recurrent_regularizer=keras.regularizers.l2(0.01)\n",
        "                              ))\n",
        "model.add(tf.keras.layers.Dense(vocab_size))\n",
        "model.summary()"
      ],
      "execution_count": 28,
      "outputs": [
        {
          "output_type": "stream",
          "text": [
            "Model: \"sequential_4\"\n",
            "_________________________________________________________________\n",
            "Layer (type)                 Output Shape              Param #   \n",
            "=================================================================\n",
            "embedding_4 (Embedding)      (64, None, 256)           12288     \n",
            "_________________________________________________________________\n",
            "gru_8 (GRU)                  (64, None, 1024)          3938304   \n",
            "_________________________________________________________________\n",
            "gru_9 (GRU)                  (64, None, 1024)          6297600   \n",
            "_________________________________________________________________\n",
            "dense_4 (Dense)              (64, None, 48)            49200     \n",
            "=================================================================\n",
            "Total params: 10,297,392\n",
            "Trainable params: 10,297,392\n",
            "Non-trainable params: 0\n",
            "_________________________________________________________________\n"
          ],
          "name": "stdout"
        }
      ]
    },
    {
      "cell_type": "code",
      "metadata": {
        "id": "U_5_FwWzpWHV",
        "colab_type": "code",
        "colab": {}
      },
      "source": [
        "model.compile(optimizer='adam', loss=keras.losses.SparseCategoricalCrossentropy(from_logits=True), metrics=['accuracy'])"
      ],
      "execution_count": 0,
      "outputs": []
    },
    {
      "cell_type": "code",
      "metadata": {
        "id": "Qj5ozZC5pcpG",
        "colab_type": "code",
        "outputId": "a34ca19f-ffb3-4fa5-fc4f-b290dc92b844",
        "colab": {
          "base_uri": "https://localhost:8080/",
          "height": 1000
        }
      },
      "source": [
        "history = model.fit(dataset, epochs=50)"
      ],
      "execution_count": 30,
      "outputs": [
        {
          "output_type": "stream",
          "text": [
            "Epoch 1/50\n",
            "42/42 [==============================] - 110s 3s/step - loss: 10.9812 - accuracy: 0.2489\n",
            "Epoch 2/50\n",
            "42/42 [==============================] - 110s 3s/step - loss: 2.4215 - accuracy: 0.3313\n",
            "Epoch 3/50\n",
            "42/42 [==============================] - 111s 3s/step - loss: 2.2212 - accuracy: 0.3547\n",
            "Epoch 4/50\n",
            "42/42 [==============================] - 111s 3s/step - loss: 2.1451 - accuracy: 0.3746\n",
            "Epoch 5/50\n",
            "42/42 [==============================] - 110s 3s/step - loss: 2.0956 - accuracy: 0.3931\n",
            "Epoch 6/50\n",
            "42/42 [==============================] - 110s 3s/step - loss: 2.0268 - accuracy: 0.4128\n",
            "Epoch 7/50\n",
            "42/42 [==============================] - 111s 3s/step - loss: 1.9699 - accuracy: 0.4326\n",
            "Epoch 8/50\n",
            "42/42 [==============================] - 111s 3s/step - loss: 1.9316 - accuracy: 0.4451\n",
            "Epoch 9/50\n",
            "42/42 [==============================] - 111s 3s/step - loss: 1.8570 - accuracy: 0.4653\n",
            "Epoch 10/50\n",
            "42/42 [==============================] - 111s 3s/step - loss: 1.8233 - accuracy: 0.4758\n",
            "Epoch 11/50\n",
            "42/42 [==============================] - 111s 3s/step - loss: 1.7826 - accuracy: 0.4875\n",
            "Epoch 12/50\n",
            "42/42 [==============================] - 111s 3s/step - loss: 1.7480 - accuracy: 0.4971\n",
            "Epoch 13/50\n",
            "42/42 [==============================] - 111s 3s/step - loss: 1.7219 - accuracy: 0.5042\n",
            "Epoch 14/50\n",
            "42/42 [==============================] - 111s 3s/step - loss: 1.7038 - accuracy: 0.5086\n",
            "Epoch 15/50\n",
            "42/42 [==============================] - 111s 3s/step - loss: 1.6764 - accuracy: 0.5152\n",
            "Epoch 16/50\n",
            "42/42 [==============================] - 111s 3s/step - loss: 1.6556 - accuracy: 0.5208\n",
            "Epoch 17/50\n",
            "42/42 [==============================] - 111s 3s/step - loss: 1.6409 - accuracy: 0.5243\n",
            "Epoch 18/50\n",
            "42/42 [==============================] - 111s 3s/step - loss: 1.6190 - accuracy: 0.5300\n",
            "Epoch 19/50\n",
            "42/42 [==============================] - 111s 3s/step - loss: 1.6034 - accuracy: 0.5336\n",
            "Epoch 20/50\n",
            "42/42 [==============================] - 111s 3s/step - loss: 1.6238 - accuracy: 0.5306\n",
            "Epoch 21/50\n",
            "42/42 [==============================] - 111s 3s/step - loss: 1.5763 - accuracy: 0.5403\n",
            "Epoch 22/50\n",
            "42/42 [==============================] - 111s 3s/step - loss: 1.5682 - accuracy: 0.5423\n",
            "Epoch 23/50\n",
            "42/42 [==============================] - 111s 3s/step - loss: 1.5561 - accuracy: 0.5455\n",
            "Epoch 24/50\n",
            "42/42 [==============================] - 111s 3s/step - loss: 1.5458 - accuracy: 0.5481\n",
            "Epoch 25/50\n",
            "42/42 [==============================] - 111s 3s/step - loss: 1.5338 - accuracy: 0.5507\n",
            "Epoch 26/50\n",
            "42/42 [==============================] - 110s 3s/step - loss: 1.5212 - accuracy: 0.5539\n",
            "Epoch 27/50\n",
            "42/42 [==============================] - 110s 3s/step - loss: 1.5103 - accuracy: 0.5565\n",
            "Epoch 28/50\n",
            "42/42 [==============================] - 111s 3s/step - loss: 1.5087 - accuracy: 0.5568\n",
            "Epoch 29/50\n",
            "42/42 [==============================] - 111s 3s/step - loss: 1.4899 - accuracy: 0.5615\n",
            "Epoch 30/50\n",
            "42/42 [==============================] - 111s 3s/step - loss: 1.4824 - accuracy: 0.5635\n",
            "Epoch 31/50\n",
            "42/42 [==============================] - 110s 3s/step - loss: 1.4734 - accuracy: 0.5660\n",
            "Epoch 32/50\n",
            "42/42 [==============================] - 111s 3s/step - loss: 1.4642 - accuracy: 0.5688\n",
            "Epoch 33/50\n",
            "42/42 [==============================] - 110s 3s/step - loss: 1.4527 - accuracy: 0.5734\n",
            "Epoch 34/50\n",
            "42/42 [==============================] - 110s 3s/step - loss: 1.4473 - accuracy: 0.5754\n",
            "Epoch 35/50\n",
            "42/42 [==============================] - 111s 3s/step - loss: 1.4355 - accuracy: 0.5824\n",
            "Epoch 36/50\n",
            "42/42 [==============================] - 110s 3s/step - loss: 1.4140 - accuracy: 0.5889\n",
            "Epoch 37/50\n",
            "42/42 [==============================] - 110s 3s/step - loss: 1.4024 - accuracy: 0.5910\n",
            "Epoch 38/50\n",
            "42/42 [==============================] - 110s 3s/step - loss: 1.3943 - accuracy: 0.5932\n",
            "Epoch 39/50\n",
            "42/42 [==============================] - 110s 3s/step - loss: 1.3854 - accuracy: 0.5951\n",
            "Epoch 40/50\n",
            "42/42 [==============================] - 110s 3s/step - loss: 1.3808 - accuracy: 0.5955\n",
            "Epoch 41/50\n",
            "42/42 [==============================] - 110s 3s/step - loss: 1.3747 - accuracy: 0.5974\n",
            "Epoch 42/50\n",
            "42/42 [==============================] - 110s 3s/step - loss: 1.3673 - accuracy: 0.5992\n",
            "Epoch 43/50\n",
            "42/42 [==============================] - 110s 3s/step - loss: 1.3609 - accuracy: 0.6007\n",
            "Epoch 44/50\n",
            "42/42 [==============================] - 110s 3s/step - loss: 1.3527 - accuracy: 0.6028\n",
            "Epoch 45/50\n",
            "42/42 [==============================] - 111s 3s/step - loss: 1.3482 - accuracy: 0.6040\n",
            "Epoch 46/50\n",
            "42/42 [==============================] - 111s 3s/step - loss: 1.3403 - accuracy: 0.6064\n",
            "Epoch 47/50\n",
            "42/42 [==============================] - 111s 3s/step - loss: 1.3353 - accuracy: 0.6071\n",
            "Epoch 48/50\n",
            "42/42 [==============================] - 111s 3s/step - loss: 1.3313 - accuracy: 0.6079\n",
            "Epoch 49/50\n",
            "42/42 [==============================] - 111s 3s/step - loss: 1.3245 - accuracy: 0.6098\n",
            "Epoch 50/50\n",
            "42/42 [==============================] - 111s 3s/step - loss: 1.3192 - accuracy: 0.6116\n"
          ],
          "name": "stdout"
        }
      ]
    },
    {
      "cell_type": "code",
      "metadata": {
        "id": "SWvJW_Dz0rsd",
        "colab_type": "code",
        "outputId": "c512ddfd-f3bf-4365-c356-86af9991ad10",
        "colab": {
          "base_uri": "https://localhost:8080/",
          "height": 289
        }
      },
      "source": [
        "main_model = keras.Sequential()\n",
        "main_model.add(tf.keras.layers.Embedding(vocab_size, embedding_dim,\n",
        "                              batch_input_shape=[1, None]))\n",
        "main_model.add(tf.keras.layers.GRU(rnn_units,return_sequences=True,stateful=True,\n",
        "                              recurrent_initializer='glorot_uniform',\n",
        "                              recurrent_regularizer=keras.regularizers.l2(0.01)\n",
        "                              ))\n",
        "main_model.add(tf.keras.layers.Dense(vocab_size))\n",
        "\n",
        "main_model.set_weights(model.get_weights())\n",
        "model = main_model\n",
        "model.summary()"
      ],
      "execution_count": 31,
      "outputs": [
        {
          "output_type": "stream",
          "text": [
            "Model: \"sequential_5\"\n",
            "_________________________________________________________________\n",
            "Layer (type)                 Output Shape              Param #   \n",
            "=================================================================\n",
            "embedding_5 (Embedding)      (1, None, 256)            12288     \n",
            "_________________________________________________________________\n",
            "gru_10 (GRU)                 (1, None, 1024)           3938304   \n",
            "_________________________________________________________________\n",
            "gru_11 (GRU)                 (1, None, 1024)           6297600   \n",
            "_________________________________________________________________\n",
            "dense_5 (Dense)              (1, None, 48)             49200     \n",
            "=================================================================\n",
            "Total params: 10,297,392\n",
            "Trainable params: 10,297,392\n",
            "Non-trainable params: 0\n",
            "_________________________________________________________________\n"
          ],
          "name": "stdout"
        }
      ]
    },
    {
      "cell_type": "code",
      "metadata": {
        "id": "6l1UtOJ6p4Dx",
        "colab_type": "code",
        "colab": {}
      },
      "source": [
        "def generate_text(model, start_string, temperature = 1.0):\n",
        "  num_generate = 1000\n",
        "  input_eval = [char2idx[s] for s in start_string]\n",
        "  input_eval = tf.expand_dims(input_eval, 0)\n",
        "  text_generated = []\n",
        "  model.reset_states()\n",
        "  for i in range(num_generate):\n",
        "      predictions = model(input_eval)\n",
        "      predictions = tf.squeeze(predictions, 0)\n",
        "      predictions = predictions / temperature\n",
        "      predicted_id = tf.random.categorical(predictions, num_samples=1)[-1,0].numpy()\n",
        "      input_eval = tf.expand_dims([predicted_id], 0)\n",
        "      text_generated.append(idx2char[predicted_id])\n",
        "  return (start_string + ''.join(text_generated))"
      ],
      "execution_count": 0,
      "outputs": []
    },
    {
      "cell_type": "code",
      "metadata": {
        "id": "QUeSotIBqB7a",
        "colab_type": "code",
        "outputId": "b661e5c3-e45e-499a-9f4c-7482099488e7",
        "colab": {
          "base_uri": "https://localhost:8080/",
          "height": 323
        }
      },
      "source": [
        "print(generate_text(model, start_string=u\"که ایران چوباغیست خرم بهار\", temperature=1))"
      ],
      "execution_count": 33,
      "outputs": [
        {
          "output_type": "stream",
          "text": [
            "که ایران چوباغیست خرم بهار \t کسی را نزد دردن دمید رزم \n",
            " چو فرم‌آذر او رای و دور گرفت \t سیه سپخمه برین روز بگذوش \n",
            " بدو گفت رستم به را خواندند \t میان به افگند انددازه راه \t بخور شاهان بیامد بدرد \n",
            " کمان نامور زار دیدار شد \t چوگفتی ناگزند ار شغوری \n",
            " فروبر برامافراختندی \t پرستنده ایران گروهان برد \n",
            " جگر بر خسته از دولتر رسید \t درم درم بند هر نهاد \n",
            " سزد کو سسست این چون گلاب \t نسودیم مردان مهره کرد \n",
            " ز شاهان تیرز فروزد بخوی \t چو اندر تنگ دانا بران \n",
            " هوا ای بپرسیدش اندر چنین \t گزین کرد خرگیر و لب \n",
            " دگر رنگ رنگاه باید قباد \t ز دشمن پویلان تا کنده‌ایم \n",
            " بدو گفت رستم بدید و درد و کژ گرد \t سه جان شبین سوی و انبرید و بنم \n",
            " چو خورشید خاقان خردمند خواستار \t ببخشید و کاندر کن مهان \n",
            " گناه ترکان که پور شد مریز و گلاغ \t بزرگان تا به آیین ناسپ افگند \n",
            " بدو گفت رستمست از کند \t بر در تنان بخسرود شارستان \n",
            " سوی را همی‌داشت از روی شست \t نبوندی ز پس آتش هوا رویک بود \n",
            " برآمدم تا سرجام نزدیک \t دل باید و رخ چورگ تابند گل \n",
            " دگر راز کان نام و خیره فریدون \t همان ز لشکر ز تیغ و تن \t نیایدش برین همی جای تو هست \n",
            " دلش چاره شب بیامد به دست \t همی دیو\n"
          ],
          "name": "stdout"
        }
      ]
    },
    {
      "cell_type": "markdown",
      "metadata": {
        "id": "Xps-ncLV4wmQ",
        "colab_type": "text"
      },
      "source": [
        "# Model (LSTM)"
      ]
    },
    {
      "cell_type": "code",
      "metadata": {
        "id": "pqcawbxc4yiI",
        "colab_type": "code",
        "colab": {
          "base_uri": "https://localhost:8080/",
          "height": 255
        },
        "outputId": "47d60075-fd5e-4e22-b1a8-fbab0830f98a"
      },
      "source": [
        "model = keras.Sequential()\n",
        "model.add(tf.keras.layers.Embedding(vocab_size, embedding_dim,\n",
        "                              batch_input_shape=[BATCH_SIZE, None]))\n",
        "model.add(tf.keras.layers.LSTM(rnn_units,return_sequences=True,stateful=True,\n",
        "                              recurrent_initializer='glorot_uniform',\n",
        "                              recurrent_regularizer=keras.regularizers.l2(0.01)\n",
        "                              ))\n",
        "model.add(tf.keras.layers.Dense(vocab_size))\n",
        "model.summary()"
      ],
      "execution_count": 39,
      "outputs": [
        {
          "output_type": "stream",
          "text": [
            "Model: \"sequential_9\"\n",
            "_________________________________________________________________\n",
            "Layer (type)                 Output Shape              Param #   \n",
            "=================================================================\n",
            "embedding_9 (Embedding)      (64, None, 256)           12288     \n",
            "_________________________________________________________________\n",
            "lstm_6 (LSTM)                (64, None, 1024)          5246976   \n",
            "_________________________________________________________________\n",
            "dense_9 (Dense)              (64, None, 48)            49200     \n",
            "=================================================================\n",
            "Total params: 5,308,464\n",
            "Trainable params: 5,308,464\n",
            "Non-trainable params: 0\n",
            "_________________________________________________________________\n"
          ],
          "name": "stdout"
        }
      ]
    },
    {
      "cell_type": "code",
      "metadata": {
        "id": "caqhS3AV6vSH",
        "colab_type": "code",
        "colab": {}
      },
      "source": [
        "model.compile(optimizer='adam', loss=keras.losses.SparseCategoricalCrossentropy(from_logits=True), metrics=['accuracy'])"
      ],
      "execution_count": 0,
      "outputs": []
    },
    {
      "cell_type": "code",
      "metadata": {
        "id": "i8wYSWy_62KF",
        "colab_type": "code",
        "colab": {
          "base_uri": "https://localhost:8080/",
          "height": 697
        },
        "outputId": "c182981f-8a44-4529-bbf5-c8f70a6538d7"
      },
      "source": [
        "history = model.fit(dataset, epochs=20)"
      ],
      "execution_count": 41,
      "outputs": [
        {
          "output_type": "stream",
          "text": [
            "Epoch 1/20\n",
            "42/42 [==============================] - 62s 1s/step - loss: 8.3038 - accuracy: 0.2201\n",
            "Epoch 2/20\n",
            "42/42 [==============================] - 62s 1s/step - loss: 2.9113 - accuracy: 0.3026\n",
            "Epoch 3/20\n",
            "42/42 [==============================] - 62s 1s/step - loss: 2.4002 - accuracy: 0.3359\n",
            "Epoch 4/20\n",
            "42/42 [==============================] - 62s 1s/step - loss: 2.2880 - accuracy: 0.3443\n",
            "Epoch 5/20\n",
            "42/42 [==============================] - 62s 1s/step - loss: 2.2354 - accuracy: 0.3524\n",
            "Epoch 6/20\n",
            "42/42 [==============================] - 62s 1s/step - loss: 2.1844 - accuracy: 0.3634\n",
            "Epoch 7/20\n",
            "42/42 [==============================] - 62s 1s/step - loss: 2.1558 - accuracy: 0.3690\n",
            "Epoch 8/20\n",
            "42/42 [==============================] - 63s 1s/step - loss: 2.1112 - accuracy: 0.3810\n",
            "Epoch 9/20\n",
            "42/42 [==============================] - 63s 1s/step - loss: 2.0484 - accuracy: 0.3982\n",
            "Epoch 10/20\n",
            "42/42 [==============================] - 62s 1s/step - loss: 1.9929 - accuracy: 0.4127\n",
            "Epoch 11/20\n",
            "42/42 [==============================] - 63s 1s/step - loss: 1.9511 - accuracy: 0.4269\n",
            "Epoch 12/20\n",
            "42/42 [==============================] - 62s 1s/step - loss: 1.9078 - accuracy: 0.4394\n",
            "Epoch 13/20\n",
            "42/42 [==============================] - 63s 1s/step - loss: 1.8735 - accuracy: 0.4501\n",
            "Epoch 14/20\n",
            "42/42 [==============================] - 63s 1s/step - loss: 1.8386 - accuracy: 0.4599\n",
            "Epoch 15/20\n",
            "42/42 [==============================] - 63s 1s/step - loss: 1.8177 - accuracy: 0.4677\n",
            "Epoch 16/20\n",
            "42/42 [==============================] - 63s 1s/step - loss: 1.7834 - accuracy: 0.4759\n",
            "Epoch 17/20\n",
            "42/42 [==============================] - 63s 1s/step - loss: 1.7607 - accuracy: 0.4820\n",
            "Epoch 18/20\n",
            "42/42 [==============================] - 63s 1s/step - loss: 1.7363 - accuracy: 0.4885\n",
            "Epoch 19/20\n",
            "42/42 [==============================] - 63s 1s/step - loss: 1.7164 - accuracy: 0.4940\n",
            "Epoch 20/20\n",
            "42/42 [==============================] - 63s 1s/step - loss: 1.7014 - accuracy: 0.4981\n"
          ],
          "name": "stdout"
        }
      ]
    },
    {
      "cell_type": "code",
      "metadata": {
        "id": "J4wenCz264fC",
        "colab_type": "code",
        "colab": {
          "base_uri": "https://localhost:8080/",
          "height": 255
        },
        "outputId": "96e672e9-791c-4bbb-ba33-d8332bac5a8d"
      },
      "source": [
        "main_model = keras.Sequential()\n",
        "main_model.add(tf.keras.layers.Embedding(vocab_size, embedding_dim,\n",
        "                              batch_input_shape=[1, None]))\n",
        "main_model.add(tf.keras.layers.LSTM(rnn_units,return_sequences=True,stateful=True,\n",
        "                              recurrent_initializer='glorot_uniform',\n",
        "                              recurrent_regularizer=keras.regularizers.l2(0.01)\n",
        "                              ))\n",
        "main_model.add(tf.keras.layers.Dense(vocab_size))\n",
        "\n",
        "main_model.set_weights(model.get_weights())\n",
        "main_model.summary()"
      ],
      "execution_count": 44,
      "outputs": [
        {
          "output_type": "stream",
          "text": [
            "Model: \"sequential_11\"\n",
            "_________________________________________________________________\n",
            "Layer (type)                 Output Shape              Param #   \n",
            "=================================================================\n",
            "embedding_11 (Embedding)     (1, None, 256)            12288     \n",
            "_________________________________________________________________\n",
            "lstm_8 (LSTM)                (1, None, 1024)           5246976   \n",
            "_________________________________________________________________\n",
            "dense_11 (Dense)             (1, None, 48)             49200     \n",
            "=================================================================\n",
            "Total params: 5,308,464\n",
            "Trainable params: 5,308,464\n",
            "Non-trainable params: 0\n",
            "_________________________________________________________________\n"
          ],
          "name": "stdout"
        }
      ]
    },
    {
      "cell_type": "code",
      "metadata": {
        "id": "B0Zr4oM6666b",
        "colab_type": "code",
        "colab": {
          "base_uri": "https://localhost:8080/",
          "height": 357
        },
        "outputId": "183c9f3d-bf52-4c79-b0cb-dad3df4e0bc7"
      },
      "source": [
        "print(generate_text(main_model, start_string=u\"که ایران چوباغیست خرم بهار\", temperature=1.5))"
      ],
      "execution_count": 48,
      "outputs": [
        {
          "output_type": "stream",
          "text": [
            "که ایران چوباغیست خرم بهار \n",
            " یکایچ آزود ناش پیایمشن \t به روششید بستندگنع زره غم \n",
            " گمیل وزورگ‌ان به آراغ کشاد \n",
            " جهای دشامر آفرزگان آتیخ \t پردده توراب دازشتر دیده‌شگردگانه \n",
            " بوم کسگه اندرد بنشایش \t شنش نکسند منس رطاو گویرهک کرترگ \t چوزوآتسپ باپوس وتخت یکی \t به جزشم نگراوی فنعتابود \t همه خمی نشست تازیزه دست بازخیم \n",
            " ترابری فرش از راستیچورهٔ \t درنگند درست کآوکاه سرید \n",
            " نیامد بهفالستن شمشود کرد \t برآیدش شاهی دله ای خسزون \n",
            " من بپیرویان وسبد نستیم گفت \n",
            " وفغن برمفدند بستی کمانی بگ \t هرک شک جایدیودن بهفند هم \t بپریاوننید آفران گرز شهنخت \n",
            " چنین یزهدونش بوپیچ و رسید ج \t هر کاوشگد چو شهر فراستورفزای \t که آهیبای دل او دیقان طوس \n",
            " امراده دتر بگذیر جامگهاد \n",
            " اسپی اندش هزارگاند اعن فوند ودشت \n",
            " خردم اورد هفتا کزاد ویبسگاه \t نینم آگنک میدنش سودفوی \n",
            " جهانش آتب ویسراگانگرد دوی \t خواسان یلچ ازو رختش جای بخردن \t هش جونیخضت باشد نشاراسر \n",
            " فر آقبجلذر سپارش آنشکچ \n",
            " خوبرد چوند بساعنا بفرم کنست \n",
            " بر بیشهن بلشکرا نه ایموراند \n",
            " چوان خدا دیگر سپهرسفزوند \t سوی هر زدن فتی دابید گرف \n",
            " سبند ر سه منسی‌گر پسرد دبازین \n",
            " وزینی فزاکه مرد ایانشن فریا\n"
          ],
          "name": "stdout"
        }
      ]
    },
    {
      "cell_type": "code",
      "metadata": {
        "id": "aa_kGUq8MT6s",
        "colab_type": "code",
        "colab": {}
      },
      "source": [
        "model.save(\"char_lstm.h5\")"
      ],
      "execution_count": 0,
      "outputs": []
    }
  ]
}